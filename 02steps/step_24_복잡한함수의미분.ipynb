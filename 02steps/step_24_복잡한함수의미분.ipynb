{
 "metadata": {
  "language_info": {
   "codemirror_mode": {
    "name": "ipython",
    "version": 3
   },
   "file_extension": ".py",
   "mimetype": "text/x-python",
   "name": "python",
   "nbconvert_exporter": "python",
   "pygments_lexer": "ipython3",
   "version": "3.8.5-final"
  },
  "orig_nbformat": 2,
  "kernelspec": {
   "name": "python3",
   "display_name": "Python 3.8.5 64-bit (conda)",
   "metadata": {
    "interpreter": {
     "hash": "97ae724bfa85b9b34df7982b8bb8c7216f435b92902d749e4263f71162bea840"
    }
   }
  }
 },
 "nbformat": 4,
 "nbformat_minor": 2,
 "cells": [
  {
   "source": [
    "# Step24, 복잡한 함수의 미분\n",
    "\n",
    "복잡한 수식의 미분 몇 가지를 풀어본다.  \n",
    "최적화 문제에서 자주 사용되는 테스트 함수를 다뤄본다.  \n",
    "\n",
    "최적화 문제의 테스트 함수 : 다양한 최적화 기법이 '얼마나 좋은가'를 평가하는데 사용되는 함수  \n",
    "'벤치마크'용 함수 "
   ],
   "cell_type": "markdown",
   "metadata": {}
  },
  {
   "source": [
    "## 24.1 Sphere 함수\n",
    "\n",
    "$$z = x^2 + y^2$$\n",
    "\n",
    "x에 대한 z의 미분값, y에 대한 z의 미분값 $$(\\frac{\\partial z}{\\partial x} 와 \\frac{\\partial z}{\\partial y})$$\n",
    "\n",
    "\n",
    "$$\\frac{\\partial z}{\\partial x} = 2x, \\frac{\\partial z}{\\partial y}=2y$$"
   ],
   "cell_type": "markdown",
   "metadata": {}
  },
  {
   "cell_type": "code",
   "execution_count": 13,
   "metadata": {},
   "outputs": [
    {
     "output_type": "stream",
     "name": "stdout",
     "text": [
      "2.0 2.0\n"
     ]
    }
   ],
   "source": [
    "if '__file__' in globals():\n",
    "    import os, sys\n",
    "    sys.path.append(os.path.join(os.path.dirname(__file__), '..'))\n",
    "\n",
    "import numpy as np\n",
    "from dezero import Variable\n",
    "\n",
    "def sphere(x,y):\n",
    "    z = x ** 2 + y ** 2\n",
    "    return z \n",
    "\n",
    "x = Variable(np.array(1.0))\n",
    "y = Variable(np.array(1.0))\n",
    "z = sphere(x,y)\n",
    "z.backward()\n",
    "print(x.grad, y.grad)"
   ]
  },
  {
   "source": [
    "## 24.2 matyas 함수 \n",
    "\n",
    "$$z=0.26(x^2+y^2)-0.48xy$$"
   ],
   "cell_type": "markdown",
   "metadata": {}
  },
  {
   "cell_type": "code",
   "execution_count": 15,
   "metadata": {},
   "outputs": [
    {
     "output_type": "stream",
     "name": "stdout",
     "text": [
      "0.040000000000000036 0.040000000000000036\n"
     ]
    }
   ],
   "source": [
    "def matyas(x,y):\n",
    "    z = 0.26 * (x**2 + y**2) - 0.48*x*y\n",
    "    return z \n",
    "\n",
    "x = Variable(np.array(1.0))\n",
    "y = Variable(np.array(1.0))\n",
    "z = matyas(x,y)\n",
    "z.backward()\n",
    "print(x.grad, y.grad)"
   ]
  },
  {
   "cell_type": "code",
   "execution_count": 16,
   "metadata": {},
   "outputs": [],
   "source": [
    "# 만약 사칙연산 연산자를 사용할 수 없는 경우 matyas 함수 나타내기 \n",
    "def matyas(x,y):\n",
    "    z = sub(mul(0.26,add(pow(x,2), pow(y,2))), mul(0.48, mul(x,y)))\n",
    "    return z"
   ]
  },
  {
   "source": [
    "## 24.3 Goldstein-Price 함수 \n",
    "\n",
    "$$f(x,y)=[1+(x+y+1)^2(19-14x+3x^2-14y+6xt+3y^2)]*[30+(2x-3y)^2(18-32x+12x^2+48y-36xy+27y^2)]$$"
   ],
   "cell_type": "markdown",
   "metadata": {}
  },
  {
   "source": [
    "def goldstein(x,y):\n",
    "    z = (1 + (x+y+1)**2 * (19 - 14*x + 3*x**2 - 14*y + 6*x*y + 3*y**2)) * \\\n",
    "        (30 + (2*x - 3*y)**2 * (18 - 32*x + 12*x**2 + 48*y - 36*x*y + 27*y**2))\n",
    "    return z"
   ],
   "cell_type": "code",
   "metadata": {},
   "execution_count": 19,
   "outputs": []
  },
  {
   "cell_type": "code",
   "execution_count": 20,
   "metadata": {},
   "outputs": [
    {
     "output_type": "stream",
     "name": "stdout",
     "text": [
      "-5376.0 8064.0\n"
     ]
    }
   ],
   "source": [
    "x = Variable(np.array(1.0))\n",
    "y = Variable(np.array(1.0))\n",
    "z = goldstein(x,y)\n",
    "z.backward()\n",
    "print(x.grad, y.grad)"
   ]
  },
  {
   "cell_type": "code",
   "execution_count": null,
   "metadata": {},
   "outputs": [],
   "source": []
  }
 ]
}