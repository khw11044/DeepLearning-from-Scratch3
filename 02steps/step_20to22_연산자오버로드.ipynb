{
 "metadata": {
  "language_info": {
   "codemirror_mode": {
    "name": "ipython",
    "version": 3
   },
   "file_extension": ".py",
   "mimetype": "text/x-python",
   "name": "python",
   "nbconvert_exporter": "python",
   "pygments_lexer": "ipython3",
   "version": "3.8.5-final"
  },
  "orig_nbformat": 2,
  "kernelspec": {
   "name": "python3",
   "display_name": "Python 3.8.5 64-bit (conda)",
   "metadata": {
    "interpreter": {
     "hash": "97ae724bfa85b9b34df7982b8bb8c7216f435b92902d749e4263f71162bea840"
    }
   }
  }
 },
 "nbformat": 4,
 "nbformat_minor": 2,
 "cells": [
  {
   "source": [
    "# Step, 연산자 오버로드(1)\n",
    "\n",
    "Variable 인스턴스 a와 b가 있을때, y = a * b 처럼 사용하고 싶다.\n",
    "\n",
    "이전 Variable 코드를 가져온다."
   ],
   "cell_type": "markdown",
   "metadata": {}
  },
  {
   "cell_type": "code",
   "execution_count": 1,
   "metadata": {},
   "outputs": [],
   "source": [
    "import numpy as np\n",
    "import weakref\n",
    "\n",
    "class Variable:\n",
    "    def __init__(self, data, name=None):\n",
    "        if data is not None:\n",
    "            if not isinstance(data, np.ndarray):                            # 입력받는 데이터가 ndarray 구조가 아니면 오류 발생\n",
    "                raise TypeError('{} is not supported'.format(type(data)))\n",
    "\n",
    "        self.data = data        # 데이터 선언\n",
    "        self.name = name\n",
    "        self.grad = None        # 미분값 선언\n",
    "        self.creator = None     # 이 데이터가 어디출신인지, 어느 공장에서 만들어졌는지 표기\n",
    "        self.generation = 0     # 세대를 기록하는 변수\n",
    "    \n",
    "    @property\n",
    "    def shape(self):\n",
    "        return self.data.shape\n",
    "\n",
    "    @property\n",
    "    def ndim(self):\n",
    "        return self.data.ndim\n",
    "\n",
    "    @property\n",
    "    def size(self):\n",
    "        return self.data.size\n",
    "\n",
    "    @property\n",
    "    def dtype(self):\n",
    "        return self.data.dtype\n",
    "\n",
    "    def __len__(self):\n",
    "        return len(self.data)\n",
    "\n",
    "    def __repr__(self):\n",
    "        if self.data is None:\n",
    "            return 'variable(None)'\n",
    "        p = str(self.data).replace('\\n', '\\n' + ' ' * 9)\n",
    "        return 'variable(' + p + ')'\n",
    "\n",
    "    def set_creator(self, func):    # 생성자 = 공장 = 함수\n",
    "        self.creator = func \n",
    "        self.generation = func.generation + 1   # 세대를 기록한다(부모 세대 + 1)\n",
    "\n",
    "    def cleargrad(self):\n",
    "        self.grad = None                        # 미분값 초기화\n",
    "\n",
    "    def backward(self, retain_grad=False):      # 추가되는곳 : \n",
    "        if self.grad is None:\n",
    "            self.grad = np.ones_like(self.data)     # 미분값이 없으면 모두 1로 구성된 행렬\n",
    "\n",
    "        funcs = []                      # <-- 바뀐부분\n",
    "        seen_set = set()                # 집합은 중복을 막는다.\n",
    "\n",
    "        def add_func(f):\n",
    "            if f not in seen_set:\n",
    "                funcs.append(f)\n",
    "                seen_set.add(f)\n",
    "                funcs.sort(key=lambda x: x.generation)\n",
    "\n",
    "        add_func(self.creator)              # DezZero 함수 리스트를 세대순으로 정렬하는 역할 \n",
    "                                            # 그결과 funcs.pop()은 자동으로 세대가 가장 큰 DeZero 함수 순으로 꺼낸다. \n",
    "\n",
    "        while funcs:\n",
    "            f = funcs.pop()                         # 함수들을 하나씩 뽑는다.\n",
    "            gys = [output().grad for output in f.outputs]     # 출력변수인 outputs에 담겨있는 미분값(.grad)들을 리스트에 담는다\n",
    "            gxs = f.backward(*gys)                          # f의 역전파를 호출한다. *를 붙혀 리스트를 풀면서 넣어준다.(리스트 언팩)\n",
    "            if not isinstance(gxs, tuple):                  # gxs가 튜플이 아니면 튜플로 변환한다.\n",
    "                gxs = (gxs,)\n",
    "\n",
    "            for x, gx in zip(f.inputs, gxs):                # gxs와 f.inputs의 각 원소는 서로 대응 관계\n",
    "                if x.grad is None:\n",
    "                    x.grad = gx                             # 역전파로 전파되는 미분값을 Variable의 인스턴스 변수 grad에 저장\n",
    "                else:\n",
    "                    x.grad = x.grad + gx    # x.grad가 None이 아니라 기존에 가지고 있는 값이 있다면 가지고 있는 값에 gx를 추가로 더한다.\n",
    "\n",
    "                if x.creator is not None:\n",
    "                    add_func(x.creator)      # <-- 바뀐부분, 수정전: funcs.append(x.creator) 출처가 있는 데이터를 add_funcs에 넣는다.\n",
    "            \n",
    "            if not retain_grad:\n",
    "                for y in f.outputs:\n",
    "                    y().grad = None "
   ]
  },
  {
   "source": [
    "Function 코드도 가져온다."
   ],
   "cell_type": "markdown",
   "metadata": {}
  },
  {
   "cell_type": "code",
   "execution_count": 2,
   "metadata": {},
   "outputs": [],
   "source": [
    "def as_array(x):\n",
    "    if np.isscalar(x):\n",
    "        return np.array(x)      # 스칼라이면 array로 바꿔서 리턴\n",
    "    return x                    # 스칼라 아니면(array이면) 그대로 리턴\n",
    "\n",
    "\n",
    "class Function:\n",
    "    def __call__(self, *inputs):\n",
    "        xs = [x.data for x in inputs]                       # 가변길이 인수를 다루기위해, 변수를 리스트에 담아 취급\n",
    "        ys = self.forward(*xs)\n",
    "        if not isinstance(ys, tuple):\n",
    "            ys = (ys,)\n",
    "        outputs = [Variable(as_array(y)) for y in ys]       # 가변길이 입력이므로 가변길이 출력을 리스트로 담는다\n",
    "\n",
    "        self.generation = max([x.generation for x in inputs])   # inputs의 generation중에 가장 큰것\n",
    "\n",
    "        for output in outputs:\n",
    "            output.set_creator(self)                     # 각각의 output들이 어디 출신 변수인지 정해짐, 자신이 창조자라고 원산지 표시를 함\n",
    "\n",
    "        self.inputs = inputs\n",
    "        #self.outputs = outputs\n",
    "        self.outputs = [weakref.ref(output) for output in outputs]\n",
    "        return outputs if len(outputs) > 1 else outputs[0]  # 리스트의 원소가 하나라면 첫번째 원소를 반환한다, 해당 변수를 직접 돌려준다\n",
    "\n",
    "    def forward(self, xs):\n",
    "        raise NotImplementedError()\n",
    "\n",
    "    def backward(self, gys):\n",
    "        raise NotImplementedError()\n"
   ]
  },
  {
   "cell_type": "code",
   "execution_count": 3,
   "metadata": {},
   "outputs": [],
   "source": [
    "class Square(Function):\n",
    "    def forward(self, x):\n",
    "        y = x ** 2\n",
    "        return y\n",
    "\n",
    "    def backward(self, gy):\n",
    "        x = self.inputs[0].data\n",
    "        gx = 2 * x * gy\n",
    "        return gx\n",
    "\n",
    "def square(x):\n",
    "    return Square()(x)\n",
    "\n",
    "\n",
    "class Add(Function):\n",
    "    def forward(self, x0, x1):\n",
    "        y = x0 + x1\n",
    "        return y\n",
    "\n",
    "    def backward(self, gy):\n",
    "        return gy, gy\n",
    "\n",
    "\n",
    "def add(x0, x1):\n",
    "    x1 = as_array(x1)\n",
    "    return Add()(x0, x1)"
   ]
  },
  {
   "source": [
    "덧셈은 되어있으니 곱셈을 구현해보자"
   ],
   "cell_type": "markdown",
   "metadata": {}
  },
  {
   "cell_type": "code",
   "execution_count": 4,
   "metadata": {},
   "outputs": [],
   "source": [
    "class Mul(Function):\n",
    "    def forward(self, x0, x1):\n",
    "        y = x0 * x1 \n",
    "        return y \n",
    "    def backward(self, gy):\n",
    "        x0, x1 = self.inputs[0].data, self.inputs[1].data \n",
    "        return gy * x1, gy * x0\n",
    "\n",
    "def mul(x0, x1):\n",
    "    return Mul()(x0,x1)"
   ]
  },
  {
   "cell_type": "code",
   "execution_count": 5,
   "metadata": {},
   "outputs": [
    {
     "output_type": "stream",
     "name": "stdout",
     "text": [
      "variable(7.0)\n2.0\n3.0\n"
     ]
    }
   ],
   "source": [
    "a = Variable(np.array(3.0))\n",
    "b = Variable(np.array(2.0))\n",
    "c = Variable(np.array(1.0))\n",
    "\n",
    "y = add(mul(a,b),c)\n",
    "y.backward() \n",
    "\n",
    "print(y)\n",
    "print(a.grad)\n",
    "print(b.grad)"
   ]
  },
  {
   "source": [
    "하지만 y = add(mul(a,b),c) 방식은 불편하고 원하던게 아니다. \n",
    "y = a*b + c 이런식의 표현을 원한다.\n",
    "\n",
    "이런 연산자를 사용할 수 있도록 Variable을 확장할때, **연산자 오버로드**(operator overload)를 이용한다.\n",
    "\n",
    "파이썬에서는 __add__ 와 __mul__ 같은 특수 메서드를 정의함으로써 사용자 지정 함수가 호출되도록 한다."
   ],
   "cell_type": "markdown",
   "metadata": {}
  },
  {
   "source": [
    "## 20.2 연산자 오버로드 \n",
    "\n",
    "곱셈 연산자 *를 오버로드  \n",
    "곱셈의 특수 메서드는 \\_\\_mul\\_\\_(self, other)  \n",
    "\\_\\_mul\\_\\_ 메서드를 정의(구현)하면 *연산자를 사용할때 \\_\\_mul\\_\\_ 메서드가 호출된다.\n",
    "\n",
    "~~~python\n",
    "class Variable:\n",
    "\n",
    "    # .. 생략 ..\n",
    "\n",
    "    def __mul__(self, other):\n",
    "        return mul(self, other)\n",
    "~~~\n",
    "위 코드처럼 \\__add\\__ 와 \\__mul\\__ 를 추가하면된다.\n",
    "\n",
    "~~~python \n",
    "a = Variable(np.array(3.0))\n",
    "b = Variable(np.array(2.0))\n",
    "y = a*b\n",
    "print(y)\n",
    "~~~\n",
    "\n"
   ],
   "cell_type": "markdown",
   "metadata": {}
  },
  {
   "source": [
    "더 간단하게 구현하기 "
   ],
   "cell_type": "markdown",
   "metadata": {}
  },
  {
   "cell_type": "code",
   "execution_count": 6,
   "metadata": {},
   "outputs": [],
   "source": [
    "Variable.__mul__ = mul \n",
    "Variable.__add__ = add"
   ]
  },
  {
   "cell_type": "code",
   "execution_count": 7,
   "metadata": {},
   "outputs": [
    {
     "output_type": "stream",
     "name": "stdout",
     "text": [
      "variable(7.0)\n2.0\n3.0\n"
     ]
    }
   ],
   "source": [
    "a = Variable(np.array(3.0))\n",
    "b = Variable(np.array(2.0))\n",
    "c = Variable(np.array(1.0))\n",
    "\n",
    "y = a * b + c\n",
    "y.backward() \n",
    "\n",
    "print(y)\n",
    "print(a.grad)\n",
    "print(b.grad)"
   ]
  },
  {
   "source": [
    "# Step21, 연산자 오버로드(2)\n",
    "\n",
    "지금까지 Variable 인스턴스 a와 b가 있을 때, a*b, a+b를 수행할수 있었다.  \n",
    "하지만 a * np.array(2.0), 3 + b (ndarray 인스턴스와 함께 사용, 수치 데이터와 함께 사용) 을 할 수 없다.\n",
    "\n",
    "Variable 인스턴스와 ndarray 인스턴스  \n",
    "Variable 인스턴스와 int,float 연산"
   ],
   "cell_type": "markdown",
   "metadata": {}
  },
  {
   "source": [
    "## 21.1 ndarray와 함께 사용하기 \n",
    "\n",
    "Variable 인스턴스 a  \n",
    "a * np.array(2.0) --> ndarray 인스턴스를 자동으로 Variable 인스턴스로 변환 : np.array(2.0) ==> Variable(np.array(2.0))\n",
    "\n",
    "인수로 주어진 객체를 Variable 인스턴스로 변환해주는 함수 "
   ],
   "cell_type": "markdown",
   "metadata": {}
  },
  {
   "cell_type": "code",
   "execution_count": 8,
   "metadata": {},
   "outputs": [],
   "source": [
    "def as_variable(obj):\n",
    "    if isinstance(obj, Variable):\n",
    "        return obj \n",
    "    return Variable(obj)            # 인자로 받는 객체 인스턴스가 Variable이면 그대로 리턴, 아니면 Variable 씌어서 리턴"
   ]
  },
  {
   "source": [
    "class Function:\n",
    "    def __call__(self, *inputs):\n",
    "        inputs = [as_variable(x) for x in inputs]           # 추가한 부분\n",
    "        xs = [x.data for x in inputs]                       # 가변길이 인수를 다루기위해, 변수를 리스트에 담아 취급\n",
    "        ys = self.forward(*xs)\n",
    "        if not isinstance(ys, tuple):\n",
    "            ys = (ys,)\n",
    "        outputs = [Variable(as_array(y)) for y in ys]       # 가변길이 입력이므로 가변길이 출력을 리스트로 담는다\n",
    "\n",
    "        self.generation = max([x.generation for x in inputs])   # inputs의 generation중에 가장 큰것\n",
    "\n",
    "        for output in outputs:\n",
    "            output.set_creator(self)                     # 각각의 output들이 어디 출신 변수인지 정해짐, 자신이 창조자라고 원산지 표시를 함\n",
    "\n",
    "        self.inputs = inputs\n",
    "        #self.outputs = outputs\n",
    "        self.outputs = [weakref.ref(output) for output in outputs]\n",
    "        return outputs if len(outputs) > 1 else outputs[0]  # 리스트의 원소가 하나라면 첫번째 원소를 반환한다, 해당 변수를 직접 돌려준다\n",
    "\n",
    "    def forward(self, xs):\n",
    "        raise NotImplementedError()\n",
    "\n",
    "    def backward(self, gys):\n",
    "        raise NotImplementedError()"
   ],
   "cell_type": "code",
   "metadata": {},
   "execution_count": 9,
   "outputs": []
  },
  {
   "cell_type": "code",
   "execution_count": 10,
   "metadata": {},
   "outputs": [],
   "source": [
    "class Square(Function):\n",
    "    def forward(self, x):\n",
    "        y = x ** 2\n",
    "        return y\n",
    "\n",
    "    def backward(self, gy):\n",
    "        x = self.inputs[0].data\n",
    "        gx = 2 * x * gy\n",
    "        return gx\n",
    "\n",
    "def square(x):\n",
    "    return Square()(x)\n",
    "\n",
    "\n",
    "class Add(Function):\n",
    "    def forward(self, x0, x1):\n",
    "        y = x0 + x1\n",
    "        return y\n",
    "\n",
    "    def backward(self, gy):\n",
    "        return gy, gy\n",
    "\n",
    "\n",
    "def add(x0,x1):\n",
    "    x1 = as_array(x1)\n",
    "    return Add()(x0,x1)\n",
    "\n",
    "\n",
    "class Mul(Function):\n",
    "    def forward(self, x0, x1):\n",
    "        y = x0 * x1 \n",
    "        return y \n",
    "    \n",
    "    def backward(self, gy):\n",
    "        x0, x1 = self.inputs[0].data, self.inputs[1].data \n",
    "        return gy * x1, gy *x0\n",
    "\n",
    "def mul(x0, x1):\n",
    "    x1 = as_array(x1)\n",
    "    return Mul()(x0, x1)"
   ]
  },
  {
   "source": [
    "~~~python \n",
    "class Function:\n",
    "    def __call__(self, *inputs):\n",
    "        inputs = [as_variable(x) for x in inputs]           # 추가한 부분\n",
    "        xs = [x.data for x in inputs]                       # 가변길이 인수를 다루기위해, 변수를 리스트에 담아 취급\n",
    "~~~\n",
    "\n",
    "인수 inputs에 담긴 각각의 원소 x를 Variable 인스턴스로 반환  \n",
    "따라서 ndarray 인스턴스가 주어지면 Variable 인스턴스로 반환  \n",
    "\n",
    "그러면 이후 처리는 모든 변수가 Variable 인스턴스인 상태로 진행\n",
    "\n",
    "**NOTE_** 모든 함수(연산)는 Function 클래스를 상속하므로 실제 연산은 Function 클래스의 \\__call\\__ 메서드에서 이루어진다.  \n",
    "따라서 \\__call\\__ 메서드에 가한 수정은 DeZero에서 사용하는 모든 함수에 적용된다.\n",
    "\n"
   ],
   "cell_type": "markdown",
   "metadata": {}
  },
  {
   "cell_type": "code",
   "execution_count": 11,
   "metadata": {},
   "outputs": [
    {
     "output_type": "stream",
     "name": "stdout",
     "text": [
      "variable(5.0)\n"
     ]
    }
   ],
   "source": [
    "x = Variable(np.array(2.0))\n",
    "y = x + np.array(3.0)\n",
    "print(y)"
   ]
  },
  {
   "source": [
    "## 21.2 float, int"
   ],
   "cell_type": "markdown",
   "metadata": {}
  },
  {
   "cell_type": "code",
   "execution_count": 12,
   "metadata": {},
   "outputs": [],
   "source": [
    "def add(x0,x1):\n",
    "    x1 = as_array(x1)\n",
    "    return Add()(x0,x1)"
   ]
  },
  {
   "source": [
    "x = Variable(np.array(2.0))\n",
    "y = x + 3.0\n",
    "print(y)"
   ],
   "cell_type": "code",
   "metadata": {},
   "execution_count": 13,
   "outputs": [
    {
     "output_type": "stream",
     "name": "stdout",
     "text": [
      "variable(5.0)\n"
     ]
    }
   ]
  },
  {
   "source": [
    "### 하지만  \n",
    "x = Variable(np.array(2.0))  \n",
    "y = 3.0 + x 인 경우는?  \n",
    "y = np.array(3.0) + x 인 경우는?"
   ],
   "cell_type": "markdown",
   "metadata": {}
  },
  {
   "source": [
    "## 21.3 문제점 1: 좌항이 float나 int인 경우"
   ],
   "cell_type": "markdown",
   "metadata": {}
  },
  {
   "source": [
    "y = 2.0 * x 인 경우 오류 발생과정 \n",
    "\n",
    "1. 연산자 왼쪽에 있는 2.0의 \\__mul\\__ 메서드를 호출하려 시도한다. \n",
    "2. 하지만 2.0은 float 타입이므로 \\__mul\\__ 메서드가 구현되어 있지 않다.\n",
    "3. 다음은 * 연산자 오른쪽에 있는 x의 특수 메서드를 호출하려 시도한다.  \n",
    "4. x가 오른쪽에 있기 때문에 ( \\__mul\\__ 대신 )  \\__rmul\\__ 메서드를 호출하려 시도한다.  \n",
    "5. 하지만 Variable 인스턴스에는 \\__rmul\\__ 메서드가 구현되어 있지 않다. \n",
    "\n",
    "따라서 \\__rmul\\__ 메서드를 구현해준다."
   ],
   "cell_type": "markdown",
   "metadata": {}
  },
  {
   "cell_type": "code",
   "execution_count": 14,
   "metadata": {},
   "outputs": [],
   "source": [
    "Variable.__add__ = add \n",
    "Variable.__radd__ = add \n",
    "Variable.__mul__ = mul \n",
    "Variable.__rmul__ = mul "
   ]
  },
  {
   "cell_type": "code",
   "execution_count": 15,
   "metadata": {},
   "outputs": [
    {
     "output_type": "stream",
     "name": "stdout",
     "text": [
      "variable(3.0)\n"
     ]
    }
   ],
   "source": [
    "x = Variable(np.array(2.0))\n",
    "y = 1.0 + x \n",
    "print(y)"
   ]
  },
  {
   "cell_type": "code",
   "execution_count": 16,
   "metadata": {},
   "outputs": [
    {
     "output_type": "stream",
     "name": "stdout",
     "text": [
      "variable(7.0)\n"
     ]
    }
   ],
   "source": [
    "x = Variable(np.array(2.0))\n",
    "y = 3.0 * x + 1.0 \n",
    "print(y)"
   ]
  },
  {
   "source": [
    "## 21.4 문제점 2: 좌항이 ndarray 인스턴스인 경우"
   ],
   "cell_type": "markdown",
   "metadata": {}
  },
  {
   "cell_type": "code",
   "execution_count": 17,
   "metadata": {},
   "outputs": [
    {
     "output_type": "stream",
     "name": "stdout",
     "text": [
      "[variable([3.])]\n"
     ]
    }
   ],
   "source": [
    "x = Variable(np.array([1.0]))\n",
    "y = np.array([2.0]) + x \n",
    "print(y)"
   ]
  },
  {
   "source": [
    "~~~python\n",
    "x = Variable(np.array([1.0]))\n",
    "y = np.array([2.0]) + x \n",
    "~~~\n",
    "\n",
    "위와 같은 경우  \n",
    "좌항은 ndarray 인스턴스이고  \n",
    "우항은 Variable 인스턴스  \n",
    "\n",
    "좌항인 ndarray 인스턴스의 \\__add\\__ 메서드가 호출된다.  \n",
    "하지만 우리는 우항인 Variable 인스턴스의 \\__radd\\__ 메서드가 호출되길 원한다.\n",
    "\n",
    "**'연산자 우선순위'** 지정 해야한다.\n",
    "Variable 인스턴스 속성에 \\__array_priority\\__ 를 추가하고 그 값을 큰 정수로 설정해야한다.\n",
    "\n",
    "~~~python \n",
    "class Variable:\n",
    "    __array_priority__ = 200\n",
    "~~~"
   ],
   "cell_type": "markdown",
   "metadata": {}
  },
  {
   "cell_type": "code",
   "execution_count": 18,
   "metadata": {},
   "outputs": [],
   "source": [
    "import weakref\n",
    "import numpy as np\n",
    "import contextlib\n",
    "\n",
    "\n",
    "class Config:\n",
    "    enable_backprop = True\n",
    "\n",
    "\n",
    "@contextlib.contextmanager\n",
    "def using_config(name, value):\n",
    "    old_value = getattr(Config, name)\n",
    "    setattr(Config, name, value)\n",
    "    try:\n",
    "        yield\n",
    "    finally:\n",
    "        setattr(Config, name, old_value)\n",
    "\n",
    "\n",
    "def no_grad():\n",
    "    return using_config('enable_backprop', False)\n",
    "\n",
    "\n",
    "class Variable:\n",
    "    __array_priority__ = 200\n",
    "\n",
    "    def __init__(self, data, name=None):\n",
    "        if data is not None:\n",
    "            if not isinstance(data, np.ndarray):                            # 입력받는 데이터가 ndarray 구조가 아니면 오류 발생\n",
    "                raise TypeError('{} is not supported'.format(type(data)))\n",
    "\n",
    "        self.data = data        # 데이터 선언\n",
    "        self.name = name\n",
    "        self.grad = None        # 미분값 선언\n",
    "        self.creator = None     # 이 데이터가 어디출신인지, 어느 공장에서 만들어졌는지 표기\n",
    "        self.generation = 0     # 세대를 기록하는 변수\n",
    "    \n",
    "    @property\n",
    "    def shape(self):\n",
    "        return self.data.shape\n",
    "\n",
    "    @property\n",
    "    def ndim(self):\n",
    "        return self.data.ndim\n",
    "\n",
    "    @property\n",
    "    def size(self):\n",
    "        return self.data.size\n",
    "\n",
    "    @property\n",
    "    def dtype(self):\n",
    "        return self.data.dtype\n",
    "\n",
    "    def __len__(self):\n",
    "        return len(self.data)\n",
    "\n",
    "    def __repr__(self):\n",
    "        if self.data is None:\n",
    "            return 'variable(None)'\n",
    "        p = str(self.data).replace('\\n', '\\n' + ' ' * 9)\n",
    "        return 'variable(' + p + ')'\n",
    "\n",
    "    def set_creator(self, func):    # 생성자 = 공장 = 함수\n",
    "        self.creator = func \n",
    "        self.generation = func.generation + 1   # 세대를 기록한다(부모 세대 + 1)\n",
    "\n",
    "    def cleargrad(self):\n",
    "        self.grad = None                        # 미분값 초기화\n",
    "\n",
    "    def backward(self, retain_grad=False):      # 추가되는곳 : \n",
    "        if self.grad is None:\n",
    "            self.grad = np.ones_like(self.data)     # 미분값이 없으면 모두 1로 구성된 행렬\n",
    "\n",
    "        funcs = []                      # <-- 바뀐부분\n",
    "        seen_set = set()                # 집합은 중복을 막는다.\n",
    "\n",
    "        def add_func(f):\n",
    "            if f not in seen_set:\n",
    "                funcs.append(f)\n",
    "                seen_set.add(f)\n",
    "                funcs.sort(key=lambda x: x.generation)\n",
    "\n",
    "        add_func(self.creator)              # DezZero 함수 리스트를 세대순으로 정렬하는 역할 \n",
    "                                            # 그결과 funcs.pop()은 자동으로 세대가 가장 큰 DeZero 함수 순으로 꺼낸다. \n",
    "\n",
    "        while funcs:\n",
    "            f = funcs.pop()                         # 함수들을 하나씩 뽑는다.\n",
    "            gys = [output().grad for output in f.outputs]     # 출력변수인 outputs에 담겨있는 미분값(.grad)들을 리스트에 담는다\n",
    "            gxs = f.backward(*gys)                          # f의 역전파를 호출한다. *를 붙혀 리스트를 풀면서 넣어준다.(리스트 언팩)\n",
    "            if not isinstance(gxs, tuple):                  # gxs가 튜플이 아니면 튜플로 변환한다.\n",
    "                gxs = (gxs,)\n",
    "\n",
    "            for x, gx in zip(f.inputs, gxs):                # gxs와 f.inputs의 각 원소는 서로 대응 관계\n",
    "                if x.grad is None:\n",
    "                    x.grad = gx                             # 역전파로 전파되는 미분값을 Variable의 인스턴스 변수 grad에 저장\n",
    "                else:\n",
    "                    x.grad = x.grad + gx    # x.grad가 None이 아니라 기존에 가지고 있는 값이 있다면 가지고 있는 값에 gx를 추가로 더한다.\n",
    "\n",
    "                if x.creator is not None:\n",
    "                    add_func(x.creator)      # <-- 바뀐부분, 수정전: funcs.append(x.creator) 출처가 있는 데이터를 add_funcs에 넣는다.\n",
    "            \n",
    "            if not retain_grad:\n",
    "                for y in f.outputs:\n",
    "                    y().grad = None \n",
    "\n",
    "\n",
    "def as_variable(obj):\n",
    "    if isinstance(obj, Variable):\n",
    "        return obj \n",
    "    return Variable(obj)            # 인자로 받는 객체 인스턴스가 Variable이면 그대로 리턴, 아니면 Variable 씌어서 리턴\n",
    "\n",
    "\n",
    "def as_array(x):\n",
    "    if np.isscalar(x):\n",
    "        return np.array(x)      # 스칼라이면 array로 바꿔서 리턴\n",
    "    return x                    # 스칼라 아니면(array이면) 그대로 리턴\n",
    "\n",
    "\n",
    "class Function:\n",
    "    def __call__(self, *inputs):\n",
    "        inputs = [as_variable(x) for x in inputs]           # 추가한 부분\n",
    "        xs = [x.data for x in inputs]                       # 가변길이 인수를 다루기위해, 변수를 리스트에 담아 취급\n",
    "        ys = self.forward(*xs)\n",
    "        if not isinstance(ys, tuple):\n",
    "            ys = (ys,)\n",
    "        outputs = [Variable(as_array(y)) for y in ys]       # 가변길이 입력이므로 가변길이 출력을 리스트로 담는다\n",
    "\n",
    "        self.generation = max([x.generation for x in inputs])   # inputs의 generation중에 가장 큰것\n",
    "\n",
    "        for output in outputs:\n",
    "            output.set_creator(self)                     # 각각의 output들이 어디 출신 변수인지 정해짐, 자신이 창조자라고 원산지 표시를 함\n",
    "\n",
    "        self.inputs = inputs\n",
    "        #self.outputs = outputs\n",
    "        self.outputs = [weakref.ref(output) for output in outputs]\n",
    "        return outputs if len(outputs) > 1 else outputs[0]  # 리스트의 원소가 하나라면 첫번째 원소를 반환한다, 해당 변수를 직접 돌려준다\n",
    "\n",
    "    def forward(self, xs):\n",
    "        raise NotImplementedError()\n",
    "\n",
    "    def backward(self, gys):\n",
    "        raise NotImplementedError()\n",
    "\n",
    "\n",
    "class Add(Function):\n",
    "    def forward(self, x0, x1):\n",
    "        y = x0 + x1\n",
    "        return y\n",
    "\n",
    "    def backward(self, gy):\n",
    "        return gy, gy\n",
    "\n",
    "\n",
    "def add(x0, x1):\n",
    "    x1 = as_array(x1)\n",
    "    return Add()(x0, x1)\n",
    "\n",
    "\n",
    "class Mul(Function):\n",
    "    def forward(self, x0, x1):\n",
    "        y = x0 * x1\n",
    "        return y\n",
    "\n",
    "    def backward(self, gy):\n",
    "        x0, x1 = self.inputs[0].data, self.inputs[1].data\n",
    "        return gy * x1, gy * x0\n",
    "\n",
    "\n",
    "def mul(x0, x1):\n",
    "    x1 = as_array(x1)\n",
    "    return Mul()(x0, x1)\n",
    "\n",
    "\n",
    "Variable.__add__ = add\n",
    "Variable.__radd__ = add\n",
    "Variable.__mul__ = mul\n",
    "Variable.__rmul__ = mul"
   ]
  },
  {
   "cell_type": "code",
   "execution_count": 19,
   "metadata": {},
   "outputs": [
    {
     "output_type": "stream",
     "name": "stdout",
     "text": [
      "variable(5.0)\n"
     ]
    }
   ],
   "source": [
    "x = Variable(np.array(2.0))\n",
    "y = x + np.array(3.0)\n",
    "print(y)"
   ]
  },
  {
   "cell_type": "code",
   "execution_count": 20,
   "metadata": {},
   "outputs": [
    {
     "output_type": "stream",
     "name": "stdout",
     "text": [
      "variable(5.0)\n"
     ]
    }
   ],
   "source": [
    "x = Variable(np.array(2.0))\n",
    "y = np.array(3.0) + x\n",
    "print(y)"
   ]
  },
  {
   "cell_type": "code",
   "execution_count": 21,
   "metadata": {},
   "outputs": [
    {
     "output_type": "stream",
     "name": "stdout",
     "text": [
      "variable(5.0)\nvariable(7.0)\n"
     ]
    }
   ],
   "source": [
    "y = x + 3.0\n",
    "print(y)\n",
    "\n",
    "y = 3.0 * x + 1.0\n",
    "print(y)"
   ]
  },
  {
   "source": [
    "# Step 22, 연산자 오버로드(3)\n",
    "\n",
    "뺄셈, 나눗셈, 거듭제곱 연산도 추가해보자.\n",
    "\n",
    "| 특수 메서드     |   예   | \n",
    "| --------------- | ----- |\n",
    "| __neg__(self) | -self |\n",
    "| __sub__(self,other) | self - other |\n",
    "| __rsub__(self,other) | other - self |\n",
    "| __truediv__(self,other) | self/other |\n",
    "| __rtruediv__(self,other) | other/self |\n",
    "| __pow__(self,other) | self**other |\n",
    "\n",
    "\\__neg\\__(self) 는 양수 -> 음수, 음수 -> 양수, 부호 연산자, 단항 연산자 \n",
    "\n",
    "나머지 이항 연산자, 적용 대상이 우항이냐 좌항이냐에 따라 2개의 특수 메서드 중 하나를 선별하여 호출해야한다. \n",
    "\n",
    "새로운 연산자를 추가하는 순서 \n",
    "- 1 Function 클래스를 상속하여 원하는 함수 클래스를 구현한다.(예:Mul 클래스)\n",
    "- 2 파이썬 함수로 사용할 수 있도록 한다(예:mul 함수)\n",
    "- 3 Variable 클래스의 연산자를 오버로드한다(예:Variable.\\__mul\\__ = mul)\n",
    "\n",
    "\n"
   ],
   "cell_type": "markdown",
   "metadata": {}
  },
  {
   "source": [
    "## 22.1 음수(부호 변환)\n",
    "\n",
    "음수의 미분은 y = -x 일떄, $$\\frac{\\partial y}{\\partial x} = -1$$  \n",
    "따라서 역전파는 상류(출력 쪽)에서 전해지는 미분에 -1을 곱하여 하류로 흘려보내 주면 된다."
   ],
   "cell_type": "markdown",
   "metadata": {}
  },
  {
   "cell_type": "code",
   "execution_count": 22,
   "metadata": {},
   "outputs": [
    {
     "output_type": "error",
     "ename": "ModuleNotFoundError",
     "evalue": "No module named 'DeZero'",
     "traceback": [
      "\u001b[1;31m---------------------------------------------------------------------------\u001b[0m",
      "\u001b[1;31mModuleNotFoundError\u001b[0m                       Traceback (most recent call last)",
      "\u001b[1;32m<ipython-input-22-ae49d3fff45f>\u001b[0m in \u001b[0;36m<module>\u001b[1;34m\u001b[0m\n\u001b[1;32m----> 1\u001b[1;33m \u001b[1;32mfrom\u001b[0m \u001b[0mDeZero\u001b[0m \u001b[1;32mimport\u001b[0m \u001b[0mVariable\u001b[0m\u001b[1;33m\u001b[0m\u001b[1;33m\u001b[0m\u001b[0m\n\u001b[0m\u001b[0;32m      2\u001b[0m \u001b[1;32mimport\u001b[0m \u001b[0mweakref\u001b[0m\u001b[1;33m\u001b[0m\u001b[1;33m\u001b[0m\u001b[0m\n\u001b[0;32m      3\u001b[0m \u001b[1;32mimport\u001b[0m \u001b[0mnumpy\u001b[0m \u001b[1;32mas\u001b[0m \u001b[0mnp\u001b[0m\u001b[1;33m\u001b[0m\u001b[1;33m\u001b[0m\u001b[0m\n\u001b[0;32m      4\u001b[0m \u001b[1;32mimport\u001b[0m \u001b[0mcontextlib\u001b[0m\u001b[1;33m\u001b[0m\u001b[1;33m\u001b[0m\u001b[0m\n",
      "\u001b[1;31mModuleNotFoundError\u001b[0m: No module named 'DeZero'"
     ]
    }
   ],
   "source": [
    "from DeZero import Variable\n",
    "import weakref\n",
    "import numpy as np\n",
    "import contextlib"
   ]
  },
  {
   "cell_type": "code",
   "execution_count": 23,
   "metadata": {},
   "outputs": [],
   "source": [
    "def as_variable(obj):\n",
    "    if isinstance(obj, Variable):\n",
    "        return obj \n",
    "    return Variable(obj)            # 인자로 받는 객체 인스턴스가 Variable이면 그대로 리턴, 아니면 Variable 씌어서 리턴\n",
    "\n",
    "\n",
    "def as_array(x):\n",
    "    if np.isscalar(x):\n",
    "        return np.array(x)      # 스칼라이면 array로 바꿔서 리턴\n",
    "    return x          \n",
    "\n",
    "class Function:\n",
    "    def __call__(self, *inputs):\n",
    "        inputs = [as_variable(x) for x in inputs]           # 추가한 부분\n",
    "        xs = [x.data for x in inputs]                       # 가변길이 인수를 다루기위해, 변수를 리스트에 담아 취급\n",
    "        ys = self.forward(*xs)\n",
    "        if not isinstance(ys, tuple):\n",
    "            ys = (ys,)\n",
    "        outputs = [Variable(as_array(y)) for y in ys]       # 가변길이 입력이므로 가변길이 출력을 리스트로 담는다\n",
    "\n",
    "        self.generation = max([x.generation for x in inputs])   # inputs의 generation중에 가장 큰것\n",
    "\n",
    "        for output in outputs:\n",
    "            output.set_creator(self)                     # 각각의 output들이 어디 출신 변수인지 정해짐, 자신이 창조자라고 원산지 표시를 함\n",
    "\n",
    "        self.inputs = inputs\n",
    "        #self.outputs = outputs\n",
    "        self.outputs = [weakref.ref(output) for output in outputs]\n",
    "        return outputs if len(outputs) > 1 else outputs[0]  # 리스트의 원소가 하나라면 첫번째 원소를 반환한다, 해당 변수를 직접 돌려준다\n",
    "\n",
    "    def forward(self, xs):\n",
    "        raise NotImplementedError()\n",
    "\n",
    "    def backward(self, gys):\n",
    "        raise NotImplementedError()"
   ]
  },
  {
   "cell_type": "code",
   "execution_count": 24,
   "metadata": {},
   "outputs": [],
   "source": [
    "class Neg(Function):\n",
    "    def forward(self, x):\n",
    "        return -x \n",
    "    \n",
    "    def backward(self, gy):\n",
    "        return -gy \n",
    "\n",
    "def neg(x):\n",
    "    return Neg()(x)\n",
    "\n",
    "Variable.__neg__ = neg"
   ]
  },
  {
   "cell_type": "code",
   "execution_count": 25,
   "metadata": {},
   "outputs": [
    {
     "output_type": "stream",
     "name": "stdout",
     "text": [
      "variable(-2.0)\n"
     ]
    }
   ],
   "source": [
    "x = Variable(np.array(2.0))\n",
    "y = -x \n",
    "print(y)"
   ]
  },
  {
   "source": [
    "## 22.2 뺄셈 \n",
    "\n",
    "뺄셈의 미분은 y = x0 - x1 일떄, $$\\frac{\\partial y}{\\partial x0} = 1, \\frac{\\partial y}{\\partial x1} = -1$$  \n",
    "따라서 역전파는 상류(출력 쪽)에서 전해지는 미분값에 1을 곱한값이 x0의 미분 결과  \n",
    "-1을 곱한값이 x1의 미분 결과\n",
    "\n",
    "x0,x1이 Variable 인스턴스  \n",
    "y = x0 - x1 계산 수행 가능  \n",
    "y = 2.0 - x1 같은 코드는 X   \n",
    "x의 \\__rsub\\__ 메서드가 호출  \n",
    "\n",
    "\\__rsub\\__(self,other) : 우항인 x가 인수 self에 전달된다.\n",
    "\n",
    "**CAUTION_** 덧셈과 곱셈은 좌항과 우항의 순서를 바꿔도 상관없다  \n",
    "하지만 뺄셈에서는 좌우를 구별해야 한다(x0 - x1 과 x1 - x0은 다르다)  \n",
    "따라서 우항을 대상으로 했을때 적용할 함수인 rsub(x0, x1)을 별도로 준비"
   ],
   "cell_type": "markdown",
   "metadata": {}
  },
  {
   "cell_type": "code",
   "execution_count": 26,
   "metadata": {},
   "outputs": [],
   "source": [
    "class Sub(Function):\n",
    "    def forward(self, x0, x1):\n",
    "        y = x0 - x1 \n",
    "        return y \n",
    "    \n",
    "    def backward(self, gy):\n",
    "        return gy, -gy\n",
    "\n",
    "def sub(x0, x1):\n",
    "    x1 = as_array(x1)\n",
    "    return Sub()(x0, x1)\n",
    "\n",
    "def rsub(x0, x1):\n",
    "    x1 = as_array(x1)\n",
    "    return Sub()(x1, x0)\n",
    "\n",
    "Variable.__sub__ = sub\n",
    "Variable.__rsub__ = rsub"
   ]
  },
  {
   "cell_type": "code",
   "execution_count": 27,
   "metadata": {},
   "outputs": [
    {
     "output_type": "stream",
     "name": "stdout",
     "text": [
      "variable(0.0)\nvariable(1.0)\n"
     ]
    }
   ],
   "source": [
    "x = Variable(np.array(2.0))\n",
    "y1 = 2.0 - x \n",
    "y2 = x - 1.0 \n",
    "print(y1)\n",
    "print(y2)"
   ]
  },
  {
   "source": [
    "## 22.3 나눗셈 \n",
    "\n",
    "나눗셈의 미분은 y = x0/x1 일때, $$\\frac{\\partial y}{\\partial x0} = 1/x1, \\frac{\\partial y}{\\partial x1} = -x0/(x1)^2$$  \n"
   ],
   "cell_type": "markdown",
   "metadata": {}
  },
  {
   "cell_type": "code",
   "execution_count": 28,
   "metadata": {},
   "outputs": [],
   "source": [
    "class Div(Function):\n",
    "    def forward(self, x0, x1):\n",
    "        y = x0 / x1 \n",
    "        return y \n",
    "    \n",
    "    def backward(self, gy):\n",
    "        x0, x1 = self.inputs[0].data, self.inputs[1].data \n",
    "        gx0 = gy / x1 \n",
    "        gx1 = gy * (-x0 / x1 ** 2)\n",
    "        return gx0, gx1 \n",
    "    \n",
    "def div(x0, x1):\n",
    "    x1 = as_array(x1)\n",
    "    return Div()(x0,x1)\n",
    "\n",
    "def rdiv(x0, x1):\n",
    "    x1 = as_array(x1)\n",
    "    return Div()(x1,x0)\n",
    "\n",
    "Variable.__truediv__ = div \n",
    "Variable.__rtruediv__ = rdiv"
   ]
  },
  {
   "source": [
    "## 22.4 거듭제곱\n",
    "\n",
    "거듭제곱은 $$y = x^c$$ 로 표현  \n",
    "거듭제곱의 미분 : $$\\frac{\\partial y}{\\partial x} = cx^{c-1}$$  \n",
    "따라서 역전파는 상류(출력 쪽)에서 전해지는 미분값에 1을 곱한값이 x0의 미분 결과  \n",
    "-1을 곱한값이 x1의 미분 결과"
   ],
   "cell_type": "markdown",
   "metadata": {}
  },
  {
   "cell_type": "code",
   "execution_count": 29,
   "metadata": {},
   "outputs": [],
   "source": [
    "class Pow(Function):\n",
    "    def __init__(self, c):\n",
    "        self.c = c \n",
    "    \n",
    "    def forward(self, x):\n",
    "        y = x ** self.c \n",
    "        return y \n",
    "    \n",
    "    def backward(self, gy):\n",
    "        x = self.inputs[0].data \n",
    "        c = self.c \n",
    "        gx = c * x ** (c-1) * gy \n",
    "        return gx \n",
    "\n",
    "def pow(x,c):\n",
    "    return Pow(c)(x)\n",
    "\n",
    "Variable.__pow__ = pow"
   ]
  },
  {
   "cell_type": "code",
   "execution_count": 30,
   "metadata": {},
   "outputs": [
    {
     "output_type": "stream",
     "name": "stdout",
     "text": [
      "variable(8.0)\n"
     ]
    }
   ],
   "source": [
    "x = Variable(np.array(2.0))\n",
    "y = x ** 3\n",
    "print(y)"
   ]
  },
  {
   "source": [
    "a // b, a % b, a += 1, a += -2"
   ],
   "cell_type": "markdown",
   "metadata": {}
  },
  {
   "cell_type": "code",
   "execution_count": null,
   "metadata": {},
   "outputs": [],
   "source": []
  }
 ]
}