{
 "metadata": {
  "language_info": {
   "codemirror_mode": {
    "name": "ipython",
    "version": 3
   },
   "file_extension": ".py",
   "mimetype": "text/x-python",
   "name": "python",
   "nbconvert_exporter": "python",
   "pygments_lexer": "ipython3",
   "version": "3.8.5-final"
  },
  "orig_nbformat": 2,
  "kernelspec": {
   "name": "python3",
   "display_name": "Python 3.8.5 64-bit (conda)",
   "metadata": {
    "interpreter": {
     "hash": "97ae724bfa85b9b34df7982b8bb8c7216f435b92902d749e4263f71162bea840"
    }
   }
  }
 },
 "nbformat": 4,
 "nbformat_minor": 2,
 "cells": [
  {
   "source": [
    "# Step13, 가변 길이 인수(역전파 편)\n",
    "\n",
    "## 13.1 가변 길이 인수에 대응한 Add 클래스의 역전파\n",
    "\n",
    "덧셈의 역전파 = 출력 쪽에서 전해지는 미분값 x 1 = 입력 변수(x0,x1)의 미분  \n",
    "즉 상류에서 흘러오는 미분값을 '그대로 흘려보내는 것'이 덧셈의 역전파"
   ],
   "cell_type": "markdown",
   "metadata": {}
  },
  {
   "cell_type": "code",
   "execution_count": 102,
   "metadata": {},
   "outputs": [],
   "source": [
    "import numpy as np\n",
    "\n",
    "\n",
    "class Variable:\n",
    "    def __init__(self, data):\n",
    "        if data is not None:\n",
    "            if not isinstance(data, np.ndarray):\n",
    "                raise TypeError('{} is not supported'.format(type(data)))\n",
    "\n",
    "        self.data = data\n",
    "        self.grad = None\n",
    "        self.creator = None\n",
    "\n",
    "    def set_creator(self, func):\n",
    "        self.creator = func\n",
    "\n",
    "    def backward(self):\n",
    "        if self.grad is None:\n",
    "            self.grad = np.ones_like(self.data)\n",
    "\n",
    "        funcs = [self.creator]\n",
    "        while funcs:\n",
    "            f = funcs.pop()\n",
    "            x, y = f.input, f.output\n",
    "            x.grad = f.backward(y.grad)\n",
    "\n",
    "            if x.creator is not None:\n",
    "                funcs.append(x.creator)"
   ]
  },
  {
   "cell_type": "code",
   "execution_count": 103,
   "metadata": {},
   "outputs": [],
   "source": [
    "def as_array(x):\n",
    "    if np.isscalar(x):\n",
    "        return np.array(x)\n",
    "    return x"
   ]
  },
  {
   "cell_type": "code",
   "execution_count": 104,
   "metadata": {},
   "outputs": [
    {
     "output_type": "stream",
     "name": "stdout",
     "text": [
      "5\n"
     ]
    }
   ],
   "source": [
    "class Function:\n",
    "    def __call__(self, *inputs):\n",
    "        xs = [x.data for x in inputs]\n",
    "        ys = self.forward(*xs)\n",
    "        if not isinstance(ys, tuple):\n",
    "            ys = (ys,)\n",
    "        outputs = [Variable(as_array(y)) for y in ys]\n",
    "\n",
    "        for output in outputs:\n",
    "            output.set_creator(self)\n",
    "        self.inputs = inputs\n",
    "        self.outputs = outputs\n",
    "        return outputs if len(outputs) > 1 else outputs[0]\n",
    "\n",
    "    def forward(self, xs):\n",
    "        raise NotImplementedError()\n",
    "\n",
    "    def backward(self, gys):\n",
    "        raise NotImplementedError()\n",
    "\n",
    "\n",
    "class Add(Function):\n",
    "    def forward(self, x0, x1):\n",
    "        y = x0 + x1\n",
    "        return y\n",
    "\n",
    "\n",
    "def add(x0, x1):\n",
    "    return Add()(x0, x1)\n",
    "\n",
    "\n",
    "x0 = Variable(np.array(2))\n",
    "x1 = Variable(np.array(3))\n",
    "y = add(x0, x1)\n",
    "print(y.data)"
   ]
  },
  {
   "cell_type": "code",
   "execution_count": 105,
   "metadata": {},
   "outputs": [],
   "source": [
    "# Add 클래스 구현 \n",
    "\n",
    "class Add(Function):\n",
    "    def forward(self,x0,x1):\n",
    "        y = x0 + x1 \n",
    "        return y\n",
    "    \n",
    "    def backward(self,gy):\n",
    "        return gy, gy\n",
    "\n",
    "def add(x0,x1):\n",
    "    return Add()(x0,x1)\n"
   ]
  },
  {
   "source": [
    "위와 같이 backward 메서드는 입력이 1개, 출력이 2개  \n",
    "여러개의 값을 반환하기 위해 Variable 클래스에서 backward 메서드를 수정해 본다."
   ],
   "cell_type": "markdown",
   "metadata": {}
  },
  {
   "cell_type": "code",
   "execution_count": 106,
   "metadata": {},
   "outputs": [],
   "source": [
    "class Variable:\n",
    "    def __init__(self, data):\n",
    "        if data is not None:\n",
    "            if not isinstance(data, np.ndarray):\n",
    "                raise TypeError('{} is not supported'.format(type(data)))\n",
    "\n",
    "        self.data = data\n",
    "        self.grad = None\n",
    "        self.creator = None\n",
    "\n",
    "    def set_creator(self, func):\n",
    "        self.creator = func\n",
    "\n",
    "    def backward(self):\n",
    "        if self.grad is None:\n",
    "            self.grad = np.ones_like(self.data)\n",
    "\n",
    "        funcs = [self.creator]\n",
    "        while funcs:\n",
    "            f = funcs.pop()\n",
    "            # x, y = f.input, f.output\n",
    "            gys = [output.grad for output in f.outputs] # 1\n",
    "            gxs = f.backward(*gys)                      # 2\n",
    "            if not isinstance(gxs,tuple):               # 3\n",
    "                gxs = (gxs,)\n",
    "            \n",
    "            for x, gx in zip(f.inputs, gxs):            # 4\n",
    "                x.grad = gx \n",
    "            # x.grad = f.backward(y.grad)\n",
    "\n",
    "                if x.creator is not None:\n",
    "                    funcs.append(x.creator)"
   ]
  },
  {
   "source": [
    "1,2,3,4 를 추가 \n",
    "\n",
    "1. 출력 변수인 outputs에 담겨 있는 미분값들을 리스트에 담는다.\n",
    "2. 함수 f의 역전파를 호출한다. 이때 f.backward(*gys)처럼 인수에 별표를 붙여 호출한여 리스트 언팩한다.\n",
    "3. gxs가 튜플이 아니면 튜플로 리턴한다.\n",
    "4. 역전파로 전파되는 미분값(gx)을 Variable의 인스턴스 변수 grad(x.grad)에 저장  \n",
    "    - gxs와 f.inputs의 각 원소는 서로 대응 관계에 있다. 따라서 i번째 원소에 대해 f.inputs\\[i\\]의 미분값 : gxs\\[i\\] 대응\n",
    "    - zip 함수와 for문을 이용해서 모든 Variable 인스턴스 각각에 알맞은 미분값을 설정\n"
   ],
   "cell_type": "markdown",
   "metadata": {}
  },
  {
   "cell_type": "code",
   "execution_count": 107,
   "metadata": {},
   "outputs": [
    {
     "output_type": "stream",
     "name": "stdout",
     "text": [
      "[(1, 'hong'), (2, 'gil'), (3, 'dong'), (4, 'nim')]\n"
     ]
    }
   ],
   "source": [
    "Number = [1,2,3,4]\n",
    "Name = ['hong','gil','dong','nim']\n",
    "Number_Name = list(zip(Number,Name))\n",
    "print(Number_Name)"
   ]
  },
  {
   "cell_type": "code",
   "execution_count": 108,
   "metadata": {},
   "outputs": [],
   "source": [
    "class Function:\n",
    "    def __call__(self, *inputs):\n",
    "        xs = [x.data for x in inputs]\n",
    "        ys = self.forward(*xs)\n",
    "        if not isinstance(ys, tuple):\n",
    "            ys = (ys,)\n",
    "        outputs = [Variable(as_array(y)) for y in ys]\n",
    "\n",
    "        for output in outputs:\n",
    "            output.set_creator(self)\n",
    "        self.inputs = inputs\n",
    "        self.outputs = outputs\n",
    "        return outputs if len(outputs) > 1 else outputs[0]\n",
    "\n",
    "    def forward(self, xs):\n",
    "        raise NotImplementedError()\n",
    "\n",
    "    def backward(self, gys):\n",
    "        raise NotImplementedError()"
   ]
  },
  {
   "source": [
    "## 13.3 Square 클래스 구현"
   ],
   "cell_type": "markdown",
   "metadata": {}
  },
  {
   "cell_type": "code",
   "execution_count": 109,
   "metadata": {},
   "outputs": [],
   "source": [
    "class Square(Function):\n",
    "    def forward(self, x):\n",
    "        y = x ** 2\n",
    "        return y\n",
    "    \n",
    "    def backward(self, gy):\n",
    "        # x = self.input.data\n",
    "        x = self.inputs[0].data\n",
    "        gx = 2 * x * gy\n",
    "        return gx\n",
    "\n",
    "def square(x):\n",
    "    f = Square()\n",
    "    return f(x)"
   ]
  },
  {
   "source": [
    "add 함수와 square 함수를 이용하여 $$z = x^2 + y^2$$ 를 계산하는 코드"
   ],
   "cell_type": "markdown",
   "metadata": {}
  },
  {
   "cell_type": "code",
   "execution_count": 110,
   "metadata": {},
   "outputs": [
    {
     "output_type": "stream",
     "name": "stdout",
     "text": [
      "13.0\n4.0\n6.0\n"
     ]
    }
   ],
   "source": [
    "x = Variable(np.array(2.0))\n",
    "y = Variable(np.array(3.0))\n",
    "\n",
    "z = add(square(x), square(y))\n",
    "z.backward()\n",
    "print(z.data)\n",
    "print(x.grad)\n",
    "print(y.grad)"
   ]
  },
  {
   "source": [
    "최종 코드"
   ],
   "cell_type": "markdown",
   "metadata": {}
  },
  {
   "cell_type": "code",
   "execution_count": null,
   "metadata": {},
   "outputs": [],
   "source": [
    "import numpy as np\n",
    "\n",
    "\n",
    "class Variable:\n",
    "    def __init__(self, data):\n",
    "        if data is not None:\n",
    "            if not isinstance(data, np.ndarray):                            # 입력받는 데이터가 ndarray 구조가 아니면 오류 발생\n",
    "                raise TypeError('{} is not supported'.format(type(data)))\n",
    "\n",
    "        self.data = data        # 데이터 선언\n",
    "        self.grad = None        # 미분값 선언\n",
    "        self.creator = None     # 이 데이터가 어디출신인지, 어느 공장에서 만들어졌는지 표기\n",
    "\n",
    "    def set_creator(self, func):    # 생성자 = 공장 = 함수\n",
    "        self.creator = func \n",
    "\n",
    "    def backward(self):\n",
    "        if self.grad is None:\n",
    "            self.grad = np.ones_like(self.data)     # 미분값이 없으면 모두 1로 구성된 행렬\n",
    "\n",
    "        funcs = [self.creator]                      # 함수들을 담는 리스트 \n",
    "        while funcs:\n",
    "            f = funcs.pop()                         # 함수들을 하나씩 뽑는다.\n",
    "            gys = [output.grad for output in f.outputs]     # 출력변수인 outputs에 담겨있는 미분값(.grad)들을 리스트에 담는다\n",
    "            gxs = f.backward(*gys)                          # f의 역전파를 호출한다. *를 붙혀 리스트를 풀면서 넣어준다.(리스트 언팩)\n",
    "            if not isinstance(gxs, tuple):                  # gxs가 튜플이 아니면 튜플로 변환한다.\n",
    "                gxs = (gxs,)\n",
    "\n",
    "            for x, gx in zip(f.inputs, gxs):                # gxs와 f.inputs의 각 원소는 서로 대응 관계\n",
    "                x.grad = gx                                 # 역전파로 전파되는 미분값을 Variable의 인스턴스 변수 grad에 저장\n",
    "\n",
    "                if x.creator is not None:\n",
    "                    funcs.append(x.creator)\n",
    "\n",
    "\n",
    "\n",
    "def as_array(x):\n",
    "    if np.isscalar(x):\n",
    "        return np.array(x)                                  # 입력이 스칼라인 경우 ndarray 인스턴스로 변화해줌\n",
    "    return x\n",
    "\n",
    "\n",
    "class Function:\n",
    "    def __call__(self, *inputs):\n",
    "        xs = [x.data for x in inputs]                       # 가변길이 인수를 다루기위해, 변수를 리스트에 담아 취급\n",
    "        ys = self.forward(*xs)\n",
    "        if not isinstance(ys, tuple):\n",
    "            ys = (ys,)\n",
    "        outputs = [Variable(as_array(y)) for y in ys]       # 가변길이 입력이므로 가변길이 출력을 리스트로 담는다\n",
    "\n",
    "        for output in outputs:\n",
    "            output.set_creator(self)                        # 각각의 output들이 어디 출신 변수인지 정해짐, 자신이 창조자라고 원산지 표시를 함\n",
    "        self.inputs = inputs\n",
    "        self.outputs = outputs\n",
    "        return outputs if len(outputs) > 1 else outputs[0]  # 리스트의 원소가 하나라면 첫번째 원소를 반환한다, 해당 변수를 직접 돌려준다\n",
    "\n",
    "    def forward(self, xs):\n",
    "        raise NotImplementedError()\n",
    "\n",
    "    def backward(self, gys):\n",
    "        raise NotImplementedError()\n",
    "\n",
    "\n",
    "class Square(Function):\n",
    "    def forward(self, x):\n",
    "        y = x ** 2\n",
    "        return y\n",
    "\n",
    "    def backward(self, gy):\n",
    "        x = self.inputs[0].data\n",
    "        gx = 2 * x * gy\n",
    "        return gx\n",
    "\n",
    "\n",
    "def square(x):\n",
    "    f = Square()\n",
    "    return f(x)\n",
    "\n",
    "\n",
    "class Add(Function):\n",
    "    def forward(self, x0, x1):\n",
    "        y = x0 + x1\n",
    "        return y\n",
    "\n",
    "    def backward(self, gy):\n",
    "        return gy, gy\n",
    "\n",
    "\n",
    "def add(x0, x1):\n",
    "    return Add()(x0, x1)\n",
    "\n",
    "\n",
    "x = Variable(np.array(2.0))\n",
    "y = Variable(np.array(3.0))\n",
    "\n",
    "z = add(square(x), square(y))\n",
    "z.backward()\n",
    "print(z.data)\n",
    "print(x.grad)\n",
    "print(y.grad)"
   ]
  }
 ]
}