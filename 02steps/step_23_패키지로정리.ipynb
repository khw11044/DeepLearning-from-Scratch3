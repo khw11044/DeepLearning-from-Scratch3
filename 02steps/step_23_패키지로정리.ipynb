{
 "metadata": {
  "language_info": {
   "codemirror_mode": {
    "name": "ipython",
    "version": 3
   },
   "file_extension": ".py",
   "mimetype": "text/x-python",
   "name": "python",
   "nbconvert_exporter": "python",
   "pygments_lexer": "ipython3",
   "version": "3.8.5-final"
  },
  "orig_nbformat": 2,
  "kernelspec": {
   "name": "python3",
   "display_name": "Python 3.8.5 64-bit (conda)",
   "metadata": {
    "interpreter": {
     "hash": "97ae724bfa85b9b34df7982b8bb8c7216f435b92902d749e4263f71162bea840"
    }
   }
  }
 },
 "nbformat": 4,
 "nbformat_minor": 2,
 "cells": [
  {
   "source": [
    "# Step23, 패키지로 정리 \n",
    "\n",
    "- **모듈**\n",
    "    - 모듈은 파이썬 파일 \n",
    "    - 다른 파이썬 프로그램에서 import 하여 사용하는 것을 가정하고 만들어진 파이썬 파일을 '모듈'이라고 한다.\n",
    "\n",
    "- **패키지**\n",
    "    - 패키지는 여러 모듈을 묶은 것  \n",
    "    - 패키지를 만들려면 먼저 디렉터리를 만들고 그 안에 모듈(파이썬 파일)을 추가한다.\n",
    "\n",
    "- **라이브러리**\n",
    "    - 라이브러리는 여러 패키지를 묶은 것\n",
    "    - 하나 이상의 디렉터리로 구성 "
   ],
   "cell_type": "markdown",
   "metadata": {}
  },
  {
   "source": [
    "## 23.1 파일 구성 \n"
   ],
   "cell_type": "markdown",
   "metadata": {}
  },
  {
   "source": [
    "## 23.2 코어 클래스로 옮기기 \n",
    "\n",
    "Step 22 코드를 dezero/core_simple.py 라는 코어 파일로 옮긴다.\n",
    "\n",
    "다음 클래스들을 코어 파일로 복사한다.\n",
    "\n",
    "- Config\n",
    "- Variable\n",
    "- Function\n",
    "- Add(Function)\n",
    "- Mul(Function)\n",
    "- Neg(Function)\n",
    "- Sub(Function)\n",
    "- Div(Function)\n",
    "- Pow(Function)\n",
    "\n",
    "이어서 함수들도 코어 파일로 옮긴다.\n",
    "\n",
    "- using_config\n",
    "- no_grad\n",
    "- as_array\n",
    "- as_variable\n",
    "- add \n",
    "- mul \n",
    "- neg \n",
    "- sub \n",
    "- rsub \n",
    "- div \n",
    "- rdiv \n",
    "- pow \n",
    "\n",
    "using_config, no_grad는 DeZero 설정 함수, 역전파의 활성/비활성을 전환하는데 사용  \n",
    "as_array, as_variable은 인수로 주어진 객체를 ndarray 또는 Variable로 변환하는 함수 \n"
   ],
   "cell_type": "markdown",
   "metadata": {}
  },
  {
   "cell_type": "code",
   "execution_count": 5,
   "metadata": {},
   "outputs": [
    {
     "output_type": "stream",
     "name": "stdout",
     "text": [
      "variable(1.0)\n"
     ]
    }
   ],
   "source": [
    "import numpy as np \n",
    "from dezero.core_simple import Variable\n",
    "\n",
    "x = Variable(np.array(1.0))\n",
    "print(x)"
   ]
  },
  {
   "source": [
    "## 23.3 연산자 오버로드 \n",
    "\n",
    "오버로드한 연산자들을 dezero로 옮긴다. 이를 위해 코어 파일인 dezero/core_simply.py 에 다음 함수들을 추가한다.\n",
    "\n",
    "~~~python\n",
    "def setup_variable():\n",
    "    Variable.__add__ = add\n",
    "    Variable.__radd__ = add\n",
    "    Variable.__mul__ = mul\n",
    "    Variable.__rmul__ = mul\n",
    "    Variable.__neg__ = neg\n",
    "    Variable.__sub__ = sub\n",
    "    Variable.__rsub__ = rsub\n",
    "    Variable.__truediv__ = div\n",
    "    Variable.__rtruediv__ = rdiv\n",
    "    Variable.__pow__ = pow\n",
    "~~~\n",
    "\n",
    "setup_variable은 Variable의 연산자들을 오버로드해주는 함수  \n",
    "이 함수를 호출하면 Variable의 연산자들이 설정\n",
    "\n",
    "dezero/\\__init\\__.py 파일에 넣는다.  \n",
    "\\__init\\__.py는 모듈을 임포트할 때 가장 먼저 실행되는 파일  \n",
    "\n",
    "dezero 패키지에 속한 모듈을 임포트할때 dezero/\\__init\\__.py가 가장 먼저 첫번째로 호출된다.\n",
    "\n",
    "따라서 dezero/\\__init\\__.py 에 다음 코드를 작성한다.\n"
   ],
   "cell_type": "markdown",
   "metadata": {}
  },
  {
   "cell_type": "code",
   "execution_count": 3,
   "metadata": {},
   "outputs": [],
   "source": [
    "from dezero.core_simple import Variable\n",
    "from dezero.core_simple import Function\n",
    "from dezero.core_simple import using_config\n",
    "from dezero.core_simple import no_grad\n",
    "from dezero.core_simple import as_array\n",
    "from dezero.core_simple import as_variable\n",
    "from dezero.core_simple import setup_variable\n",
    "\n",
    "setup_variable()\n"
   ]
  },
  {
   "source": [
    "setup_variable 함수를 임포트해 호출하도록 한다.  \n",
    "dezero 패키지를 이용하는 사용자는 반드시 연산자 오버로드가 이루어진 상태에서 Variable을 사용할 수 있다.\n",
    "\n",
    "__init__.py의 시작이 from dezero.core_simple import Variable  \n",
    "이 문장이 실행됨으로써 dezero 패키지에서 Variable 클래스를 곧바로 임포트할 수 있다.\n",
    "\n",
    "~~~python\n",
    "# from dezero.core_simple import Variable\n",
    "from dezero import Variable\n",
    "~~~\n",
    "\n",
    "\\__init\\__.py로 짧게 줄일 수 있다."
   ],
   "cell_type": "markdown",
   "metadata": {}
  },
  {
   "source": [
    "## 23.5 dezero 임포트하기 \n",
    "\n",
    "~~~python\n",
    "if '__file__' in globals():\n",
    "    import os, sys \n",
    "    sys.path.append(os.path.join(os.path.dirname(__file__), '..'))\n",
    "\n",
    "from dezero import Variable\n",
    "~~~\n",
    "\n",
    "if '\\__file\\__' in globals(): 문장에서 \\__file\\__ 이라는 전역 변수가 정의되어 있는지 확인한다.  \n",
    "\n",
    "터미널에서 python 명령을 실행하면 __file__ 변수가 정의된다.  \n",
    "\n",
    "이 경우 현재 파일이 위치한 디렉터리의 부모 디렉터리(..)를 모듈 검색 경로에 추가한다.  \n",
    "\n",
    "--> 파이썬 명령어를 어디에서 실행하든 dezero 디렉터리의 파일들은 제대로 임포트할 수 있게된다.\n",
    "\n",
    "\n",
    "\n"
   ],
   "cell_type": "markdown",
   "metadata": {}
  },
  {
   "source": [
    "**NOTE_**(pip install dezero등의 명령으로) 패키지가 설치된 경우라면 패키지가 파이썬 검색경로에 추가된다.  \n",
    "\\__file\\__ 변수는 파이썬 인터프리터의 인터랙티브 모드와 구글 코랩등의 환경에서 실행하는 경우에는 정의되어 있지 않다.\n",
    "\n",
    "이 점을 고려하여 부모 디렉터리를 검색 경로에 추가할 때 if '\\__file\\__' in globals(): 라는 조건 검사 문장을 넣었다.\n"
   ],
   "cell_type": "markdown",
   "metadata": {}
  },
  {
   "cell_type": "code",
   "execution_count": null,
   "metadata": {},
   "outputs": [],
   "source": []
  }
 ]
}