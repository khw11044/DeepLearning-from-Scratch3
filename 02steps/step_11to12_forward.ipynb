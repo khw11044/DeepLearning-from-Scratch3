{
 "metadata": {
  "language_info": {
   "codemirror_mode": {
    "name": "ipython",
    "version": 3
   },
   "file_extension": ".py",
   "mimetype": "text/x-python",
   "name": "python",
   "nbconvert_exporter": "python",
   "pygments_lexer": "ipython3",
   "version": "3.8.5-final"
  },
  "orig_nbformat": 2,
  "kernelspec": {
   "name": "python3",
   "display_name": "Python 3.8.5 64-bit (conda)",
   "metadata": {
    "interpreter": {
     "hash": "97ae724bfa85b9b34df7982b8bb8c7216f435b92902d749e4263f71162bea840"
    }
   }
  }
 },
 "nbformat": 4,
 "nbformat_minor": 2,
 "cells": [
  {
   "source": [
    "# Step 11, 가변 길이 인수(순전파 편)\n",
    "\n",
    "지금까지 우리는 함수에 입출력 변수가 하나씩인 경우만 생각해왔다.  \n",
    "그러나 함수에 따라 여러개의 변수를 입력받기도 한다.(예:덧셈,곱셉등)  \n",
    "또한 여려개의 변수를 출력하기도 한다.\n",
    "\n",
    "이것을 고려하여 DeZero가 가변길이 입축력을 처리할 수 있도록 확장하려고 한다."
   ],
   "cell_type": "markdown",
   "metadata": {}
  },
  {
   "source": [
    "## 11.1 Function 클래스 수정\n",
    "\n",
    "가변길이 입출력을 표현하려면 변수들을 리스트(또는 튜플)에 넣어 처리  \n",
    "즉, Function 클래스는 지금까지처럼 '하나의 인수'를 받고 '하나의 값'만 반환하지만  \n",
    "인수와 반환값의 타입을 리스트로 바꾸고, 필요한 변수들을 이 리스트에 넣으면 된다."
   ],
   "cell_type": "markdown",
   "metadata": {}
  },
  {
   "cell_type": "code",
   "execution_count": 4,
   "metadata": {},
   "outputs": [],
   "source": [
    "from DeZero_test import Variable, as_array\n",
    "import numpy as np"
   ]
  },
  {
   "cell_type": "code",
   "execution_count": 5,
   "metadata": {},
   "outputs": [],
   "source": [
    "# 기존 Function 클래스 구조\n",
    "class Function:\n",
    "    def __init__(self,input):\n",
    "        x = input.data                  # 1\n",
    "        y = self.forward(x)             # 2\n",
    "        output = Variable(as_array(y))  # 3\n",
    "        output.set_creator(self)        # 4\n",
    "        self.input = input\n",
    "        self.output = output\n",
    "        return output\n",
    "    \n",
    "    def forward(self,x):\n",
    "        raise NotImplementedError() \n",
    "\n",
    "    def backward(self,gy):\n",
    "        raise NotImplementedError()"
   ]
  },
  {
   "source": [
    "- 1 Function의 __call__ 메서드는 Variable 이라는 '상자'에서 실제 데이터를 꺼낸다.  \n",
    "- 2 forward 메서드에서 구체적인 계산 \n",
    "- 3 계산 결과를 Variable에 넣고 \n",
    "- 4 자신이 '창조자'라고 원산지 표시를 한다.\n",
    "\n",
    "다음 로직을 염두에 두고 __call__ 메서드의 인수와 반환값을 리스트로 바꿔본다."
   ],
   "cell_type": "markdown",
   "metadata": {}
  },
  {
   "cell_type": "code",
   "execution_count": 6,
   "metadata": {},
   "outputs": [],
   "source": [
    "class Function:\n",
    "    def __call__(self,inputs):\n",
    "        xs = [x.data for x in inputs]\n",
    "        ys = self.forward(xs)\n",
    "        outputs = [Variable(as_array(y)) for y in ys]\n",
    "\n",
    "        for output in outputs:\n",
    "            output.set_creator(self)\n",
    "\n",
    "        self.inputs = inputs\n",
    "        self.outputs = outputs\n",
    "        return outputs\n",
    "    \n",
    "    def forward(self,xs):\n",
    "        raise NotImplementedError()\n",
    "\n",
    "    def backward(self, gys):\n",
    "        raise NotImplementedError()"
   ]
  },
  {
   "source": [
    "인수와 반환값을 리스트로 변경  \n",
    "변수를 리스트에 담아 취급한다는 점을 제외하고 달라진게 없음"
   ],
   "cell_type": "markdown",
   "metadata": {}
  },
  {
   "source": [
    "## 11.2 Add 클래스 구현\n",
    "\n",
    "이번 절에서는 Add 클래스의 forward 메서드를 구현.\n",
    "주의할 점은 인수와 반환값이 리스트여야 한다"
   ],
   "cell_type": "markdown",
   "metadata": {}
  },
  {
   "cell_type": "code",
   "execution_count": 7,
   "metadata": {},
   "outputs": [],
   "source": [
    "class Add(Function):\n",
    "    def forward(self,xs):\n",
    "        x0, x1 = xs\n",
    "        y = x0 + x1 \n",
    "        return (y,)"
   ]
  },
  {
   "source": [
    "Add 클래스의 인수는 변수가 두 개 담긴 리스트  \n",
    "따라서 xs에서 원소 2개를 꺼냈다.  \n",
    "그런 다음 꺼낸 원소들을 사용하여 계산  \n",
    "결과를 반환할때는 return (y,) 형태로 튜플을 반환 "
   ],
   "cell_type": "markdown",
   "metadata": {}
  },
  {
   "cell_type": "code",
   "execution_count": 8,
   "metadata": {},
   "outputs": [
    {
     "output_type": "stream",
     "name": "stdout",
     "text": [
      "5\n"
     ]
    }
   ],
   "source": [
    "xs = [Variable(np.array(2)), Variable(np.array(3))]     # 리스트로 준비\n",
    "f = Add()\n",
    "ys = f(xs)\n",
    "y = ys[0]\n",
    "print(y.data)"
   ]
  },
  {
   "source": [
    "이제 순전파에 한해서는 가변 길이 인수와 반환값에 대응할 수 있다.  \n",
    "그런데 앞의 코드는 다소 귀찮게 구성되어있다. 입력변수를 리스트에 담아 건네주어야하고 반환값은 튜플로 받게 한다."
   ],
   "cell_type": "markdown",
   "metadata": {}
  },
  {
   "source": [
    "# Step12, 가변 길이 인수(개선 편)\n",
    "\n",
    "두가지 개선  \n",
    "1. Add 클래스(혹은 다른 구체적인 함수 클래스)를 '사용하는 사람'을 위한 개선  \n",
    "2. '구현하는 사람'을 위한 개선"
   ],
   "cell_type": "markdown",
   "metadata": {}
  },
  {
   "source": [
    "## 12.1 첫번째 개선: 함수를 사용하기 쉽게\n",
    "\n",
    "현재 코드  \n",
    "~~~python\n",
    "xs = [Variable(np.array(2)),\n",
    "      Variable(np.array(3))]\n",
    "\n",
    "f = Add()\n",
    "ys = f(xs)\n",
    "y = ys[0]\n",
    "~~~\n",
    "\n",
    "이런 코드를 아래와 같이 개선\n",
    "\n",
    "~~~python \n",
    "x0 = Variable(np.array(2))\n",
    "x1 = Variable(np.array(3))\n",
    "\n",
    "f = Add()\n",
    "\n",
    "y = f(x0,x1)\n",
    "~~~"
   ],
   "cell_type": "markdown",
   "metadata": {}
  },
  {
   "cell_type": "code",
   "execution_count": 9,
   "metadata": {},
   "outputs": [],
   "source": [
    "class Variable:\n",
    "    def __init__(self, data):\n",
    "        if data is not None:\n",
    "            if not isinstance(data, np.ndarray):\n",
    "                raise TypeError('{} is not supported'.format(type(data)))\n",
    "\n",
    "        self.data = data\n",
    "        self.grad = None\n",
    "        self.creator = None\n",
    "\n",
    "    def set_creator(self, func):\n",
    "        self.creator = func\n",
    "\n",
    "    def backward(self):\n",
    "        if self.grad is None:\n",
    "            self.grad = np.ones_like(self.data)\n",
    "\n",
    "        funcs = [self.creator]\n",
    "        while funcs:\n",
    "            f = funcs.pop()\n",
    "            x, y = f.input, f.output\n",
    "            x.grad = f.backward(y.grad)\n",
    "\n",
    "            if x.creator is not None:\n",
    "                funcs.append(x.creator)\n",
    "\n",
    "\n",
    "def as_array(x):\n",
    "    if np.isscalar(x):\n",
    "        return np.array(x)\n",
    "    return x"
   ]
  },
  {
   "source": [
    "Function 클래스 수정"
   ],
   "cell_type": "markdown",
   "metadata": {}
  },
  {
   "cell_type": "code",
   "execution_count": 10,
   "metadata": {},
   "outputs": [],
   "source": [
    "class Function:\n",
    "    def __call__(self, *inputs):\n",
    "        xs = [x.data for x in inputs]\n",
    "        ys = self.forward(xs)\n",
    "        outputs = [Variable(as_array(y)) for y in ys]\n",
    "\n",
    "        for output in outputs:\n",
    "            output.set_creator(self)\n",
    "        self.inputs = inputs\n",
    "        self.outputs = outputs\n",
    "        return outputs if len(outputs) > 1 else outputs[0]\n",
    "\n",
    "    def forward(self, xs):\n",
    "        raise NotImplementedError()\n",
    "\n",
    "    def backward(self, gys):\n",
    "        raise NotImplementedError()"
   ]
  },
  {
   "cell_type": "code",
   "execution_count": 11,
   "metadata": {},
   "outputs": [],
   "source": [
    "class Add(Function):\n",
    "    def forward(self,xs):\n",
    "        x0, x1 = xs\n",
    "        y = x0 + x1 \n",
    "        return (y,)"
   ]
  },
  {
   "source": [
    "2. outputs에 원소가 하나뿐이라면 리스트가 아니라 그 원소만을 반환. 즉 함수의 반환값이 하나라면 해당 변수를 직접 리턴 \n",
    "1. 함수를 정의 할때 인수 앞에 *를 붙인다. 리스트를 사용하는 대신 임의 개수의 인수(가변 길이 인수)를 건네 함수를 호출할 수 있다.  \n",
    "\n",
    "함수를 정의할때 인수에 별표를 붙이면 호출할 때 넘긴 인수들을 별표를 붙인 인수 하나로 모아서 받을 수 있다.\n",
    "\n",
    "가변 길이 인수 사용법"
   ],
   "cell_type": "markdown",
   "metadata": {}
  },
  {
   "cell_type": "code",
   "execution_count": 12,
   "metadata": {},
   "outputs": [
    {
     "output_type": "stream",
     "name": "stdout",
     "text": [
      "(1, 2, 3)\nNone\n(1, 2, 3, 4, 5)\nNone\n"
     ]
    }
   ],
   "source": [
    "# 가변 길이 인수 사용법 \n",
    "def f(*x):\n",
    "    print(x)\n",
    "\n",
    "print(f(1,2,3))\n",
    "\n",
    "print(f(1,2,3,4,5))"
   ]
  },
  {
   "cell_type": "code",
   "execution_count": 13,
   "metadata": {},
   "outputs": [
    {
     "output_type": "stream",
     "name": "stdout",
     "text": [
      "5\n"
     ]
    }
   ],
   "source": [
    "x0 = Variable(np.array(2))\n",
    "x1 = Variable(np.array(3))\n",
    "\n",
    "f = Add()\n",
    "y = f(x0,x1)\n",
    "print(y.data)"
   ]
  },
  {
   "source": [
    "## 12.2 두번째 개선: 함수를 구현하기 쉽도록 \n",
    "\n",
    "Add 클래스를 '구현하는 사람'을 위한 개선 \n",
    "\n",
    "현재 코드\n",
    "\n",
    "~~~python\n",
    "class Add(Function):\n",
    "    def forward(self,xs):\n",
    "        x0, x1 = xs \n",
    "        y = x0 + x1 \n",
    "        return (y,)\n",
    "~~~\n",
    "\n",
    "개선 코드 \n",
    "\n",
    "~~~python \n",
    "class Add(Function):\n",
    "    def forward(self, x0, x1):\n",
    "        y = x0 + x1 \n",
    "        return y\n",
    "~~~\n",
    "\n",
    "\n",
    "두번째 개선을 위해 Function 클래스를 수정\n"
   ],
   "cell_type": "markdown",
   "metadata": {}
  },
  {
   "cell_type": "code",
   "execution_count": 14,
   "metadata": {},
   "outputs": [],
   "source": [
    "class Function:\n",
    "    def __call__(self,*inputs):\n",
    "        xs = [x.data for x in inputs]\n",
    "        ys = self.forward(*xs)                              # 1. *를 붙여 언팩\n",
    "        if not isinstance(ys,tuple):                        # 2. 튜플이 아닌 경우 추가 지원\n",
    "            ys = (ys,)\n",
    "        outputs = [Variable(as_array(y)) for y in ys]\n",
    "\n",
    "        for output in outputs:\n",
    "            output.set_creator(self)\n",
    "        self.inputs = inputs\n",
    "        self.outputs = outputs\n",
    "\n",
    "        return outputs if len(outputs) > 1 else outputs[0]\n",
    "\n",
    "    def forward(self, xs):\n",
    "        raise NotImplementedError()\n",
    "\n",
    "    def backward(self, gys):\n",
    "        raise NotImplementedError()"
   ]
  },
  {
   "source": [
    "1. self.forward(*xs)  \n",
    " - 함수를 \"호출\"할 때 별표를 붙였는데, 이렇게 하면 리스트 언팩(list unpack)이 이루어짐\n",
    " - 언팩은 리스트의 원소를 낱개로 풀어서 전달하는 기법 \n",
    "    - 예 : xs = [x0,x1]일때 self.forward(*xs)를 하면 self.forward(x0,x1)로 호출하는 것과 동일하게 동작\n",
    "\n",
    "2. ys가 튜플이 아닌경우 튜플로 변경 "
   ],
   "cell_type": "markdown",
   "metadata": {}
  },
  {
   "cell_type": "code",
   "execution_count": 15,
   "metadata": {},
   "outputs": [],
   "source": [
    "class Add(Function):\n",
    "    def forward(self,x0,x1):\n",
    "        y = x0 + x1 \n",
    "        return y"
   ]
  },
  {
   "source": [
    "## 12.3 add 함수 구현 "
   ],
   "cell_type": "markdown",
   "metadata": {}
  },
  {
   "cell_type": "code",
   "execution_count": 16,
   "metadata": {},
   "outputs": [],
   "source": [
    "def add(x0,x1):\n",
    "    return Add()(x0,x1)"
   ]
  },
  {
   "source": [
    "최종 코드"
   ],
   "cell_type": "markdown",
   "metadata": {}
  },
  {
   "cell_type": "code",
   "execution_count": 17,
   "metadata": {},
   "outputs": [
    {
     "output_type": "stream",
     "name": "stdout",
     "text": [
      "5\n"
     ]
    }
   ],
   "source": [
    "import numpy as np\n",
    "\n",
    "\n",
    "class Variable:\n",
    "    def __init__(self, data):\n",
    "        if data is not None:\n",
    "            if not isinstance(data, np.ndarray):\n",
    "                raise TypeError('{} is not supported'.format(type(data)))\n",
    "\n",
    "        self.data = data\n",
    "        self.grad = None\n",
    "        self.creator = None\n",
    "\n",
    "    def set_creator(self, func):\n",
    "        self.creator = func\n",
    "\n",
    "    def backward(self):\n",
    "        if self.grad is None:\n",
    "            self.grad = np.ones_like(self.data)\n",
    "\n",
    "        funcs = [self.creator]\n",
    "        while funcs:\n",
    "            f = funcs.pop()\n",
    "            x, y = f.input, f.output\n",
    "            x.grad = f.backward(y.grad)\n",
    "\n",
    "            if x.creator is not None:\n",
    "                funcs.append(x.creator)\n",
    "\n",
    "\n",
    "def as_array(x):\n",
    "    if np.isscalar(x):\n",
    "        return np.array(x)\n",
    "    return x\n",
    "\n",
    "\n",
    "class Function:\n",
    "    def __call__(self, *inputs):\n",
    "        xs = [x.data for x in inputs]\n",
    "        ys = self.forward(*xs)\n",
    "        if not isinstance(ys, tuple):\n",
    "            ys = (ys,)\n",
    "        outputs = [Variable(as_array(y)) for y in ys]\n",
    "\n",
    "        for output in outputs:\n",
    "            output.set_creator(self)\n",
    "        self.inputs = inputs\n",
    "        self.outputs = outputs\n",
    "        return outputs if len(outputs) > 1 else outputs[0]\n",
    "\n",
    "    def forward(self, xs):\n",
    "        raise NotImplementedError()\n",
    "\n",
    "    def backward(self, gys):\n",
    "        raise NotImplementedError()\n",
    "\n",
    "\n",
    "class Add(Function):\n",
    "    def forward(self, x0, x1):\n",
    "        y = x0 + x1\n",
    "        return y\n",
    "\n",
    "\n",
    "def add(x0, x1):\n",
    "    return Add()(x0, x1)\n",
    "\n",
    "\n",
    "x0 = Variable(np.array(2))\n",
    "x1 = Variable(np.array(3))\n",
    "y = add(x0, x1)\n",
    "print(y.data)"
   ]
  },
  {
   "cell_type": "code",
   "execution_count": null,
   "metadata": {},
   "outputs": [],
   "source": []
  }
 ]
}