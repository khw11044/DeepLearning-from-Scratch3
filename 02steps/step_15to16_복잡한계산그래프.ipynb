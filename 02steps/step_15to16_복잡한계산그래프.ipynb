{
 "metadata": {
  "language_info": {
   "codemirror_mode": {
    "name": "ipython",
    "version": 3
   },
   "file_extension": ".py",
   "mimetype": "text/x-python",
   "name": "python",
   "nbconvert_exporter": "python",
   "pygments_lexer": "ipython3",
   "version": "3.8.5-final"
  },
  "orig_nbformat": 2,
  "kernelspec": {
   "name": "python3",
   "display_name": "Python 3.8.5 64-bit (virtualenv)",
   "metadata": {
    "interpreter": {
     "hash": "97ae724bfa85b9b34df7982b8bb8c7216f435b92902d749e4263f71162bea840"
    }
   }
  }
 },
 "nbformat": 4,
 "nbformat_minor": 2,
 "cells": [
  {
   "source": [
    "# Step15, 복잡한 계산 그래프(이론편)\n",
    "\n",
    "지금까지는 한 줄로 늘어선 계산 그래프를 다뤘다.  \n",
    "하지만 변수와 함수가 꼭 한 줄로 연결되리라는 법은 없다.  \n",
    "같은 변수를 반복해서 사용하거나 여러 변수를 입력받는 함수를 사용하는 계산을 할 수 있다.  \n",
    "이를 통해 더 복잡한 연결을 만들 수 있다.\n",
    "\n",
    "하지만 지금의 DeZeo는 이런 계산의 미분을 하지 못한다.즉, 이런 복잡한 연결의 역전파를 제대로 할 수 없다."
   ],
   "cell_type": "markdown",
   "metadata": {}
  },
  {
   "source": [
    "**NOTE_** 그래프의 '연결된 형태' : _위상_(topology)  \n",
    "다양한 위상의 계산 그래프에 대응하는 것이 목표  \n",
    "어떤 모양으로 연결된 계산 그래프라도 제대로 미분할 수 있도록 지금부터 새로운 아이디어를 도입"
   ],
   "cell_type": "markdown",
   "metadata": {}
  },
  {
   "source": [
    "## 15.1 역전파의 올바른 순서\n",
    "책에 그림과 함께 아주 잘 설명되어있다. 책 참고하기 \n",
    "\n",
    "## 15.2 현재의 DeZero"
   ],
   "cell_type": "markdown",
   "metadata": {}
  },
  {
   "cell_type": "code",
   "execution_count": 1,
   "metadata": {},
   "outputs": [],
   "source": [
    "class Variable:\n",
    "    \n",
    "    # ...생략.... \n",
    "\n",
    "    def backward(self):\n",
    "        if self.grad is None:\n",
    "            self.grad = np.ones_like(self.data)\n",
    "\n",
    "        funcs = [self.creator]\n",
    "        while funcs:\n",
    "            f = funcs.pop()                             # 주목\n",
    "            gys = [output.grad for output in f.outputs]\n",
    "            gxs = f.backward(*gys)\n",
    "            if not isinstance(gxs, tuple):\n",
    "                gxs = (gxs,)\n",
    "\n",
    "            for x, gx in zip(f.inputs, gxs):\n",
    "                if x.grad is None:\n",
    "                    x.grad = gx\n",
    "                else:\n",
    "                    x.grad = x.grad + gx\n",
    "\n",
    "                if x.creator is not None:   \n",
    "                    funcs.append(x.creator)             # 주목\n"
   ]
  },
  {
   "source": [
    "while 블록 마지막줄에 처리할 함수의 후보를 func 리스트의 끝에 추가  : func.append(x.creator)  \n",
    "다음에 처리할 함수를 그 리스트의 끝에서 꺼낸다 : funcs.pop()  \n",
    "\n",
    "책 설명 "
   ],
   "cell_type": "markdown",
   "metadata": {}
  },
  {
   "source": [
    "## 15.3 함수 우선순위\n",
    "\n",
    "funcs 리스트에는 다음에 처리할 함수의 '후보'들이 들어 있다.  \n",
    "지금까지는 아무생각없이 '마지막' 원소만 꺼냈다.  \n",
    "이 문제를 해결하기 위해서는 함수에 '우선순위'를 줄 수 있어야 한다.  \n",
    "\n",
    "1. 주어진 계산 그래프를 '분석'하여 알아내는 방법\n",
    "    - 위상 정렬 알고리즘을 사용하면 노드의 연결 방법을 기초로 노드들을 정렬할 수 있다.\n",
    "    - 이 '정렬 순서'가 우선순위가 된다.\n",
    "\n",
    "2. 우리는 일반적인 계산(순전파) 때 '함수'가 '변수'를 만들어내는 과정을 '목격'하고 있다.  \n",
    "    - 즉, 어떤 함수가 어떤 변수를 만들어내는가 하는 '관계'를 이미 목격하고 있다.  \n",
    "    - 이 관계를 기준으로 함수와 변수의 '세대(generation)'을 기록할 수 있다.  \n",
    "    - 이 '세대'가 우선순위가 된다."
   ],
   "cell_type": "markdown",
   "metadata": {}
  },
  {
   "source": [
    "# Step16, 복잡한 계산 그래프(구현 편)\n",
    "\n",
    "1. 순전파 시 '세대'를 설정하는 부분\n",
    "2. 역전파 시 최근 세대의 함수부터 꺼낸다.  \n",
    "\n",
    "이렇게 하면 아무리 복잡한 계산 그래프라도 올바른 순서로 역전파가 이루어진다."
   ],
   "cell_type": "markdown",
   "metadata": {}
  },
  {
   "source": [
    "## 16.1 세대 추가 \n",
    "\n",
    "인스턴스 변수 generation을 Variable 클래스와 Function 클래스에 추가.  \n",
    "몇 번째 '세대'의 함수(혹은 변수)인지 나타내는 변수이다."
   ],
   "cell_type": "markdown",
   "metadata": {}
  },
  {
   "cell_type": "code",
   "execution_count": 3,
   "metadata": {},
   "outputs": [],
   "source": [
    "import numpy as np\n",
    "\n",
    "class Variable:\n",
    "    def __init__(self, data):\n",
    "        if data is not None:\n",
    "            if not isinstance(data, np.ndarray):\n",
    "                raise TypeError('{}은(는) 지원하지 않습니다.'.format(type(data)))\n",
    "        \n",
    "        self.data = data \n",
    "        self.grad = None        # 미분 변수\n",
    "        self.creator = None     # 변수의 창조자를 기록하는 변수\n",
    "        self.generation = 0     # 세대를 기록하는 변수\n",
    "    \n",
    "    def set_creator(self,func):\n",
    "        self.creator = func \n",
    "        self.generation = func.generation + 1   # 세대를 기록한다(부모 세대 + 1)\n",
    "    \n",
    "    # ..... 생략 ..... "
   ]
  },
  {
   "source": [
    "Variable 클래스  \n",
    "Variable 클래스는 generation을 0으로 초기화한다.  \n",
    "set_creator 메서드가 호출될 때 부모 함수의 세대보다 1 큰 값을 설정한다.\n",
    "f.generation이 2인 함수에서 만들어진 변수인 y의 generation은 3이된다.\n",
    "\n",
    "Function 클래스  \n",
    "Function 클래스의 generation은 입력 변수와 같은 값으로 설정  \n",
    "입력 변수의 generation이 4라면 함수의 generation도 4가 된다.  \n",
    "입력 변수가 둘 이상이면 가장 큰 generation의 수를 선택한다.  \n",
    "    - 예를 들어 입력변수 2개의 generation이 각각 3과 4라면 함수의 generation은 4이다."
   ],
   "cell_type": "markdown",
   "metadata": {}
  },
  {
   "cell_type": "code",
   "execution_count": 5,
   "metadata": {},
   "outputs": [],
   "source": [
    "class Function(object):\n",
    "    def __call__(self,*inputs):\n",
    "        xs = [x.data for x in inputs]\n",
    "        ys = self.forward(*xs)\n",
    "        if not isinstance(ys, tuple):\n",
    "            ys = (ys,)\n",
    "        outputs = [Variable(as_array(y)) for y in ys]\n",
    "\n",
    "        self.generation = max([x.generation for x in inputs])   # inputs의 generation중에 가장 큰것\n",
    "\n",
    "        for output in outputs:\n",
    "            output.set_creator(self)\n",
    "\n",
    "        self.inputs = inputs \n",
    "        self.outputs = outputs\n",
    "\n",
    "        return outputs if len(outputs) > 1 else outputs[0]\n",
    "\n",
    "    # ..... 생략 ....."
   ]
  },
  {
   "source": [
    "# 최종 코드"
   ],
   "cell_type": "markdown",
   "metadata": {}
  },
  {
   "cell_type": "code",
   "execution_count": 43,
   "metadata": {},
   "outputs": [],
   "source": [
    "import numpy as np\n",
    "\n",
    "class Variable:\n",
    "    def __init__(self, data):\n",
    "        if data is not None:\n",
    "            if not isinstance(data, np.ndarray):                            # 입력받는 데이터가 ndarray 구조가 아니면 오류 발생\n",
    "                raise TypeError('{} is not supported'.format(type(data)))\n",
    "\n",
    "        self.data = data        # 데이터 선언\n",
    "        self.grad = None        # 미분값 선언\n",
    "        self.creator = None     # 이 데이터가 어디출신인지, 어느 공장에서 만들어졌는지 표기\n",
    "        self.generation = 0     # 세대를 기록하는 변수\n",
    "\n",
    "    def set_creator(self, func):    # 생성자 = 공장 = 함수\n",
    "        self.creator = func \n",
    "        self.generation = func.generation + 1   # 세대를 기록한다(부모 세대 + 1)\n",
    "    \n",
    "    def cleargrad(self):\n",
    "        self.grad = None\n",
    "\n",
    "    def backward(self):\n",
    "        if self.grad is None:\n",
    "            self.grad = np.ones_like(self.data)     # 미분값이 없으면 모두 1로 구성된 행렬\n",
    "\n",
    "        funcs = [self.creator]                      # 함수들을 담는 리스트 \n",
    "        while funcs:\n",
    "            f = funcs.pop()                         # 함수들을 하나씩 뽑는다.\n",
    "            gys = [output.grad for output in f.outputs]     # 출력변수인 outputs에 담겨있는 미분값(.grad)들을 리스트에 담는다\n",
    "            gxs = f.backward(*gys)                          # f의 역전파를 호출한다. *를 붙혀 리스트를 풀면서 넣어준다.(리스트 언팩)\n",
    "            if not isinstance(gxs, tuple):                  # gxs가 튜플이 아니면 튜플로 변환한다.\n",
    "                gxs = (gxs,)\n",
    "\n",
    "            for x, gx in zip(f.inputs, gxs):                # gxs와 f.inputs의 각 원소는 서로 대응 관계\n",
    "                if x.grad is None:\n",
    "                    x.grad = gx                             # 역전파로 전파되는 미분값을 Variable의 인스턴스 변수 grad에 저장\n",
    "                else:\n",
    "                    x.grad = x.grad + gx\n",
    "\n",
    "                if x.creator is not None:\n",
    "                    funcs.append(x.creator)\n",
    "\n",
    "\n",
    "\n",
    "def as_array(x):\n",
    "    if np.isscalar(x):\n",
    "        return np.array(x)                                  # 입력이 스칼라인 경우 ndarray 인스턴스로 변화해줌\n",
    "    return x\n",
    "\n",
    "\n",
    "class Function:\n",
    "    def __call__(self, *inputs):\n",
    "        xs = [x.data for x in inputs]                       # 가변길이 인수를 다루기위해, 변수를 리스트에 담아 취급\n",
    "        ys = self.forward(*xs)\n",
    "        if not isinstance(ys, tuple):\n",
    "            ys = (ys,)\n",
    "        outputs = [Variable(as_array(y)) for y in ys]       # 가변길이 입력이므로 가변길이 출력을 리스트로 담는다\n",
    "\n",
    "        self.generation = max([x.generation for x in inputs])   # inputs의 generation중에 가장 큰것\n",
    "\n",
    "        for output in outputs:\n",
    "            output.set_creator(self)                     # 각각의 output들이 어디 출신 변수인지 정해짐, 자신이 창조자라고 원산지 표시를 함\n",
    "\n",
    "        self.inputs = inputs\n",
    "        self.outputs = outputs\n",
    "        return outputs if len(outputs) > 1 else outputs[0]  # 리스트의 원소가 하나라면 첫번째 원소를 반환한다, 해당 변수를 직접 돌려준다\n",
    "\n",
    "    def forward(self, xs):\n",
    "        raise NotImplementedError()\n",
    "\n",
    "    def backward(self, gys):\n",
    "        raise NotImplementedError()\n",
    "\n",
    "\n",
    "class Square(Function):\n",
    "    def forward(self, x):\n",
    "        y = x ** 2\n",
    "        return y\n",
    "\n",
    "    def backward(self, gy):\n",
    "        x = self.inputs[0].data\n",
    "        gx = 2 * x * gy\n",
    "        return gx\n",
    "\n",
    "\n",
    "def square(x):\n",
    "    f = Square()\n",
    "    return f(x)\n",
    "\n",
    "\n",
    "class Add(Function):\n",
    "    def forward(self, x0, x1):\n",
    "        y = x0 + x1\n",
    "        return y\n",
    "\n",
    "    def backward(self, gy):\n",
    "        return gy, gy\n",
    "\n",
    "\n",
    "def add(x0, x1):\n",
    "    return Add()(x0, x1)"
   ]
  },
  {
   "source": [
    "## 16.2 세대 순으로 꺼내기 \n",
    "\n",
    "일반적인 계산(순전파)을 하면 모든 변수와 함수에 세대가 설정된다.  \n",
    "이렇게 세대가 설정되어 있으면 역전파 때 함수를 올바른 순서로 꺼낼수 있다.\n",
    "\n",
    "**NOTE_** Variable 클래스의 backward 메서드안에서는 처리할 함수의 후보들을 funcs 리스트에 보관한다.  \n",
    "따라서 funcs에서 세대가 큰 함수부터 꺼내게 하면 올바른 순서로 역전파 할 수 있다."
   ],
   "cell_type": "markdown",
   "metadata": {}
  },
  {
   "cell_type": "code",
   "execution_count": 44,
   "metadata": {},
   "outputs": [
    {
     "output_type": "stream",
     "name": "stdout",
     "text": [
      "[2, 0, 1, 4, 2]\n"
     ]
    }
   ],
   "source": [
    "# 함수를 세대 순으로 꺼내는 간단한 실험을 해본다.\n",
    "\n",
    "generations = [2,0,1,4,2]\n",
    "funcs = []\n",
    "\n",
    "for g in generations:\n",
    "    f = Function()      # 더미 함수 클래스 \n",
    "    f.generation = g \n",
    "    funcs.append(f)\n",
    "\n",
    "print([f.generation for f in funcs])"
   ]
  },
  {
   "cell_type": "code",
   "execution_count": 45,
   "metadata": {},
   "outputs": [
    {
     "output_type": "stream",
     "name": "stdout",
     "text": [
      "[0, 1, 2, 2, 4]\n4\n"
     ]
    }
   ],
   "source": [
    "# 위와 같이 더미 함수를 준비하고 funcs 리스트에 추가한다. 그런다음 이 리스트에서 세대가 가장 큰 함수를 꺼낸다.\n",
    "funcs.sort(key=lambda x: x.generation)  # 리스트의 원소 x를 x.generation을 키로 사용해 정렬해라\n",
    "print([f.generation for f in funcs])\n",
    "\n",
    "f = funcs.pop()                         # 가장 큰 값을 꺼낸다.\n",
    "print(f.generation)"
   ]
  },
  {
   "source": [
    "## 16.3 Variable 클래스의 backward \n",
    "\n",
    "달라진 부분 찾기 "
   ],
   "cell_type": "markdown",
   "metadata": {}
  },
  {
   "cell_type": "code",
   "execution_count": 48,
   "metadata": {},
   "outputs": [],
   "source": [
    "class Variable:\n",
    "    def __init__(self, data):\n",
    "        if data is not None:\n",
    "            if not isinstance(data, np.ndarray):                            # 입력받는 데이터가 ndarray 구조가 아니면 오류 발생\n",
    "                raise TypeError('{} is not supported'.format(type(data)))\n",
    "\n",
    "        self.data = data        # 데이터 선언\n",
    "        self.grad = None        # 미분값 선언\n",
    "        self.creator = None     # 이 데이터가 어디출신인지, 어느 공장에서 만들어졌는지 표기\n",
    "        self.generation = 0     # 세대를 기록하는 변수\n",
    "\n",
    "    def set_creator(self, func):    # 생성자 = 공장 = 함수\n",
    "        self.creator = func \n",
    "        self.generation = func.generation + 1   # 세대를 기록한다(부모 세대 + 1)\n",
    "\n",
    "    def cleargrad(self):\n",
    "        self.grad = None\n",
    "\n",
    "    def backward(self):\n",
    "        if self.grad is None:\n",
    "            self.grad = np.ones_like(self.data)     # 미분값이 없으면 모두 1로 구성된 행렬\n",
    "\n",
    "        funcs = []                      # <-- 바뀐부분\n",
    "        seen_set = set()                # 집합은 중복을 막는다.\n",
    "\n",
    "        def add_func(f):\n",
    "            if f not in seen_set:\n",
    "                funcs.append(f)\n",
    "                seen_set.add(f)\n",
    "                funcs.sort(key=lambda x: x.generation)\n",
    "\n",
    "        add_func(self.creator)              # DezZero 함수 리스트를 세대순으로 정렬하는 역할 \n",
    "                                            # 그결과 funcs.pop()은 자동으로 세대가 가장 큰 DeZero 함수 순으로 꺼낸다. \n",
    "\n",
    "        while funcs:\n",
    "            f = funcs.pop()                         # 함수들을 하나씩 뽑는다.\n",
    "            gys = [output.grad for output in f.outputs]     # 출력변수인 outputs에 담겨있는 미분값(.grad)들을 리스트에 담는다\n",
    "            gxs = f.backward(*gys)                          # f의 역전파를 호출한다. *를 붙혀 리스트를 풀면서 넣어준다.(리스트 언팩)\n",
    "            if not isinstance(gxs, tuple):                  # gxs가 튜플이 아니면 튜플로 변환한다.\n",
    "                gxs = (gxs,)\n",
    "\n",
    "            for x, gx in zip(f.inputs, gxs):                # gxs와 f.inputs의 각 원소는 서로 대응 관계\n",
    "                if x.grad is None:\n",
    "                    x.grad = gx                             # 역전파로 전파되는 미분값을 Variable의 인스턴스 변수 grad에 저장\n",
    "                else:\n",
    "                    x.grad = x.grad + gx\n",
    "\n",
    "                if x.creator is not None:\n",
    "                    add_func(x.creator)      # <-- 바뀐부분, 수정전: funcs.append(x.creator) 출처가 있는 데이터를 add_funcs에 넣는다.\n"
   ]
  },
  {
   "source": [
    "그동안 'DeZero 함수'를 리스트에 추가할 때 funcs.append(f)를 호출했다.  \n",
    "대신 add_func() 함수를 호출하도록 변경  \n",
    "add_func() 함수가 DeZero 함수 리스트를 세대 순으로 정렬하는 역할 \n",
    "그 결과 funcs.pop()은 자동으로 세대가 가장 큰 순서대로 함수를 꺼낸다. \n",
    "\n",
    "senn_set = set()에서 집합을 이용하고 있다.  \n",
    "funcs 리스트에 같은 함수를 중복 추가하는 일을 막기 위해서이다.  \n",
    "때문에 함수의 backward 메서드가 잘못되어 여러 번 불리는 일은 발생하지 않는다."
   ],
   "cell_type": "markdown",
   "metadata": {}
  },
  {
   "source": [
    "## 16.4 동작 확인 \n",
    "세대가 큰 함수부터 꺼낼 수 있게 되었다.  \n",
    "아무리 복잡한 계산 그래프의 역전파도 올바른 순서로 진행할 수 있다."
   ],
   "cell_type": "markdown",
   "metadata": {}
  },
  {
   "cell_type": "code",
   "execution_count": 49,
   "metadata": {},
   "outputs": [
    {
     "output_type": "stream",
     "name": "stdout",
     "text": [
      "32.0\n64.0\n"
     ]
    }
   ],
   "source": [
    "# a = x^2\n",
    "# y = a^2 + a^2 --> (x^2)^2 + (x^2)^2 = 2x^4\n",
    "x = Variable(np.array(2.0))\n",
    "a = square(x)\n",
    "y = add(square(a),square(a))\n",
    "y.backward()\n",
    "# y' = 8x^3\n",
    "\n",
    "print(y.data)\n",
    "print(x.grad)"
   ]
  }
 ]
}