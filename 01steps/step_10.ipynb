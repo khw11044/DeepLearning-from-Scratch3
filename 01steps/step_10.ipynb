{
 "metadata": {
  "language_info": {
   "codemirror_mode": {
    "name": "ipython",
    "version": 3
   },
   "file_extension": ".py",
   "mimetype": "text/x-python",
   "name": "python",
   "nbconvert_exporter": "python",
   "pygments_lexer": "ipython3",
   "version": "3.8.5-final"
  },
  "orig_nbformat": 2,
  "kernelspec": {
   "name": "python3",
   "display_name": "Python 3.8.5 64-bit (conda)",
   "metadata": {
    "interpreter": {
     "hash": "97ae724bfa85b9b34df7982b8bb8c7216f435b92902d749e4263f71162bea840"
    }
   }
  }
 },
 "nbformat": 4,
 "nbformat_minor": 2,
 "cells": [
  {
   "source": [
    "# Step10, 테스트\n",
    "\n",
    "## 10.1 파이썬 단위 테스트\n",
    "\n",
    "파이썬으로 테스트할 때는 표준 라이브러리에 포함된 unittest를 사용하면 편하다."
   ],
   "cell_type": "markdown",
   "metadata": {}
  },
  {
   "cell_type": "code",
   "execution_count": 8,
   "metadata": {},
   "outputs": [],
   "source": [
    "import unittest \n",
    "from DeZero import *\n",
    "\n",
    "class SquareTest(unittest.TestCase):\n",
    "    def test_forward(self):\n",
    "        x = Variable(np.array(2.0))\n",
    "        y = square(x)\n",
    "        expected = np.array(4.0)\n",
    "        self.assertEqual(y.data, expected)      # y값과 예측값이 같은지 \n"
   ]
  },
  {
   "source": [
    "assertEqual(y.data, expected)는 두 객체가 서로 동일한지 여부를 판정  \n",
    "이것 뿐만아니라 unittest에는 assertGreater와 assertTrue등이 있다."
   ],
   "cell_type": "markdown",
   "metadata": {}
  },
  {
   "source": [
    "## 10.2 square 함수의 역전파 테스트 \n"
   ],
   "cell_type": "markdown",
   "metadata": {}
  },
  {
   "cell_type": "code",
   "execution_count": 11,
   "metadata": {},
   "outputs": [],
   "source": [
    "import unittest \n",
    "from DeZero import *\n",
    "\n",
    "class SquareTest(unittest.TestCase):\n",
    "    def test_forward(self):\n",
    "        x = Variable(np.array(2.0))\n",
    "        y = square(x)\n",
    "        expected = np.array(4.0)\n",
    "        self.assertEqual(y.data, expected)      # y값과 예측값이 같은지 \n",
    "\n",
    "    def test_backward(self):\n",
    "        x = Variable(np.array(3.0))\n",
    "        y = square(x)\n",
    "        y.backward()\n",
    "        expected = np.array(6.0)\n",
    "        self.assertEqual(x.grad, expected)"
   ]
  },
  {
   "source": [
    "## 10.3 기울기 확인을 이용한 자동 테스트\n",
    "\n",
    "위 셀에서는 미분의 기댓값을 손으로 계산해 입력하였다. 이 부분을 자동화한다.\n",
    "\n",
    "**기울기 확인** : 수치 미분으로 구한 결과와 역전파로 구한 결과를 비교하여 그 차이가 크면 역전파 구현에 문제가 있다고 판단하는 검증 기법\n",
    "\n",
    "기울기 확인은 (기대값을 몰라도) 입력값만 준비하면 되므로 테스트 효율을 높혀준다."
   ],
   "cell_type": "markdown",
   "metadata": {}
  },
  {
   "cell_type": "code",
   "execution_count": 14,
   "metadata": {},
   "outputs": [],
   "source": [
    "# 중앙 차분, 수치미분\n",
    "def numerical_diff(f, x, eps=1e-4):\n",
    "    x0 = Variable(x.data - eps)\n",
    "    x1 = Variable(x.data + eps)\n",
    "    y0 = f(x0)\n",
    "    y1 = f(x1)\n",
    "    return (y1.data - y0.data) / (2 * eps)\n",
    "\n",
    "\n",
    "class SquareTest(unittest.TestCase):\n",
    "    def test_forward(self):\n",
    "        x = Variable(np.array(2.0))\n",
    "        y = square(x)\n",
    "        expected = np.array(4.0)\n",
    "        self.assertEqual(y.data, expected)\n",
    "\n",
    "    def test_backward(self):\n",
    "        x = Variable(np.array(3.0))\n",
    "        y = square(x)\n",
    "        y.backward()\n",
    "        expected = np.array(6.0)\n",
    "        self.assertEqual(x.grad, expected)\n",
    "\n",
    "    def test_gradient_check(self):\n",
    "        x = Variable(np.random.rand(1))         # 무작위 입력값을 하나 생성\n",
    "        y = square(x)\n",
    "        y.backward()                            # 역전파로 미분값\n",
    "        num_grad = numerical_diff(square, x)    # 수치미분으로 미분값\n",
    "        flg = np.allclose(x.grad, num_grad)     # 두 방법의 미분값을 비교 가까우면 True\n",
    "        self.assertTrue(flg)"
   ]
  },
  {
   "source": [
    "np.allclose(a, b)는 ndarray 인스턴스인 a와 b의 값이 가까운지 판정  \n",
    "\n",
    "얼마나 가까워야 가까운것인지 기준은 np.allclose(a, b, rtol=1e-05, atol=1e-08)과 같이 인수 rtol과 atol로 지정  \n",
    "조건을 만족하면 True를 반환 \n",
    "\n",
    "|a - b| <= (atol + rtol * |b|)"
   ],
   "cell_type": "markdown",
   "metadata": {}
  },
  {
   "source": [
    "## 10.4 테스트 정리 \n",
    "\n",
    "tests 디렉토리에 모야져 있음\n",
    "\n",
    "테스트 파일들을 한번에 실행하여 확인하고 싶으면 \n",
    "\n",
    "python -m unittest discover tests\n",
    "\n",
    "tests는 파일들이 들어있는 디렉토리 "
   ],
   "cell_type": "markdown",
   "metadata": {}
  }
 ]
}