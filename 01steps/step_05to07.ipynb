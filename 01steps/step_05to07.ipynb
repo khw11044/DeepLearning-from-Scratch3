{
 "metadata": {
  "language_info": {
   "codemirror_mode": {
    "name": "ipython",
    "version": 3
   },
   "file_extension": ".py",
   "mimetype": "text/x-python",
   "name": "python",
   "nbconvert_exporter": "python",
   "pygments_lexer": "ipython3",
   "version": "3.8.5-final"
  },
  "orig_nbformat": 2,
  "kernelspec": {
   "name": "python3",
   "display_name": "Python 3.8.5 64-bit (conda)",
   "metadata": {
    "interpreter": {
     "hash": "97ae724bfa85b9b34df7982b8bb8c7216f435b92902d749e4263f71162bea840"
    }
   }
  }
 },
 "nbformat": 4,
 "nbformat_minor": 2,
 "cells": [
  {
   "source": [
    "# step5, 역전파 이론"
   ],
   "cell_type": "markdown",
   "metadata": {}
  },
  {
   "source": [
    "# Step6, 수동 역전파\n",
    "\n",
    "## 6.1 Variable 클래스 추가 구현\n",
    "\n",
    "역전파에 대응하는 Variable 클래스를 구현  \n",
    "그러기 위해 통상값(data)과 더불어 그에 대응하는 미분값(grad)도 저장하도록 확장\n",
    "\n",
    "인스턴스 변수인 data와 grad는 모두 넘파이의 다차원 배열(ndarray)이라고 가정  \n",
    "grad는 None으로 초기화해둔 다음, 나중에 실제로 역전파를 하면 미분값을 계산하여 대입"
   ],
   "cell_type": "markdown",
   "metadata": {}
  },
  {
   "cell_type": "code",
   "execution_count": 2,
   "metadata": {},
   "outputs": [],
   "source": [
    "import numpy as np"
   ]
  },
  {
   "cell_type": "code",
   "execution_count": 3,
   "metadata": {},
   "outputs": [],
   "source": [
    "class Variable:\n",
    "    def __init__(self, data):\n",
    "        self.data = data \n",
    "        self.grad = None "
   ]
  },
  {
   "source": [
    "## 6.2 Function 클래스 추가 구현\n",
    "\n",
    "이전 단계까지의 Function 클래스는 일반적인 계산을 하는 순전파(forward 메서드) 기능만 지원하는 상태 \n",
    "- 미분을 계산하는 역전파(backward 메서드)\n",
    "- forward 메서드 호출시 건네받은 Variable 인스턴스 유지"
   ],
   "cell_type": "markdown",
   "metadata": {}
  },
  {
   "cell_type": "code",
   "execution_count": 4,
   "metadata": {},
   "outputs": [],
   "source": [
    "class Function:\n",
    "    def __call__(self, input):\n",
    "        x = input.data\n",
    "        y = self.forward(x)\n",
    "        output = Variable(y)\n",
    "        self.input = input  # 입력변수를 기억(보관)한다. \n",
    "        return output\n",
    "    \n",
    "    def forward(self, x):\n",
    "        raise NotImplementedError() \n",
    "\n",
    "    def backward(self, gy):\n",
    "        raise NotImplementedError()"
   ]
  },
  {
   "source": [
    "## 6.3 Square와 Exp 클래스 추가 구현\n",
    "\n",
    "이어서 Function을 상속한 구체적인 함수에서 역전파(backward)를 구현  "
   ],
   "cell_type": "markdown",
   "metadata": {}
  },
  {
   "cell_type": "code",
   "execution_count": 5,
   "metadata": {},
   "outputs": [],
   "source": [
    "class Square(Function):\n",
    "    def forward(self, x):\n",
    "        y = x ** 2\n",
    "        return y \n",
    "    \n",
    "    def backward(self, gy):\n",
    "        x = self.input.data \n",
    "        gx = 2 * x * gy \n",
    "        return gx"
   ]
  },
  {
   "cell_type": "code",
   "execution_count": 6,
   "metadata": {},
   "outputs": [],
   "source": [
    "class Exp(Function):\n",
    "    def forward(self, x):\n",
    "        y = np.exp(x)\n",
    "        return y\n",
    "    \n",
    "    def backward(self, gy):\n",
    "        x = self.input.data\n",
    "        gx = np.exp(x) * gy\n",
    "        return gx"
   ]
  },
  {
   "source": [
    "## 6.4 역전파 구현 \n"
   ],
   "cell_type": "markdown",
   "metadata": {}
  },
  {
   "cell_type": "code",
   "execution_count": 7,
   "metadata": {},
   "outputs": [],
   "source": [
    "A = Square()\n",
    "B = Exp()\n",
    "C = Square()\n",
    "\n",
    "x = Variable(np.array(0.5))\n",
    "a = A(x)\n",
    "b = B(a)\n",
    "y = C(b)"
   ]
  },
  {
   "cell_type": "code",
   "execution_count": 8,
   "metadata": {},
   "outputs": [
    {
     "output_type": "stream",
     "name": "stdout",
     "text": [
      "3.297442541400256\n"
     ]
    }
   ],
   "source": [
    "y.grad = np.array(1.0)\n",
    "b.grad = C.backward(y.grad)\n",
    "a.grad = B.backward(b.grad)\n",
    "x.grad = A.backward(a.grad)\n",
    "print(x.grad)"
   ]
  },
  {
   "source": [
    "# Step7, 역전파 자동화"
   ],
   "cell_type": "markdown",
   "metadata": {}
  },
  {
   "source": [
    "이전 단계에서 역전파를 동작시켰다. 그러나 역전파 계산 코드를 수동으로 조합했다.  \n",
    "새로운 계산을 할 때마다 역전파 코드를 직접 작성해야 한다.\n",
    "\n",
    "이제부터 역전파를 자동화  \n",
    "계산(순전파)을 한 번만 해주면 어떤 계산이라도 상관없이 역전파가 자동으로 이루어지는 구조\n",
    "\n",
    "**Define-by-Run**  \n",
    "Define-by-Run : 딥러닝에서 수행하는 계산들을 계산 시점에 '연결'하는 방식  \n",
    "'동적 계산 그래프'라고더 함.\n",
    "\n",
    "함수의 순서를 리스트 형태로 저장해두면 나중에 거꾸로 추적하는 식으로 역전파를 자동화\n"
   ],
   "cell_type": "markdown",
   "metadata": {}
  },
  {
   "source": [
    "## 7.1 역전파 자동화의 시작\n",
    "\n",
    "변수와 함수의 관계  \n",
    "변수 입장에서 변수를 만들어준 함수는 창조자  \n",
    "창조자인 함수가 존재하지 않는 변수는 사용자에 의해 만들어진 변수로 간주 \n",
    "\n",
    "일반적인 계산(순전파)이 이루어지는 시점에 '관계'를 맺어주도록 만듬(함수와 변수를 연결)\n",
    "\n",
    "creator라는 인스턴스 변수 추가"
   ],
   "cell_type": "markdown",
   "metadata": {}
  },
  {
   "cell_type": "code",
   "execution_count": 9,
   "metadata": {},
   "outputs": [],
   "source": [
    "import numpy as np\n",
    "\n",
    "\n",
    "class Variable:\n",
    "    def __init__(self, data):\n",
    "        self.data = data\n",
    "        self.grad = None\n",
    "        self.creator = None\n",
    "\n",
    "    def set_creator(self, func):\n",
    "        self.creator = func"
   ]
  },
  {
   "cell_type": "code",
   "execution_count": 10,
   "metadata": {},
   "outputs": [],
   "source": [
    "class Function:\n",
    "    def __call__(self, input):\n",
    "        x = input.data\n",
    "        y = self.forward(x)\n",
    "        output = Variable(y)\n",
    "        output.set_creator(self)  # Set parent(function)\n",
    "        self.input = input\n",
    "        self.output = output  # Set output\n",
    "        return output"
   ]
  },
  {
   "source": [
    "순전파를 계산하면 그 결과 output이라는 Variable 인스턴스가 생성  \n",
    "이때 생성된 output에 '내가 너의 창조자임'을 기억시킨다.  \n",
    "이 부분이 '연결'을 동적으로 만드는 기법의 핵심  \n",
    "그런 다음 앞으로를 위해 output을 인스턴스 변수에 저장"
   ],
   "cell_type": "markdown",
   "metadata": {}
  },
  {
   "cell_type": "code",
   "execution_count": 11,
   "metadata": {},
   "outputs": [],
   "source": [
    "class Square(Function):\n",
    "    def forward(self, x):\n",
    "        y = x ** 2\n",
    "        return y\n",
    "\n",
    "    def backward(self, gy):\n",
    "        x = self.input.data\n",
    "        gx = 2 * x * gy\n",
    "        return gx\n",
    "\n",
    "\n",
    "class Exp(Function):\n",
    "    def forward(self, x):\n",
    "        y = np.exp(x)\n",
    "        return y\n",
    "\n",
    "    def backward(self, gy):\n",
    "        x = self.input.data\n",
    "        gx = np.exp(x) * gy\n",
    "        return gx"
   ]
  },
  {
   "cell_type": "code",
   "execution_count": 12,
   "metadata": {},
   "outputs": [],
   "source": [
    "A = Square()\n",
    "B = Exp()\n",
    "C = Square()\n",
    "\n",
    "x = Variable(np.array(0.5))\n",
    "a = A(x)\n",
    "b = B(a)\n",
    "y = C(b)\n",
    "\n",
    "assert y.creator == C \n",
    "assert y.creator.input == b \n",
    "assert y.creator.input.creator == B \n",
    "assert y.creator.input.creator.input == a \n",
    "assert y.creator.input.creator.input.creator == A \n",
    "assert y.creator.input.creator.input.creator.input == x"
   ]
  },
  {
   "source": [
    "assert : '단언하다', '단호하게 주장하다'  \n",
    "assert '주장' \n",
    "\n",
    "'주장' 그 평가 결과가 True가 아니면 예외가 발생  \n",
    "assert 문은 조건을 충족하는지  여부를 확인하는데 사용"
   ],
   "cell_type": "markdown",
   "metadata": {}
  },
  {
   "source": [
    "**Define-by-Run**  \n",
    "데이터를 흘려보냄으로써(Run함으로써) 연결이 규정된다는(Define된다는) 뜻"
   ],
   "cell_type": "markdown",
   "metadata": {}
  },
  {
   "source": [
    "노드들의 연결로 이루어진 데이터 구조를 \"링크드 리스트(linked list)**  \n",
    "노드는 그래프를 구성하는 요소이며, link는 다른 노드를 가리키는 참조를 뜻함  \n",
    "linked list라는 데이터 구조를 이용해 계산 그래프를 표현한것이다."
   ],
   "cell_type": "markdown",
   "metadata": {}
  },
  {
   "source": [
    "## 7.2 역전파 도전!\n",
    "\n",
    "y에서 b까지의 역전파를 시도 (그림을 보면서)"
   ],
   "cell_type": "markdown",
   "metadata": {}
  },
  {
   "source": [
    "흐름  \n",
    "1. 함수를 가져온다.  \n",
    "2. 함수의 입력을 가져온다.  \n",
    "3. 함수의 backward 메서드를 호출한다. "
   ],
   "cell_type": "markdown",
   "metadata": {}
  },
  {
   "cell_type": "code",
   "execution_count": 13,
   "metadata": {},
   "outputs": [],
   "source": [
    "y.grad = np.array(1.0)\n",
    "\n",
    "C = y.creator   # 1. 함수를 가져온다.\n",
    "b = C.input     # 2. 함수의 입력을 가져온다. \n",
    "b.grad = C.backward(y.grad) # 3. 함수의 backward 메서드를 호출한다"
   ]
  },
  {
   "cell_type": "code",
   "execution_count": 14,
   "metadata": {},
   "outputs": [],
   "source": [
    "B = b.creator   # 1. 함수를 가져온다.\n",
    "a = B.input     # 2. 함수의 입력을 가져온다. \n",
    "a.grad = B.backward(b.grad) # 3. 함수의 backward 메서드를 호출한다."
   ]
  },
  {
   "cell_type": "code",
   "execution_count": 15,
   "metadata": {},
   "outputs": [
    {
     "output_type": "stream",
     "name": "stdout",
     "text": [
      "3.297442541400256\n"
     ]
    }
   ],
   "source": [
    "A = a.creator   # 1. 함수를 가져온다.\n",
    "x = A.input     # 2. 함수의 입력을 가져온다. \n",
    "x.grad = A.backward(a.grad) # 3. 함수의 backward 메서드를 호출한다.\n",
    "\n",
    "print(x.grad)"
   ]
  },
  {
   "source": [
    "## 7.3 backward 메서드 추가 "
   ],
   "cell_type": "markdown",
   "metadata": {}
  },
  {
   "cell_type": "code",
   "execution_count": 25,
   "metadata": {},
   "outputs": [],
   "source": [
    "class Variable:\n",
    "    def __init__(self, data):\n",
    "        self.data = data \n",
    "        self.grad = None\n",
    "        self.creator = None \n",
    "\n",
    "    def set_creator(self, func):\n",
    "        self.creator = func \n",
    "\n",
    "    def backward(self):\n",
    "        f = self.creator    # 1. 함수를 가져온다. \n",
    "        if f is not None:\n",
    "            x = f.input     # 2. 함수의 입력을 가져온다.\n",
    "            x.grad = f.backward(self.grad)\n",
    "            x.backward()    # 하나 앞 변수의 backward 메서드를 호출한다(재귀)"
   ]
  },
  {
   "source": [
    "**Note_** Variable 인스턴스의 creator가 None이면 역전파가 중단. 창조자가 없으므로 이 Variable인스턴스는 함수 바깥에서 생성됐음을 뜻함"
   ],
   "cell_type": "markdown",
   "metadata": {}
  },
  {
   "cell_type": "code",
   "execution_count": 29,
   "metadata": {},
   "outputs": [
    {
     "output_type": "stream",
     "name": "stdout",
     "text": [
      "0.25\n1.2840254166877414\n1.648721270700128\n3.297442541400256\n"
     ]
    }
   ],
   "source": [
    "# 함수 정의\n",
    "A = Square() \n",
    "B = Exp() \n",
    "C = Square() \n",
    "\n",
    "# 데이터 정의와 순전파\n",
    "x = Variable(np.array(0.5))\n",
    "a = A(x)\n",
    "print(a.data)\n",
    "b = B(a)\n",
    "print(b.data)\n",
    "y = C(b)\n",
    "print(y.data)\n",
    "\n",
    "# 역전파 \n",
    "y.grad = np.array(1.0)\n",
    "y.backward()\n",
    "print(x.grad)"
   ]
  },
  {
   "cell_type": "code",
   "execution_count": null,
   "metadata": {},
   "outputs": [],
   "source": []
  }
 ]
}