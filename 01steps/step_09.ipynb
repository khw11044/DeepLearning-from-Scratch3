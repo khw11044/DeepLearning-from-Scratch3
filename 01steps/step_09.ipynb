{
 "metadata": {
  "language_info": {
   "codemirror_mode": {
    "name": "ipython",
    "version": 3
   },
   "file_extension": ".py",
   "mimetype": "text/x-python",
   "name": "python",
   "nbconvert_exporter": "python",
   "pygments_lexer": "ipython3",
   "version": "3.8.5-final"
  },
  "orig_nbformat": 2,
  "kernelspec": {
   "name": "python3",
   "display_name": "Python 3.8.5 64-bit (conda)",
   "metadata": {
    "interpreter": {
     "hash": "97ae724bfa85b9b34df7982b8bb8c7216f435b92902d749e4263f71162bea840"
    }
   }
  }
 },
 "nbformat": 4,
 "nbformat_minor": 2,
 "cells": [
  {
   "source": [
    "# Step9, 함수를 더 편리하게 \n",
    "\n",
    "역전파를 해결 할수 있었다.  \n",
    "Define-by-Run이라는 전체 계산의 각 조각들을 런타임에 '연결'도 하였다.  \n",
    "\n",
    "하지만 사용하기에 조금 불편한 부분이 있어서 세가지를 개선한다."
   ],
   "cell_type": "markdown",
   "metadata": {}
  },
  {
   "source": [
    "## 9.1 파이썬 함수로 이용하기"
   ],
   "cell_type": "markdown",
   "metadata": {}
  },
  {
   "cell_type": "code",
   "execution_count": 31,
   "metadata": {},
   "outputs": [],
   "source": [
    "from function import Variable, Square, Exp\n",
    "import numpy as np \n",
    "\n",
    "x = Variable(np.array(0.5))\n",
    "f = Square()\n",
    "y = f(x)"
   ]
  },
  {
   "source": [
    "Square 클래스의 인스턴스를 생성한 다음 이어서 그 인스턴스를 호출하는 두 단계로 구분해 진행 \n",
    "\n",
    "번거롭 \n",
    "\n",
    "첫번째 개선 : '파이썬 함수'를 지원하는 방법"
   ],
   "cell_type": "markdown",
   "metadata": {}
  },
  {
   "cell_type": "code",
   "execution_count": 32,
   "metadata": {},
   "outputs": [],
   "source": [
    "def square(x):\n",
    "    return Square()(x)\n",
    "\n",
    "def exp(x):\n",
    "    return Exp()(x)"
   ]
  },
  {
   "cell_type": "code",
   "execution_count": 33,
   "metadata": {},
   "outputs": [
    {
     "output_type": "stream",
     "name": "stdout",
     "text": [
      "1.648721270700128\n3.297442541400256\n"
     ]
    }
   ],
   "source": [
    "x = Variable(np.array(0.5))\n",
    "\n",
    "a = square(x)\n",
    "b = exp(a)\n",
    "y = square(b)\n",
    "print(y.data)\n",
    "\n",
    "y.grad = np.array(1.0)\n",
    "y.backward()\n",
    "print(x.grad)"
   ]
  },
  {
   "cell_type": "code",
   "execution_count": 34,
   "metadata": {},
   "outputs": [
    {
     "output_type": "stream",
     "name": "stdout",
     "text": [
      "3.297442541400256\n"
     ]
    }
   ],
   "source": [
    "x = Variable(np.array(0.5))\n",
    "y = square(exp(square(x)))\n",
    "y.grad = np.array(1.0)\n",
    "y.backward()\n",
    "print(x.grad)"
   ]
  },
  {
   "source": [
    "## 9.2 backward 메서드 간소화\n",
    "\n",
    "두번째 개선: 역전파 시 사용자의 번거로움 줄이기\n",
    "\n",
    "y.grad = np.array(1.0) 부부을 생략하기"
   ],
   "cell_type": "markdown",
   "metadata": {}
  },
  {
   "cell_type": "code",
   "execution_count": 42,
   "metadata": {},
   "outputs": [],
   "source": [
    "import numpy as np\n",
    "\n",
    "\n",
    "class Variable:\n",
    "    def __init__(self, data):\n",
    "        self.data = data\n",
    "        self.grad = None\n",
    "        self.creator = None\n",
    "\n",
    "    def set_creator(self, func):\n",
    "        self.creator = func\n",
    "\n",
    "    def backward(self):\n",
    "        if self.grad is None:\n",
    "            self.grad = np.ones_like(self.data)\n",
    "\n",
    "        funcs = [self.creator]\n",
    "        while funcs:\n",
    "            f = funcs.pop()\n",
    "            x, y = f.input, f.output\n",
    "            x.grad = f.backward(y.grad)\n",
    "\n",
    "            if x.creator is not None:\n",
    "                funcs.append(x.creator)\n",
    "\n",
    "\n",
    "class Function:\n",
    "    def __call__(self, input):\n",
    "        x = input.data\n",
    "        y = self.forward(x)\n",
    "        output = Variable(y)\n",
    "        output.set_creator(self)\n",
    "        self.input = input\n",
    "        self.output = output\n",
    "        return output\n",
    "\n",
    "    def forward(self, x):\n",
    "        raise NotImplementedError()\n",
    "\n",
    "    def backward(self, gy):\n",
    "        raise NotImplementedError()\n",
    "\n",
    "\n",
    "class Square(Function):\n",
    "    def forward(self, x):\n",
    "        y = x ** 2\n",
    "        return y\n",
    "\n",
    "    def backward(self, gy):\n",
    "        x = self.input.data\n",
    "        gx = 2 * x * gy\n",
    "        return gx\n",
    "\n",
    "\n",
    "class Exp(Function):\n",
    "    def forward(self, x):\n",
    "        y = np.exp(x)\n",
    "        return y\n",
    "\n",
    "    def backward(self, gy):\n",
    "        x = self.input.data\n",
    "        gx = np.exp(x) * gy\n",
    "        return gx\n",
    "\n",
    "\n",
    "def square(x):\n",
    "    return Square()(x)\n",
    "\n",
    "\n",
    "def exp(x):\n",
    "    return Exp()(x)\n",
    "\n"
   ]
  },
  {
   "source": [
    "**Note_** 이전까지 출력의 미분값을 np.array(1.0)으로 사용 np.ones_like()를 사용  \n",
    "이유 : Variable의 data와 grad의 데이터 타입을 같게 만들기 위해"
   ],
   "cell_type": "markdown",
   "metadata": {}
  },
  {
   "cell_type": "code",
   "execution_count": 43,
   "metadata": {},
   "outputs": [
    {
     "output_type": "stream",
     "name": "stdout",
     "text": [
      "3.297442541400256\n"
     ]
    }
   ],
   "source": [
    "x = Variable(np.array(0.5))\n",
    "y = square(exp(square(x)))\n",
    "y.backward()\n",
    "print(x.grad)"
   ]
  },
  {
   "source": [
    "## 9.3 ndarray만 취급하기\n",
    "\n",
    "Variable은 데이터로 ndarray 인스턴스만 취급하려는 의도.  \n",
    "하지만 float나 int 데이터 타입 사용  \n",
    "이런 사태를 막기위해 Variable이 ndarray 인스턴스만 담는 '상자'가 되도록 고민  \n",
    "그래서 Variable에 ndarray 인스턴스 외에 데이터를 넣을 경우 즉시 오류 발생"
   ],
   "cell_type": "markdown",
   "metadata": {}
  },
  {
   "cell_type": "code",
   "execution_count": 45,
   "metadata": {},
   "outputs": [],
   "source": [
    "class Variable:\n",
    "    def __init__(self, data):\n",
    "        if data is not None:                            # 데이터가 None은 아닌데\n",
    "            if not isinstance(data, np.ndarray):        # ndarray도 아니면      오류 발생\n",
    "                raise TypeError(\"{}은(는) 지원하지 않습니다.\".format(type(data)))\n",
    "        \n",
    "        self.data = data\n",
    "        self.grad = None \n",
    "        self.creator = None \n",
    "\n",
    "    def set_creator(self, func):\n",
    "        self.creator = func\n",
    "    \n",
    "    def backward(self):\n",
    "        if self.grad is None:\n",
    "            self.grad = np.ones_like(self.data)\n",
    "        \n",
    "        funcs = [self.creator]\n",
    "        while funcs:\n",
    "            f = funcs.pop() \n",
    "            x, y = f.input, f.output\n",
    "            x.grad = f.backward(y.grad)\n",
    "\n",
    "            if x.creator is not None:\n",
    "                funcs.append(x.creator)\n",
    "                "
   ]
  },
  {
   "cell_type": "code",
   "execution_count": 48,
   "metadata": {},
   "outputs": [],
   "source": [
    "x = Variable(np.array(1.0))     # ok\n",
    "x = Variable(None)              # ok "
   ]
  },
  {
   "cell_type": "code",
   "execution_count": 49,
   "metadata": {},
   "outputs": [
    {
     "output_type": "error",
     "ename": "TypeError",
     "evalue": "<class 'float'>은(는) 지원하지 않습니다.",
     "traceback": [
      "\u001b[1;31m---------------------------------------------------------------------------\u001b[0m",
      "\u001b[1;31mTypeError\u001b[0m                                 Traceback (most recent call last)",
      "\u001b[1;32m<ipython-input-49-e2a4a5f54c55>\u001b[0m in \u001b[0;36m<module>\u001b[1;34m\u001b[0m\n\u001b[1;32m----> 1\u001b[1;33m \u001b[0mx\u001b[0m \u001b[1;33m=\u001b[0m \u001b[0mVariable\u001b[0m\u001b[1;33m(\u001b[0m\u001b[1;36m1.0\u001b[0m\u001b[1;33m)\u001b[0m               \u001b[1;31m# 오류\u001b[0m\u001b[1;33m\u001b[0m\u001b[1;33m\u001b[0m\u001b[0m\n\u001b[0m",
      "\u001b[1;32m<ipython-input-45-5d6c40da6a5f>\u001b[0m in \u001b[0;36m__init__\u001b[1;34m(self, data)\u001b[0m\n\u001b[0;32m      3\u001b[0m         \u001b[1;32mif\u001b[0m \u001b[0mdata\u001b[0m \u001b[1;32mis\u001b[0m \u001b[1;32mnot\u001b[0m \u001b[1;32mNone\u001b[0m\u001b[1;33m:\u001b[0m                            \u001b[1;31m# 데이터가 None은 아닌데\u001b[0m\u001b[1;33m\u001b[0m\u001b[1;33m\u001b[0m\u001b[0m\n\u001b[0;32m      4\u001b[0m             \u001b[1;32mif\u001b[0m \u001b[1;32mnot\u001b[0m \u001b[0misinstance\u001b[0m\u001b[1;33m(\u001b[0m\u001b[0mdata\u001b[0m\u001b[1;33m,\u001b[0m \u001b[0mnp\u001b[0m\u001b[1;33m.\u001b[0m\u001b[0mndarray\u001b[0m\u001b[1;33m)\u001b[0m\u001b[1;33m:\u001b[0m        \u001b[1;31m# ndarray도 아니면      오류 발생\u001b[0m\u001b[1;33m\u001b[0m\u001b[1;33m\u001b[0m\u001b[0m\n\u001b[1;32m----> 5\u001b[1;33m                 \u001b[1;32mraise\u001b[0m \u001b[0mTypeError\u001b[0m\u001b[1;33m(\u001b[0m\u001b[1;34m\"{}은(는) 지원하지 않습니다.\"\u001b[0m\u001b[1;33m.\u001b[0m\u001b[0mformat\u001b[0m\u001b[1;33m(\u001b[0m\u001b[0mtype\u001b[0m\u001b[1;33m(\u001b[0m\u001b[0mdata\u001b[0m\u001b[1;33m)\u001b[0m\u001b[1;33m)\u001b[0m\u001b[1;33m)\u001b[0m\u001b[1;33m\u001b[0m\u001b[1;33m\u001b[0m\u001b[0m\n\u001b[0m\u001b[0;32m      6\u001b[0m \u001b[1;33m\u001b[0m\u001b[0m\n\u001b[0;32m      7\u001b[0m         \u001b[0mself\u001b[0m\u001b[1;33m.\u001b[0m\u001b[0mdata\u001b[0m \u001b[1;33m=\u001b[0m \u001b[0mdata\u001b[0m\u001b[1;33m\u001b[0m\u001b[1;33m\u001b[0m\u001b[0m\n",
      "\u001b[1;31mTypeError\u001b[0m: <class 'float'>은(는) 지원하지 않습니다."
     ]
    }
   ],
   "source": [
    "x = Variable(1.0)               # 오류"
   ]
  },
  {
   "source": [
    "그런데 이렇게 바꾸면 주의할 게 하나 생깁니다."
   ],
   "cell_type": "markdown",
   "metadata": {}
  },
  {
   "cell_type": "code",
   "execution_count": 52,
   "metadata": {},
   "outputs": [
    {
     "output_type": "stream",
     "name": "stdout",
     "text": [
      "[1.]\n[1.]\n<class 'numpy.ndarray'> 1\n<class 'numpy.ndarray'>\n"
     ]
    }
   ],
   "source": [
    "x = np.array([1.0])\n",
    "y = x ** 2\n",
    "\n",
    "print(x)\n",
    "print(y)\n",
    "\n",
    "print(type(x), x.ndim)\n",
    "print(type(y))\n",
    "# x는 1차원 ndarray이다. 여기에 제곱을 하면 y의 데이터 타입도 ndarray이다.\n",
    "# 문제가 되는 것은 다음의 경우이다."
   ]
  },
  {
   "cell_type": "code",
   "execution_count": 53,
   "metadata": {},
   "outputs": [
    {
     "output_type": "stream",
     "name": "stdout",
     "text": [
      "1.0\n1.0\n<class 'numpy.ndarray'> 0\n<class 'numpy.float64'>\n"
     ]
    }
   ],
   "source": [
    "x = np.array(1.0)\n",
    "y = x ** 2\n",
    "\n",
    "print(x)\n",
    "print(y)\n",
    "\n",
    "print(type(x), x.ndim)\n",
    "print(type(y))\n"
   ]
  },
  {
   "source": [
    "여기서 x는 0차원의 ndarray인데, 제곱(x**2)을 하면 np.float64가 되어버린다.  \n",
    "넘파이가 의도한 동작이다.  \n",
    "즉, 0차원 ndarray 인스턴스를 사용하여 계산하면 결과의 데이터 타입이 numpy.float64나 numpy.float32 등으로 달라진다!!\n",
    "\n",
    "따라서 Variable은 데이터가 항상 ndarray 인스턴스라고 가정하고 있으므로 이 부분을 해결해야한다."
   ],
   "cell_type": "markdown",
   "metadata": {}
  },
  {
   "cell_type": "code",
   "execution_count": 55,
   "metadata": {},
   "outputs": [],
   "source": [
    "def as_array(x):\n",
    "    if np.isscalar(x):\n",
    "        return np.array(x)      # 스칼라이면 array로 바꿔서 리턴\n",
    "    return x                    # 스칼라 아니면(array이면) 그대로 리턴"
   ]
  },
  {
   "source": [
    "np.isscalar(x) : 입력 데이터 x가 numpy.float64 같은 스칼라 타입인지를 확인해주는 함수 (파이썬에서 int타입,float타입 --> 스칼라)\n",
    "\n",
    "Function 클래스에 as_array()를 추가해준다."
   ],
   "cell_type": "markdown",
   "metadata": {}
  },
  {
   "cell_type": "code",
   "execution_count": 56,
   "metadata": {},
   "outputs": [],
   "source": [
    "class Function:\n",
    "    def __call__(self, input):\n",
    "        x = input.data\n",
    "        y = self.forward(x)\n",
    "        output = Variable(as_array(y))\n",
    "        output.set_creator(self)\n",
    "        self.input = input\n",
    "        self.output = output\n",
    "        return output\n",
    "\n",
    "    def forward(self, x):\n",
    "        raise NotImplementedError()\n",
    "\n",
    "    def backward(self, gy):\n",
    "        raise NotImplementedError()"
   ]
  },
  {
   "source": [
    "이와 같이 순전파의 결과인 y를 Variable로 감쌀 때 as_array()를 이용  \n",
    "이렇게 하여 출력 결과인 output은 항상 ndarray 인스턴스가 되도록 보장"
   ],
   "cell_type": "markdown",
   "metadata": {}
  },
  {
   "source": [
    "지금까지 최종 코드"
   ],
   "cell_type": "markdown",
   "metadata": {}
  },
  {
   "cell_type": "code",
   "execution_count": 58,
   "metadata": {},
   "outputs": [
    {
     "output_type": "error",
     "ename": "NameError",
     "evalue": "name '드' is not defined",
     "traceback": [
      "\u001b[1;31m---------------------------------------------------------------------------\u001b[0m",
      "\u001b[1;31mNameError\u001b[0m                                 Traceback (most recent call last)",
      "\u001b[1;32m<ipython-input-58-c95b36876a4f>\u001b[0m in \u001b[0;36m<module>\u001b[1;34m\u001b[0m\n\u001b[1;32m----> 1\u001b[1;33m \u001b[0m드\u001b[0m\u001b[1;33m\u001b[0m\u001b[1;33m\u001b[0m\u001b[0m\n\u001b[0m",
      "\u001b[1;31mNameError\u001b[0m: name '드' is not defined"
     ]
    }
   ],
   "source": [
    "import numpy as np\n",
    "\n",
    "class Variable:\n",
    "    def __init__(self, data):\n",
    "        if data is not None:                            # 데이터가 None은 아닌데\n",
    "            if not isinstance(data, np.ndarray):        # ndarray도 아니면      오류 발생\n",
    "                raise TypeError(\"{}은(는) 지원하지 않습니다.\".format(type(data)))\n",
    "        \n",
    "        self.data = data\n",
    "        self.grad = None \n",
    "        self.creator = None \n",
    "\n",
    "    def set_creator(self, func):\n",
    "        self.creator = func\n",
    "    \n",
    "    def backward(self):\n",
    "        if self.grad is None:\n",
    "            self.grad = np.ones_like(self.data)\n",
    "        \n",
    "        funcs = [self.creator]\n",
    "        while funcs:\n",
    "            f = funcs.pop() \n",
    "            x, y = f.input, f.output\n",
    "            x.grad = f.backward(y.grad)\n",
    "\n",
    "            if x.creator is not None:\n",
    "                funcs.append(x.creator)\n",
    "                \n",
    "\n",
    "def as_array(x):\n",
    "    if np.isscalar(x):\n",
    "        return np.array(x)      # 스칼라이면 array로 바꿔서 리턴\n",
    "    return x                    # 스칼라 아니면(array이면) 그대로 리턴\n",
    "\n",
    "class Function:\n",
    "    def __call__(self, input):\n",
    "        x = input.data\n",
    "        y = self.forward(x)\n",
    "        output = Variable(as_array(y))\n",
    "        output.set_creator(self)\n",
    "        self.input = input\n",
    "        self.output = output\n",
    "        return output\n",
    "\n",
    "    def forward(self, x):\n",
    "        raise NotImplementedError()\n",
    "\n",
    "    def backward(self, gy):\n",
    "        raise NotImplementedError()\n",
    "\n",
    "class Square(Function):\n",
    "    def forward(self, x):\n",
    "        y = x ** 2\n",
    "        return y\n",
    "\n",
    "    def backward(self, gy):\n",
    "        x = self.input.data\n",
    "        gx = 2 * x * gy\n",
    "        return gx\n",
    "\n",
    "\n",
    "class Exp(Function):\n",
    "    def forward(self, x):\n",
    "        y = np.exp(x)\n",
    "        return y\n",
    "\n",
    "    def backward(self, gy):\n",
    "        x = self.input.data\n",
    "        gx = np.exp(x) * gy\n",
    "        return gx\n",
    "\n",
    "\n",
    "def square(x):\n",
    "    return Square()(x)\n",
    "\n",
    "\n",
    "def exp(x):\n",
    "    return Exp()(x)"
   ]
  },
  {
   "cell_type": "code",
   "execution_count": null,
   "metadata": {},
   "outputs": [],
   "source": [
    "\n",
    "\n"
   ]
  }
 ]
}