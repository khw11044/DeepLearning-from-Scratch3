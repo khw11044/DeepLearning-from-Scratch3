{
 "metadata": {
  "language_info": {
   "codemirror_mode": {
    "name": "ipython",
    "version": 3
   },
   "file_extension": ".py",
   "mimetype": "text/x-python",
   "name": "python",
   "nbconvert_exporter": "python",
   "pygments_lexer": "ipython3",
   "version": "3.8.5-final"
  },
  "orig_nbformat": 2,
  "kernelspec": {
   "name": "python3",
   "display_name": "Python 3.8.5 64-bit (conda)",
   "metadata": {
    "interpreter": {
     "hash": "97ae724bfa85b9b34df7982b8bb8c7216f435b92902d749e4263f71162bea840"
    }
   }
  }
 },
 "nbformat": 4,
 "nbformat_minor": 2,
 "cells": [
  {
   "source": [
    "# Step8, 재귀에서 반복문으로 \n",
    "\n",
    "\n",
    "앞 단계에서 Variable 클래스에 backward 메서드를 추가했었다.  \n",
    "이번에는 처리 효율을 개선하고 앞으로의 확장을 대비해 backward 메서드의 구현 방식을 바꿔본다."
   ],
   "cell_type": "markdown",
   "metadata": {}
  },
  {
   "source": [
    "## 8.1 현재의 Variable 클래스 \n",
    "이전 Variable 구조는 재귀 구조\n",
    "\n",
    "## 8.2 반복문을 이용한 구현\n",
    "이번에는 '재귀를 사용한 구현'을 '반복문을 이용한 구현'으로 고친다."
   ],
   "cell_type": "markdown",
   "metadata": {}
  },
  {
   "cell_type": "code",
   "execution_count": 41,
   "metadata": {},
   "outputs": [],
   "source": [
    "class Variable:\n",
    "    def __init__(self, data):\n",
    "        self.data = data \n",
    "        self.grad = None \n",
    "        self.creator = None \n",
    "    \n",
    "    def set_creator(self, func):\n",
    "        self.creator = func \n",
    "    \n",
    "    def backward(self):\n",
    "        funcs = [self.creator]\n",
    "        while funcs:\n",
    "            f = funcs.pop()             # 함수를 가져온다. \n",
    "            x, y = f.input, f.output    # 함수의 입력과 출력을 가져온다.\n",
    "            x.grad = f.backward(y.grad) # backward 메서드를 호출한다. \n",
    "\n",
    "            if x.creator is not None:\n",
    "                funcs.append(x.creator) # 하나 앞의 함수를 리스트에 추가한다."
   ]
  },
  {
   "source": [
    "## 8.3 동작 확인 "
   ],
   "cell_type": "markdown",
   "metadata": {}
  },
  {
   "cell_type": "code",
   "execution_count": 42,
   "metadata": {},
   "outputs": [],
   "source": [
    "class Function:\n",
    "    def __call__(self, input):\n",
    "        x = input.data\n",
    "        y = self.forward(x)\n",
    "        output = Variable(y)\n",
    "        output.set_creator(self)\n",
    "        self.input = input\n",
    "        self.output = output\n",
    "        return output\n",
    "\n",
    "    def forward(self, x):\n",
    "        raise NotImplementedError()\n",
    "\n",
    "    def backward(self, gy):\n",
    "        raise NotImplementedError()\n",
    "\n",
    "\n",
    "class Square(Function):\n",
    "    def forward(self, x):\n",
    "        y = x ** 2\n",
    "        return y\n",
    "\n",
    "    def backward(self, gy):\n",
    "        x = self.input.data\n",
    "        gx = 2 * x * gy\n",
    "        return gx\n",
    "\n",
    "\n",
    "class Exp(Function):\n",
    "    def forward(self, x):\n",
    "        y = np.exp(x)\n",
    "        return y\n",
    "\n",
    "    def backward(self, gy):\n",
    "        x = self.input.data\n",
    "        gx = np.exp(x) * gy\n",
    "        return gx"
   ]
  },
  {
   "cell_type": "code",
   "execution_count": 43,
   "metadata": {},
   "outputs": [
    {
     "output_type": "stream",
     "name": "stdout",
     "text": [
      "1.648721270700128\n3.297442541400256\n"
     ]
    }
   ],
   "source": [
    "# 함수 가져오기\n",
    "A = Square()\n",
    "B = Exp() \n",
    "C = Square() \n",
    "\n",
    "# 데이터 정의 및 순전파\n",
    "x = Variable(np.array(0.5))\n",
    "a = A(x)\n",
    "b = B(a)\n",
    "y = C(b)\n",
    "print(y.data)\n",
    "\n",
    "# 역전파 \n",
    "y.grad = np.array(1.0)\n",
    "y.backward()\n",
    "print(x.grad)\n"
   ]
  },
  {
   "source": [
    "재귀에서 반복문으로 구현 방식을 전환한 이유\n",
    "\n",
    "복잡한 계산 그래프 다룰수 있음, 처리효율 뛰어남 \n",
    "\n",
    "**Caution_** 재귀는 함수를 재귀적으로 호출할 때마다 중간 결과를 메모리에 유지하면서(스텍에 쌓으면서) 처리를 이어가기 때문에 일반적으로 반복문 방식이 효율이 더 좋은 이유"
   ],
   "cell_type": "markdown",
   "metadata": {}
  },
  {
   "cell_type": "code",
   "execution_count": null,
   "metadata": {},
   "outputs": [],
   "source": []
  },
  {
   "cell_type": "code",
   "execution_count": null,
   "metadata": {},
   "outputs": [],
   "source": []
  }
 ]
}