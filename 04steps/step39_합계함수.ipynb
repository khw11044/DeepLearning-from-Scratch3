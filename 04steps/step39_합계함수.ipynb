{
 "metadata": {
  "language_info": {
   "codemirror_mode": {
    "name": "ipython",
    "version": 3
   },
   "file_extension": ".py",
   "mimetype": "text/x-python",
   "name": "python",
   "nbconvert_exporter": "python",
   "pygments_lexer": "ipython3",
   "version": "3.8.5-final"
  },
  "orig_nbformat": 2,
  "kernelspec": {
   "name": "python3",
   "display_name": "Python 3.8.5 64-bit (conda)",
   "metadata": {
    "interpreter": {
     "hash": "97ae724bfa85b9b34df7982b8bb8c7216f435b92902d749e4263f71162bea840"
    }
   }
  }
 },
 "nbformat": 4,
 "nbformat_minor": 2,
 "cells": [
  {
   "source": [
    "# Step39, 합계함수 \n",
    "\n",
    "## 39.1 sum 함수의 역전파 "
   ],
   "cell_type": "markdown",
   "metadata": {}
  },
  {
   "cell_type": "code",
   "execution_count": 1,
   "metadata": {},
   "outputs": [
    {
     "output_type": "stream",
     "name": "stdout",
     "text": [
      "variable(21)\nvariable([1 1 1 1 1 1])\n"
     ]
    }
   ],
   "source": [
    "import numpy as np \n",
    "from dezero import Variable, Function\n",
    "import dezero.functions as F\n",
    "\n",
    "x = Variable(np.array([1,2,3,4,5,6]))\n",
    "y = F.sum(x)\n",
    "y.backward()\n",
    "print(y)\n",
    "print(x.grad)"
   ]
  },
  {
   "cell_type": "code",
   "execution_count": 2,
   "metadata": {},
   "outputs": [
    {
     "output_type": "stream",
     "name": "stdout",
     "text": [
      "variable(21)\nvariable([[1 1 1]\n          [1 1 1]])\n"
     ]
    }
   ],
   "source": [
    "x = Variable(np.array([[1,2,3],[4,5,6]]))\n",
    "y = F.sum(x)\n",
    "y.backward()\n",
    "print(y)\n",
    "print(x.grad)"
   ]
  },
  {
   "source": [
    "## 39.2 sum 함수 구현 \n",
    "\n",
    "DeZero의 sum 함수 역전파에서는  \n",
    "입력 변수의 shape과 같아지도록 기울기의 원소를 복사한다.  \n",
    "그런데 역전파에서는 Variable 인스턴스를 사용하므로 복사 작업도 DeZero 함수로 해야한다.\n",
    "\n",
    "**CAUTION_** 지정한 shape에 맞게 원소를 복사하는 작업은 넘파이의 브로드캐스트와 같은 기능\n",
    "\n",
    "다음단계에서 구현할 broadcast_to 함수를 미리 사용한다."
   ],
   "cell_type": "markdown",
   "metadata": {}
  },
  {
   "source": [
    "~~~python\n",
    "class Sum(Function):\n",
    "    def forward(self, x):\n",
    "        self.x_shape = x.shape \n",
    "        y = x.sum()\n",
    "        return y \n",
    "    def backward(self, gy):\n",
    "        gx = broadcast_yo(gy, self.x_shape)\n",
    "        return gx \n",
    "\n",
    "def sum(x):\n",
    "    return Sum()(x)\n",
    "~~~"
   ],
   "cell_type": "markdown",
   "metadata": {}
  },
  {
   "cell_type": "code",
   "execution_count": 3,
   "metadata": {},
   "outputs": [
    {
     "output_type": "stream",
     "name": "stdout",
     "text": [
      "variable(21)\nvariable([[1 1 1]\n          [1 1 1]])\n"
     ]
    }
   ],
   "source": [
    "import numpy as np \n",
    "from dezero import Variable\n",
    "import dezero.functions as F\n",
    "\n",
    "x = Variable(np.array([[1,2,3],[4,5,6]]))\n",
    "y = F.sum(x)\n",
    "y.backward()\n",
    "print(y)\n",
    "print(x.grad)"
   ]
  },
  {
   "source": [
    "## 39.3 axis와 keepdims \n",
    "\n",
    "합계를 구할 때 '축'을 지정할 수 있다."
   ],
   "cell_type": "markdown",
   "metadata": {}
  },
  {
   "cell_type": "code",
   "execution_count": 4,
   "metadata": {},
   "outputs": [
    {
     "output_type": "stream",
     "name": "stdout",
     "text": [
      "[5 7 9]\n(2, 3) -> (3,)\n[ 6 15]\n(2, 3) -> (2,)\n"
     ]
    }
   ],
   "source": [
    "x = np.array([[1,2,3],[4,5,6]])\n",
    "y = np.sum(x, axis=0)\n",
    "print(y)\n",
    "print(x.shape, '->', y.shape)\n",
    "y = np.sum(x, axis=1)\n",
    "print(y)\n",
    "print(x.shape, '->', y.shape)"
   ]
  },
  {
   "source": [
    "axis=0은 세로    \n",
    "axis=1은 가로"
   ],
   "cell_type": "markdown",
   "metadata": {}
  },
  {
   "cell_type": "code",
   "execution_count": null,
   "metadata": {},
   "outputs": [],
   "source": []
  },
  {
   "source": [
    "x = np.array([[1,2,3],[4,5,6]])\n",
    "y = np.sum(x, keepdims=True)\n",
    "print(y)\n",
    "print(x.shape, '->', y.shape)"
   ],
   "cell_type": "code",
   "metadata": {},
   "execution_count": 5,
   "outputs": [
    {
     "output_type": "stream",
     "name": "stdout",
     "text": [
      "[[21]]\n(2, 3) -> (1, 1)\n"
     ]
    }
   ]
  },
  {
   "source": [
    "Dezero의 sum 함수에 axis와 keepdims 인수를 지원하도록 수정한다."
   ],
   "cell_type": "markdown",
   "metadata": {}
  },
  {
   "cell_type": "code",
   "execution_count": 6,
   "metadata": {},
   "outputs": [],
   "source": [
    "# functions.py \n",
    "from dezero import utils\n",
    "\n",
    "class Sum(Function):\n",
    "    def __init__(self, axis, keepdims):\n",
    "        self.axis = axis\n",
    "        self.keepdims = keepdims\n",
    "\n",
    "    def forward(self, x):\n",
    "        self.x_shape = x.shape\n",
    "        y = x.sum(axis=self.axis, keepdims=self.keepdims) \n",
    "        return y \n",
    "    \n",
    "    def backward(self, gy):\n",
    "        gx = utils.reshape_sum_backward(gy, self.x_shape, self.axis, self.keepdims)\n",
    "        gx = broadcast_to(gy, self.x_shape)\n",
    "        return gx\n",
    "\n",
    "def sum(x, axis=None, keepdims=False):\n",
    "    return Sum(axis, keepdims)(x)"
   ]
  },
  {
   "cell_type": "code",
   "execution_count": 7,
   "metadata": {},
   "outputs": [
    {
     "output_type": "stream",
     "name": "stdout",
     "text": [
      "variable([5 7 9])\nvariable([[1 1 1]\n          [1 1 1]])\n"
     ]
    }
   ],
   "source": [
    "x = Variable(np.array([[1,2,3],[4,5,6]]))\n",
    "y = F.sum(x, axis=0)\n",
    "y.backward()\n",
    "print(y)\n",
    "print(x.grad)"
   ]
  },
  {
   "cell_type": "code",
   "execution_count": 8,
   "metadata": {},
   "outputs": [
    {
     "output_type": "stream",
     "name": "stdout",
     "text": [
      "(1, 1, 1, 1)\n"
     ]
    }
   ],
   "source": [
    "x = Variable(np.random.rand(2,3,4,5))\n",
    "y = x.sum(keepdims=True)\n",
    "print(y.shape)"
   ]
  },
  {
   "cell_type": "code",
   "execution_count": null,
   "metadata": {},
   "outputs": [],
   "source": []
  },
  {
   "cell_type": "code",
   "execution_count": null,
   "metadata": {},
   "outputs": [],
   "source": []
  }
 ]
}