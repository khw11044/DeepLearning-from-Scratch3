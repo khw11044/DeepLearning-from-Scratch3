{
 "metadata": {
  "language_info": {
   "codemirror_mode": {
    "name": "ipython",
    "version": 3
   },
   "file_extension": ".py",
   "mimetype": "text/x-python",
   "name": "python",
   "nbconvert_exporter": "python",
   "pygments_lexer": "ipython3",
   "version": "3.8.5-final"
  },
  "orig_nbformat": 2,
  "kernelspec": {
   "name": "python3",
   "display_name": "Python 3.8.5 64-bit (conda)",
   "metadata": {
    "interpreter": {
     "hash": "97ae724bfa85b9b34df7982b8bb8c7216f435b92902d749e4263f71162bea840"
    }
   }
  }
 },
 "nbformat": 4,
 "nbformat_minor": 2,
 "cells": [
  {
   "source": [
    "# Step40, 브로드캐스트 함수 \n",
    "\n",
    "\n",
    "## 40.1 broadcast_to 함수와 sum_to 함수(넘파이 버전)\n",
    "\n",
    "넘파이의 np.broadcast_to(x,shape)을 살펴본다.  \n",
    "ndarray 인스턴스인 x의 원소를 복제하여 shape 인수로 지정한 shape이 되도록 해준다."
   ],
   "cell_type": "markdown",
   "metadata": {}
  },
  {
   "cell_type": "code",
   "execution_count": 7,
   "metadata": {},
   "outputs": [
    {
     "output_type": "stream",
     "name": "stdout",
     "text": [
      "[[1 2 3]\n [1 2 3]]\n"
     ]
    }
   ],
   "source": [
    "import numpy as np \n",
    "\n",
    "x = np.array([1,2,3])\n",
    "y = np.broadcast_to(x,(2,3))\n",
    "print(y)\n",
    "# (3,) -> (2,3)"
   ]
  },
  {
   "source": [
    "브로드캐스트('원소 복사')가 수행된 후의 역전파\n",
    "\n",
    "'원소 복사'가 일어날 경우 역전파 때는 기울기의 '합'을 구한다.  \n",
    "x는 \\[1,2,3\\] -> broadcaset_to -> y는 \\[\\[1,2,3\\],\\[1,2,3\\]\\]  \n",
    "gx는 \\[2,2,2\\] <- sum_to <- gy는 \\[\\[1,1,1\\],\\[1,1,1\\]\\]\n",
    "\n",
    "broadcaset_to 함수의 역전파는 입력 x의 형상과 같아지도록 기울기의 합을 구한다.  \n",
    "sum_to는 x의 원소의 합을 구해 shape으로 만들어주는 함수이다.  \n",
    "이런 함수로 순전파와 역전파의 관계를 만든다.\n",
    "\n",
    "그러나 넘파이에는 이러한 함수가 없으므로 DeZero에서는 dezero/utils.py에 넘파이 버전 sum_to 함수를 준비해뒀다."
   ],
   "cell_type": "markdown",
   "metadata": {}
  },
  {
   "cell_type": "code",
   "execution_count": 8,
   "metadata": {},
   "outputs": [],
   "source": [
    "# utils.py\n",
    "def sum_to(x, shape):\n",
    "    ndim = len(shape)\n",
    "    print(ndim)\n",
    "    lead = x.ndim - ndim\n",
    "    lead_axis = tuple(range(lead))\n",
    "    print('lead:',lead)\n",
    "    print('lead_axis',lead_axis)\n",
    "\n",
    "    axis = tuple([i + lead for i, sx in enumerate(shape) if sx == 1])\n",
    "    y = x.sum(lead_axis + axis, keepdims=True)\n",
    "    if lead > 0:\n",
    "        y = y.squeeze(lead_axis)\n",
    "    return y"
   ]
  },
  {
   "cell_type": "code",
   "execution_count": 9,
   "metadata": {},
   "outputs": [
    {
     "output_type": "stream",
     "name": "stdout",
     "text": [
      "[[5 7 9]]\n[[ 6]\n [15]]\n"
     ]
    }
   ],
   "source": [
    "import numpy as np \n",
    "from dezero.utils import sum_to\n",
    "\n",
    "x = np.array([[1,2,3],[4,5,6]])\n",
    "y = sum_to(x,(1,3))\n",
    "print(y)\n",
    "\n",
    "y = sum_to(x,(2,1))\n",
    "print(y)\n",
    "\n",
    "# sum_to(x,shape) 함수는 shape 형상이 되도록 합을 계산한다. "
   ]
  },
  {
   "source": [
    "## 40.2 broadcast_to 함수와 sum_to 함수(DeZero버전)\n",
    "\n",
    "dezero/functions.py\n",
    "~~~python \n",
    "class BroadcastTo(Function):\n",
    "    def __init__(self,shape):\n",
    "        self.shape = shape\n",
    "    \n",
    "    def forward(self, x):\n",
    "        self.x_shape = x.shape \n",
    "        y = np.broadcast_to(x, self.shape)\n",
    "        return y \n",
    "    \n",
    "    def backward(self, gy):\n",
    "        gx = sum_to(gy, self.x_shape)\n",
    "        return gx \n",
    "    \n",
    "def broadcast_to(x, shape):\n",
    "    if x.shape == shape:\n",
    "        return as_variable(x)\n",
    "    return BroadcastTo(shape)(x)\n",
    "~~~"
   ],
   "cell_type": "markdown",
   "metadata": {}
  },
  {
   "source": [
    "~~~python \n",
    "class SumTo(Function):\n",
    "    def __init__(self, shape):\n",
    "        self.shape = shape\n",
    "    \n",
    "    def forward(self, x):\n",
    "        self.x_shape = x.shape\n",
    "        y = utils.sum_to(x, self.shape)\n",
    "        return y \n",
    "    \n",
    "    def backward(self, gy):\n",
    "        gx = broadcast_to(gy, self.x_shape)\n",
    "        return gx \n",
    "\n",
    "def sum_to(x, shape):\n",
    "    if x.shape == shape:\n",
    "        return as_variable(x)\n",
    "    return SumTo(shape)(x)\n",
    "~~~\n",
    "\n",
    "DeZero의 broadcast_to 함수를 사용한다. 이처럼 broadcast_to 함수와 sum_to함수는 상호 의존적이다."
   ],
   "cell_type": "markdown",
   "metadata": {}
  },
  {
   "source": [
    "## 40.3 브로드캐스트 대응 "
   ],
   "cell_type": "markdown",
   "metadata": {}
  },
  {
   "cell_type": "code",
   "execution_count": 10,
   "metadata": {},
   "outputs": [
    {
     "output_type": "stream",
     "name": "stdout",
     "text": [
      "[11 12 13]\n"
     ]
    }
   ],
   "source": [
    "import numpy as np\n",
    "from dezero.core import Variable\n",
    "x0 = np.array([1,2,3])\n",
    "x1 = np.array([10])\n",
    "y = x0 + x1 \n",
    "print(y)"
   ]
  },
  {
   "cell_type": "code",
   "execution_count": 11,
   "metadata": {},
   "outputs": [
    {
     "output_type": "stream",
     "name": "stdout",
     "text": [
      "variable([11 12 13])\n"
     ]
    }
   ],
   "source": [
    "x0 = Variable(np.array([1, 2, 3]))\n",
    "x1 = Variable(np.array([10]))\n",
    "y = x0 + x1 \n",
    "print(y)"
   ]
  },
  {
   "source": [
    "이와 같이 순전파는 ndarray 인스턴스를 사용해 구현했기 때문에 브로드캐스트가 일어난다.  \n",
    "순전파에서 브로드캐스트가 일어났다면 그 역전파에서는 '브로드캐스트의 역전파'가 이루어져야 한다.  \n",
    "하지만 현재 DeZero에서는 브로드캐스트의 역전파가 전혀 일어나지 않는다."
   ],
   "cell_type": "markdown",
   "metadata": {}
  },
  {
   "source": [
    "~~~python \n",
    "class Add(Function):\n",
    "    def forward(self, x0, x1):\n",
    "        self.x0_shape, self.x1_shape = x0.shape, x1.shape\n",
    "        y = x0 + x1\n",
    "        return y\n",
    "\n",
    "    def backward(self, gy):\n",
    "        gx0, gx1 = gy, gy\n",
    "        if self.x0_shape != self.x1_shape:\n",
    "            gx0 = dezero.functions.sum_to(gx0, self.x0_shape)\n",
    "            gx1 = dezero.functions.sum_to(gx1, self.x1_shape)\n",
    "        return gx0, gx1\n",
    "~~~"
   ],
   "cell_type": "markdown",
   "metadata": {}
  },
  {
   "source": [
    "순전파 때 브로드캐스트가 일어난다면, 입력되는 x0와 x1의 형상이 다를 것이다.  \n",
    "이 점을 이용해 두 형상이 다를 때 브로드캐스트용 역전파를 계산하는 것이다.  \n",
    "이를 위해 기울기 gx0는 x0의 형상이 되도록 합을 구하고, 마찬가지로 기울기 gx1은 x1의 형상이 되도록 합을 구한다."
   ],
   "cell_type": "markdown",
   "metadata": {}
  },
  {
   "source": [
    "core.py 에  \n",
    "import dezero.functions \n",
    "추가\n",
    "\n"
   ],
   "cell_type": "markdown",
   "metadata": {}
  },
  {
   "cell_type": "code",
   "execution_count": 12,
   "metadata": {},
   "outputs": [
    {
     "output_type": "stream",
     "name": "stdout",
     "text": [
      "variable([11 12 13])\nvariable([3])\n"
     ]
    }
   ],
   "source": [
    "import numpy as np\n",
    "from dezero import Variable\n",
    "\n",
    "x0 = Variable(np.array([1, 2, 3]))\n",
    "x1 = Variable(np.array([10]))\n",
    "y = x0 + x1\n",
    "print(y)\n",
    "\n",
    "\n",
    "y.backward()\n",
    "print(x1.grad)"
   ]
  },
  {
   "cell_type": "code",
   "execution_count": null,
   "metadata": {},
   "outputs": [],
   "source": []
  },
  {
   "cell_type": "code",
   "execution_count": null,
   "metadata": {},
   "outputs": [],
   "source": []
  }
 ]
}