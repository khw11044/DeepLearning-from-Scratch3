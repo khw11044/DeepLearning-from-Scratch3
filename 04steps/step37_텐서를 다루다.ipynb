{
 "metadata": {
  "language_info": {
   "codemirror_mode": {
    "name": "ipython",
    "version": 3
   },
   "file_extension": ".py",
   "mimetype": "text/x-python",
   "name": "python",
   "nbconvert_exporter": "python",
   "pygments_lexer": "ipython3",
   "version": "3.8.5-final"
  },
  "orig_nbformat": 2,
  "kernelspec": {
   "name": "python3",
   "display_name": "Python 3",
   "language": "python"
  }
 },
 "nbformat": 4,
 "nbformat_minor": 2,
 "cells": [
  {
   "source": [
    "# Step37, 텐서를 다루다\n",
    "\n",
    "지금까지 주로 '스칼라'를 다뤘다.  \n",
    "머신러닝 데이터로는 벡터나 행렬 등의 '텐서'가 주로 쓰인다.\n",
    "\n",
    "이번 단계에서는 텐서를 사용할 때의 주의점을 알아보면서 DeZero확장을 준비한다.  \n",
    "또한 지금까지 구현한 DeZero 함수들이 텐서도 문제없이 다룰 수 있음을 보여준다.\n",
    "\n",
    "## 37.1 원소별 계산\n",
    "\n",
    "add, mul, div, sin등의 DeZero 함수를 구현했다.  \n",
    "이 함수들을 구현하면서 '입력과 출력'이 모두 '스칼라'라고 가정했다."
   ],
   "cell_type": "markdown",
   "metadata": {}
  },
  {
   "source": [
    "x가 단일값인 스칼라(0차원의 ndarray 인스턴스)인 경우"
   ],
   "cell_type": "markdown",
   "metadata": {}
  },
  {
   "cell_type": "code",
   "execution_count": 1,
   "metadata": {},
   "outputs": [
    {
     "output_type": "stream",
     "name": "stdout",
     "text": [
      "variable(0.8414709848078965)\n"
     ]
    }
   ],
   "source": [
    "if '__file__' in globals():\n",
    "    import os, sys \n",
    "    sys.path.append(os.path.join(os.path.dirname(__file__), '..'))\n",
    "\n",
    "import numpy as np \n",
    "import dezero.functions as F \n",
    "from dezero import Variable\n",
    "\n",
    "x = Variable(np.array(1.0))\n",
    "y = F.sin(x)\n",
    "print(y)"
   ]
  },
  {
   "source": [
    "x가 텐서일 경우  \n",
    "sin 함수가 x의 원소 각각에 적용된다.  즉, 입력과 출력 테서의 형상은 바뀌지 않는다."
   ],
   "cell_type": "markdown",
   "metadata": {}
  },
  {
   "cell_type": "code",
   "execution_count": 2,
   "metadata": {},
   "outputs": [
    {
     "output_type": "stream",
     "name": "stdout",
     "text": [
      "variable([[ 0.84147098  0.90929743  0.14112001]\n          [-0.7568025  -0.95892427 -0.2794155 ]])\n"
     ]
    }
   ],
   "source": [
    "x = Variable(np.array([[1,2,3],[4,5,6]]))\n",
    "y = F.sin(x)\n",
    "print(y)"
   ]
  },
  {
   "cell_type": "code",
   "execution_count": 3,
   "metadata": {},
   "outputs": [
    {
     "output_type": "stream",
     "name": "stdout",
     "text": [
      "variable([[11 22 33]\n          [44 55 66]])\n"
     ]
    }
   ],
   "source": [
    "x = Variable(np.array([[1,2,3],[4,5,6]]))\n",
    "c = Variable(np.array([[10,20,30],[40,50,60]]))\n",
    "y = x + c\n",
    "print(y)"
   ]
  },
  {
   "source": [
    "## 37.2 텐서 사용시의 역전파 \n",
    "\n",
    "지금까지의 역전파 구현은 '스칼라'를 대상으로 했다.\n",
    "\n",
    "'텐서'를 이용해 계산해도 역전파 코드가 문제없이 작동한다.\n",
    "- 그동안 '스칼라'를 대상으로 역전파를 구현했다.\n",
    "- DeZero 함수에 '텐서'를 건네면 텐서의 원소마다 '스칼라'로 계산한다.\n",
    "- 텐서의 원소별 '스칼라' 계산이 이루어지면 '스칼라'를 가정해 구현한 역전파는 '텐서'의 원소별 계산에서도 성립\n",
    "\n",
    "위 논리로부터 원소별 계산을 수행하는 DeZero 함수들은 '텐서'를 사용한 계산에도 역전파를 올바르게 해낼 것임을 유추할 수 있다."
   ],
   "cell_type": "markdown",
   "metadata": {}
  },
  {
   "cell_type": "code",
   "execution_count": 4,
   "metadata": {},
   "outputs": [
    {
     "output_type": "stream",
     "name": "stdout",
     "text": [
      "variable(231)\n"
     ]
    }
   ],
   "source": [
    "x = Variable(np.array([[1,2,3],[4,5,6]]))\n",
    "c = Variable(np.array([[10,20,30],[40,50,60]]))\n",
    "t = x + c \n",
    "y = F.sum(t)\n",
    "print(y)"
   ]
  },
  {
   "source": [
    "sum 함수를 사용하면 주어진 텐서에의 모든 원소의 총합을 구해 하나의 스칼라로 출력한다.  \n",
    "그래서 앞의 코드에서 x,c,t는 모두 (2,3)이지만 마지막 출력 y는 스칼라이다.\n",
    "\n",
    "**NOTE_** 머신러닝 문제에서는 텐서를 입력받아 스칼라를 출력하는 함수(손실 함수<sup>loss function</sup>)를 설정하는 것이 일반적이다."
   ],
   "cell_type": "markdown",
   "metadata": {}
  },
  {
   "cell_type": "code",
   "execution_count": 5,
   "metadata": {},
   "outputs": [
    {
     "output_type": "stream",
     "name": "stdout",
     "text": [
      "variable(1)\nvariable([[1 1 1]\n          [1 1 1]])\nvariable([[1 1 1]\n          [1 1 1]])\nvariable([[1 1 1]\n          [1 1 1]])\n"
     ]
    }
   ],
   "source": [
    "y.backward(retain_grad=True)    # 각 변수의 미분값이 구해진다., True로 설정했으므로 미분값이 유지된다.\n",
    "print(y.grad)       # 스칼라\n",
    "print(t.grad)       # 텐서끼리 더해 텐서가 나옴\n",
    "print(x.grad)       # 텐서 그 자체 \n",
    "print(c.grad)       # 텐서 그 자체"
   ]
  },
  {
   "source": [
    "지금까지 구현한 함수들은 텐서를 사용한 계산에서도 제대로 역전파할 수 있다.  \n",
    "\n",
    "여기서 중요한 특징  \n",
    "기울기의 shape과 데이터(순전파때의 데이터)의 shape이 일치한다는 것.  \n",
    "즉, x.shape == x.grad.shape  \n",
    "c.shape == c.grad.shape  \n",
    "t.shape == t.grad.shape이다. \n",
    "\n",
    "이 성질을 이용하면 원소별 계산이 아닌 함수, 가령 sum이나 reshape 함수등을 구현하기 어렵지 않다."
   ],
   "cell_type": "markdown",
   "metadata": {}
  },
  {
   "cell_type": "code",
   "execution_count": null,
   "metadata": {},
   "outputs": [],
   "source": []
  }
 ]
}