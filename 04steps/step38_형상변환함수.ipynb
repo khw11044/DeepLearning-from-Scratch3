{
 "metadata": {
  "language_info": {
   "codemirror_mode": {
    "name": "ipython",
    "version": 3
   },
   "file_extension": ".py",
   "mimetype": "text/x-python",
   "name": "python",
   "nbconvert_exporter": "python",
   "pygments_lexer": "ipython3",
   "version": "3.8.5-final"
  },
  "orig_nbformat": 2,
  "kernelspec": {
   "name": "python3",
   "display_name": "Python 3.8.5 64-bit (conda)",
   "metadata": {
    "interpreter": {
     "hash": "97ae724bfa85b9b34df7982b8bb8c7216f435b92902d749e4263f71162bea840"
    }
   }
  }
 },
 "nbformat": 4,
 "nbformat_minor": 2,
 "cells": [
  {
   "source": [
    "# Step38, 형상 변환 함수\n",
    "\n",
    "이번에는 원소별로 계산하지 않는 함수에 대해 살펴본다.  \n",
    "- 텐서의 형상을 변환하는 reshape 함수  \n",
    "- 행렬을 전치하는 transpose 함수  \n",
    "\n",
    "두 함수 모두 텐서의 형상을 바꾸는 함수이다. \n",
    "\n",
    "## 38.1 reshape 함수 구현 \n",
    "\n",
    "먼저 텐서의 형상을 바꾸는 함수를 구현해본다.  \n",
    "사전 준비로 넘파이의 reshape 함수의 사용법을 확인해본다."
   ],
   "cell_type": "markdown",
   "metadata": {}
  },
  {
   "cell_type": "code",
   "execution_count": 12,
   "metadata": {},
   "outputs": [
    {
     "output_type": "stream",
     "name": "stdout",
     "text": [
      "[1 2 3 4 5 6]\n\n[[1 2 3]\n [4 5 6]]\n\n[[1 2]\n [3 4]\n [5 6]]\n"
     ]
    }
   ],
   "source": [
    "import numpy as np \n",
    "\n",
    "x = np.array([[1,2,3],[4,5,6]])\n",
    "y = np.reshape(x, (6,))\n",
    "print(y)\n",
    "print()\n",
    "y = np.reshape(x, (2,3))\n",
    "print(y)\n",
    "print()\n",
    "y = np.reshape(x, (3,-1))\n",
    "print(y)"
   ]
  },
  {
   "source": [
    "텐서의 원소 수는 같고 형상만 바뀐다.  \n",
    "이제 DeZero 버전의 reshape 함수를 구현해 본다. 문제는 역전파를 어떻게 구현하느냐이다.\n",
    "\n",
    "변수의 데이터와 기울기의 형상이 일치하는지 확인해야한다.  \n",
    "예: x가 Variable 인스턴스일 때 x.data.shape == x.grad.shape를 만족할 수 있도록 역전파를 구현해야한다."
   ],
   "cell_type": "markdown",
   "metadata": {}
  },
  {
   "source": [
    "reshape 함수는 단순히 형상만 변환한다. 구체적인 계산은 아무것도 하지 않는다.  \n",
    "따라서 역전파는 출력 쪽에서 전해지는 기울기에 아무런 손도 대지 않고 입력 쪽으로 흘려보내준다.\n",
    "\n",
    "그러나 기울기의 형상이 입력의 형상과 같아지도록 변환한다."
   ],
   "cell_type": "markdown",
   "metadata": {}
  },
  {
   "cell_type": "code",
   "execution_count": 13,
   "metadata": {},
   "outputs": [],
   "source": [
    "# functions.py\n",
    "import dezero.functions as F \n",
    "from dezero import Variable, Function\n",
    "\n",
    "class Reshape(Function):\n",
    "    def __init__(self, shape):\n",
    "        self.shape = shape  # 클래스를 초기화할 때 변형 목표가 되는 형상을 shape 인수로 받는다.\n",
    "    \n",
    "    def forward(self, x):   # 순전파는 넘파이의 reshape 함수를 사용하여 형상을 변환한다.\n",
    "        self.x_shape = x.shape  # 이때 입력 x의 shape을 기억해둔다.\n",
    "        y = x.reshape(self.shape)\n",
    "        return y \n",
    "    \n",
    "    def backward(self, gy):     # 역전파에서 입력 shape(self.x_shape)으로 변환할 수 있다.\n",
    "        return reshape(gy, self.x_shape)"
   ]
  },
  {
   "cell_type": "code",
   "execution_count": 14,
   "metadata": {},
   "outputs": [],
   "source": [
    "# functions.py\n",
    "from dezero.core import as_variable\n",
    "\n",
    "def reshape(x, shape):\n",
    "    if x.shape == shape:\n",
    "        return as_variable(x)\n",
    "    return Reshape(shape)(x)\n",
    "\n",
    "# reshape 함수가 Variable 인스턴스를 반환함을 보장하기 위해 as_Variable 함수를 사용하여 Variable 인스턴스로 변환한다."
   ]
  },
  {
   "source": [
    "방금 구현한 reshape 함수를 사용해본다."
   ],
   "cell_type": "markdown",
   "metadata": {}
  },
  {
   "cell_type": "code",
   "execution_count": 15,
   "metadata": {},
   "outputs": [
    {
     "output_type": "stream",
     "name": "stdout",
     "text": [
      "variable([1 2 3 4 5 6])\nvariable([[1 1 1]\n          [1 1 1]])\n"
     ]
    }
   ],
   "source": [
    "import numpy as np \n",
    "from dezero import Variable\n",
    "import dezero.functions as F \n",
    "\n",
    "x = Variable(np.array([[1,2,3],[4,5,6]]))\n",
    "y = F.reshape(x, (6,))\n",
    "print(y)\n",
    "y.backward(retain_grad=True)\n",
    "print(x.grad)"
   ]
  },
  {
   "source": [
    "reshape 함수를 사용하여 shape을 변환시켰다.  \n",
    "그리고 y.backward(retain_grad=True)를 수행하여 x의 기울기를 구한다. 이 과정에서 y의 기울기도 자동으로 채워진다.  \n",
    "채워진 기울기의 shape은 y와 같고(y.grad.shape == y.shape) 원소는 모두 1로 이루어진 텐서이다."
   ],
   "cell_type": "markdown",
   "metadata": {}
  },
  {
   "source": [
    "## 38.2 Variable에서 reshape사용하기\n"
   ],
   "cell_type": "markdown",
   "metadata": {}
  },
  {
   "cell_type": "code",
   "execution_count": 16,
   "metadata": {},
   "outputs": [],
   "source": [
    "x = np.random.rand(1,2,3)\n",
    "\n",
    "y = x.reshape((2,3))    # 튜플로 받기 \n",
    "y = x.reshape([2,3])    # 리스트로 받기 \n",
    "y = x.reshape(2,3)      # 인수를 그대로(풀어서) 받기 \n"
   ]
  },
  {
   "source": [
    "보는것과 같이 reshape를 ndarray 인스턴스의 메서드로 사용할 수 있다.  \n",
    "또한 x.reshape(2,3)과 같이 가변 인수도 받는다.  \n",
    "\n",
    "DeZero에서도 이와 같은 용법을 제공해본다.\n",
    "Variable 클래스에서 다음 코드를 추가한다.\n",
    "\n",
    "~~~python \n",
    "import dezero \n",
    "\n",
    "class Variable:\n",
    "    # ... 생략 ....\n",
    "    \n",
    "    def reshape(self, *shape):\n",
    "        if len(shape) == 1 and isinstance(shape[0], (tuple, list)):\n",
    "            shape = shape[0]\n",
    "        return dezero.functions.reshape(self, shape)\n",
    "~~~"
   ],
   "cell_type": "markdown",
   "metadata": {}
  },
  {
   "cell_type": "code",
   "execution_count": 17,
   "metadata": {},
   "outputs": [],
   "source": [
    "x = Variable(np.random.randn(1,2,3))\n",
    "y = x.reshape((2,3))\n",
    "y = x.reshape(2,3)"
   ]
  },
  {
   "source": [
    "## 38.3 행렬의 전치 "
   ],
   "cell_type": "markdown",
   "metadata": {}
  },
  {
   "cell_type": "code",
   "execution_count": 18,
   "metadata": {},
   "outputs": [
    {
     "output_type": "stream",
     "name": "stdout",
     "text": [
      "[[1 4]\n [2 5]\n [3 6]]\n"
     ]
    }
   ],
   "source": [
    "x = np.array([[1,2,3],[4,5,6]])\n",
    "y = np.transpose(x)\n",
    "print(y)"
   ]
  },
  {
   "source": [
    "텐서의 원소 자체는 그대로이고 shape만 바뀐다.  \n",
    "따라서 역전파에서는 출력 쪽에서 전해지는 기울기의 형상만 변경한다.  \n",
    "순전파때와 '반대' 형태"
   ],
   "cell_type": "markdown",
   "metadata": {}
  },
  {
   "source": [
    "dezero의 functions.py에 아래 코드 추가 \n",
    "\n",
    "~~~python\n",
    "class Transpose(Function):\n",
    "    def forward(self, x):\n",
    "        y = np.transpose(x)\n",
    "        return y \n",
    "    \n",
    "    def backward(self, gy):\n",
    "        gx = transpose(gy)\n",
    "        return gx \n",
    "\n",
    "def transpose(x):\n",
    "    return Transpose()(x)\n",
    "\n",
    "~~~"
   ],
   "cell_type": "markdown",
   "metadata": {}
  },
  {
   "cell_type": "code",
   "execution_count": 19,
   "metadata": {},
   "outputs": [
    {
     "output_type": "stream",
     "name": "stdout",
     "text": [
      "variable([[1 1 1]\n          [1 1 1]])\n"
     ]
    }
   ],
   "source": [
    "x = Variable(np.array([[1,2,3],[4,5,6]]))\n",
    "y = F.transpose(x)\n",
    "y.backward()\n",
    "print(x.grad)"
   ]
  },
  {
   "source": [
    "transpose 함수를 사용하여 계산할 수 있으며 역전파도 제대로 이루어진다.\n",
    "\n",
    "이어서 Variable 인스턴스에서도 transpose 함수를 사용할 수 있도록 다음 코드를 추가한다.\n",
    "\n",
    "~~~python \n",
    "class Variable:\n",
    "    # ... 생략 ...\n",
    "    \n",
    "    def transpose(self):\n",
    "        return dezero.functions.transpose(self)\n",
    "    \n",
    "    @property\n",
    "    def T(self):\n",
    "        return dezero.functions.transpose(self)\n",
    "~~~\n",
    "\n",
    "첫번째 transpose는 '인스턴스 메서드'로 이용하기 위한 코드   \n",
    "두번째 T에서 @property 데코레이터는 '인스턴스 변수'로 사용할 수 있게 해주는 데코레이터 "
   ],
   "cell_type": "markdown",
   "metadata": {}
  },
  {
   "cell_type": "code",
   "execution_count": 20,
   "metadata": {},
   "outputs": [],
   "source": [
    "x = Variable(np.random.rand(2,3))\n",
    "y = x.transpose()\n",
    "y = x.T"
   ]
  },
  {
   "cell_type": "code",
   "execution_count": 21,
   "metadata": {},
   "outputs": [
    {
     "output_type": "stream",
     "name": "stdout",
     "text": [
      "[[[[0.94675345 0.06813661 0.71280146 0.21636013]\n   [0.02434364 0.78739578 0.30817433 0.75960637]\n   [0.41693737 0.42448872 0.6645393  0.32633775]]\n\n  [[0.41024571 0.31967415 0.86505488 0.70669249]\n   [0.35600245 0.01436504 0.08907842 0.14806674]\n   [0.17050307 0.40150172 0.62903316 0.77640139]]]]\n------------------------------------------------------------------------------------------------------------------------\n[[[[0.94675345 0.02434364 0.41693737]\n   [0.06813661 0.78739578 0.42448872]\n   [0.71280146 0.30817433 0.6645393 ]\n   [0.21636013 0.75960637 0.32633775]]]\n\n\n [[[0.41024571 0.35600245 0.17050307]\n   [0.31967415 0.01436504 0.40150172]\n   [0.86505488 0.08907842 0.62903316]\n   [0.70669249 0.14806674 0.77640139]]]]\n"
     ]
    }
   ],
   "source": [
    "A,B,C,D = 1,2,3,4\n",
    "x = np.random.rand(A,B,C,D)\n",
    "print(x)\n",
    "print('--'*60)\n",
    "y = x.transpose(1,0,3,2)\n",
    "print(y)"
   ]
  },
  {
   "cell_type": "code",
   "execution_count": 22,
   "metadata": {},
   "outputs": [
    {
     "output_type": "stream",
     "name": "stdout",
     "text": [
      "(1, 10)\n(10,)\n(10, 0)\n(0,)\n"
     ]
    }
   ],
   "source": [
    "W1 = Variable(0.01 * np.random.rand(1,10))\n",
    "print(W1.shape)\n",
    "b1 = Variable(np.zeros(10))\n",
    "print(b1.shape)\n",
    "W2 = Variable(0.01 * np.random.rand(10,0))\n",
    "print(W2.shape)\n",
    "b2 = Variable(np.zeros(0))\n",
    "print(b2.shape)"
   ]
  },
  {
   "cell_type": "code",
   "execution_count": null,
   "metadata": {},
   "outputs": [],
   "source": []
  },
  {
   "cell_type": "code",
   "execution_count": null,
   "metadata": {},
   "outputs": [],
   "source": []
  }
 ]
}