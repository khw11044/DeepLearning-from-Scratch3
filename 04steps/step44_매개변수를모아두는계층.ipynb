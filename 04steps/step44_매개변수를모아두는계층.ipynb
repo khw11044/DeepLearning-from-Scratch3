{
 "metadata": {
  "language_info": {
   "codemirror_mode": {
    "name": "ipython",
    "version": 3
   },
   "file_extension": ".py",
   "mimetype": "text/x-python",
   "name": "python",
   "nbconvert_exporter": "python",
   "pygments_lexer": "ipython3",
   "version": "3.8.5-final"
  },
  "orig_nbformat": 2,
  "kernelspec": {
   "name": "python3",
   "display_name": "Python 3.8.5 64-bit (conda)",
   "metadata": {
    "interpreter": {
     "hash": "97ae724bfa85b9b34df7982b8bb8c7216f435b92902d749e4263f71162bea840"
    }
   }
  }
 },
 "nbformat": 4,
 "nbformat_minor": 2,
 "cells": [
  {
   "source": [
    "# Step44, 매개변수를 모아두는 계층 \n",
    "\n",
    "이전 단계에서 DeZero를 사용하여 신경망을 구현하였다. DeZero를 '신경망 프레임워크'라고 할수 있다.\n",
    "\n",
    "이번 단계에서는 매개변수를 다룬다.  \n",
    "이전 단계에서는 매개변수의 기울기를 재설정할때(or 매개변수를 갱신할 때) 다소 단조로운 코드를 작성해야 했다.  \n",
    "앞으로 더욱 복잡한 신경망을 구현하면 매개변수를 다루는 일도 그만큼 복잡해진다.\n",
    "\n",
    "매개변수는 경사하강법 등의 최적화 기법에 의해 갱신되는 변수이다.  \n",
    "예: '가중치', '편향'이 매개변수에 해당 \n",
    "\n",
    "이번 단계에서는 매개변수를 담는 구조를 만든다.  \n",
    "Parameter와 Layer 클래스 구현  \n",
    "이 두 클래스를 사용하면 매개변수 관리를 자동화할 수 있다."
   ],
   "cell_type": "markdown",
   "metadata": {}
  },
  {
   "source": [
    "## 44.1 Parameter 클래스 구현 \n",
    "\n",
    "Parameter 클래스는 Variable 클래스와 똑같은 기능을 갖게한다.  \n",
    "Variable 클래스를 상속한게 다라서 기능도 Variable 클래스와 동일하다.\n",
    "\n",
    "Parameter 클래스는 core.py에 추가  \n",
    "__init__.py에 from dezero.core import Parameter 추가 "
   ],
   "cell_type": "markdown",
   "metadata": {}
  },
  {
   "cell_type": "code",
   "execution_count": 1,
   "metadata": {},
   "outputs": [],
   "source": [
    "from dezero import Variable"
   ]
  },
  {
   "cell_type": "code",
   "execution_count": 2,
   "metadata": {},
   "outputs": [],
   "source": [
    "# core.py\n",
    "class Parameter(Variable):\n",
    "    pass"
   ]
  },
  {
   "source": [
    "Parameter 인스턴스와 Variable 인스턴스는 기능은 같지만 구별할수 있다."
   ],
   "cell_type": "markdown",
   "metadata": {}
  },
  {
   "cell_type": "code",
   "execution_count": 3,
   "metadata": {},
   "outputs": [
    {
     "output_type": "stream",
     "name": "stdout",
     "text": [
      "True\nFalse\nFalse\n"
     ]
    }
   ],
   "source": [
    "import numpy as np \n",
    "from dezero import Variable, Parameter\n",
    "\n",
    "x = Variable(np.array(1.0))\n",
    "p = Parameter(np.array(1.0))\n",
    "y = x * p\n",
    "\n",
    "print(isinstance(p, Parameter))\n",
    "print(isinstance(x, Parameter))\n",
    "print(isinstance(y, Parameter))"
   ]
  },
  {
   "source": [
    "이와같이 Parameter 인스턴스와 Variable 인스턴스를 조합하여 계산할 수 있다.  \n",
    "또한 isinstance 함수로 구분할 수 있다.  \n",
    "\n",
    "이 점을 이용하여 Parameter 인스턴스만을 담는 구조를 만들 수 있다."
   ],
   "cell_type": "markdown",
   "metadata": {}
  },
  {
   "source": [
    "## 44.2 Layer 클래스 구현 \n",
    "\n",
    "Layer는 Function 클래스와 마찬가지로 변수를 변환하는 클래스이다.  \n",
    "그러나 매개변수를 유지한다는 점이 다르다.  \n",
    "Layer 클래스는 매개변수를 유지하고 매개변수를 사용하여 변환을 하는 클래스 \n",
    "\n",
    "**NOTE_** Layer 클래스를 기반 클래스로 두고 구체적인 변환은 자식 클래스에서 구현한다.  \n",
    "예를 들어 선형 변환은 Layer 클래스를 상속한 Linear 클래스에서 구현한다."
   ],
   "cell_type": "markdown",
   "metadata": {}
  },
  {
   "cell_type": "code",
   "execution_count": 4,
   "metadata": {},
   "outputs": [],
   "source": [
    "# layers.py\n",
    "from dezero.core import Parameter \n",
    "\n",
    "class Layer:\n",
    "    def __init__(self):\n",
    "        self._params = set()\n",
    "\n",
    "    def __setattr(self, name, value):\n",
    "        if isinstance(value, Parameter):\n",
    "            self._params.add(name)\n",
    "        super().__setattr__(name, value)"
   ]
  },
  {
   "source": [
    "Layer 클래스에는 \\_params라는 인스턴스 변수가 있다.  \n",
    "\\_params 에는 Layer 인스턴스에 속한 매개변수를 보관한다.\n",
    "\n",
    "**CAUTION_** 인스턴스 변수 _params의 타입은 '집합(set)'이다.  \n",
    "집합은 리스트와 달리 원소들에 순서가 없고 ID가 같은 객체는 종복 저장할 수 없다."
   ],
   "cell_type": "markdown",
   "metadata": {}
  },
  {
   "source": [
    "\\__setattr\\__은 인스턴스 변수를 설정할 때 호출되는 특수 메서드이다.  \n",
    "\\__setattr\\__(self, name, value)는 이름이 name인 인스턴스 변수에 값으로 value를 전달해준다.  \n",
    "이 메서드를 재정의(override)하면 인스턴스 변수를 설정할 때 자신만의 로직을 추가할 수 있다.\n",
    "\n",
    "여기에서는 value가 Parameter 인스턴스라면 self._params에 name을 추가한다  \n",
    "이렇게 하여 Layer 클래스가 갖는 매개변수를 인스턴스 변수 _params에 모아둘 수 있다.\n"
   ],
   "cell_type": "markdown",
   "metadata": {}
  },
  {
   "cell_type": "code",
   "execution_count": 5,
   "metadata": {},
   "outputs": [
    {
     "output_type": "stream",
     "name": "stdout",
     "text": [
      "{'p2', 'p1'}\n-----------------\np2 variable(2)\np1 variable(1)\n"
     ]
    }
   ],
   "source": [
    "from dezero.core import Parameter\n",
    "\n",
    "class Layer:\n",
    "    def __init__(self):\n",
    "        self._params = set()    # Layer 인스턴스에 속한 매개변수를 보관한다.\n",
    "\n",
    "    def __setattr__(self, name, value): # 이름이 name인 인스턴스 변수에 값으로 value를 전달해준다.\n",
    "        if isinstance(value, Parameter):\n",
    "            self._params.add(name)      # value가 Parameter 인스턴스라면 self._params에 name을 추가한다.\n",
    "        super().__setattr__(name, value)\n",
    "\n",
    "layer = Layer()\n",
    "\n",
    "layer.p1 = Parameter(np.array(1))\n",
    "layer.p2 = Parameter(np.array(2))\n",
    "layer.p3 = Variable(np.array(3))\n",
    "layer.p4 = 'test'\n",
    "\n",
    "print(layer._params)\n",
    "print('-----------------')\n",
    "\n",
    "for name in layer._params:\n",
    "    print(name, layer.__dict__[name])"
   ]
  },
  {
   "source": [
    "layer 인스턴스 변수를 설정하면,  \n",
    "Parameter 인스턴스를 보유하고 있는 인스턴스 변수 이름만 layer._params에 추가된다.\n",
    "\n",
    "\\__dict\\__에는 모든 인스턴스 변수가 딕셔너리(dictionary)타입으로 저장되기 때문에 Parameter 인스턴스만 꺼낼 수 있다."
   ],
   "cell_type": "markdown",
   "metadata": {}
  },
  {
   "cell_type": "code",
   "execution_count": 6,
   "metadata": {},
   "outputs": [],
   "source": [
    "from dezero.core import Parameter\n",
    "import weakref \n",
    "\n",
    "class Layer:\n",
    "    def __init__(self):\n",
    "        self._params = set()    # Layer 인스턴스에 속한 매개변수를 보관한다.\n",
    "\n",
    "    def __setattr__(self, name, value): # 이름이 name인 인스턴스 변수에 값으로 value를 전달해준다.\n",
    "        if isinstance(value, Parameter):\n",
    "            self._params.add(name)      # value가 Parameter 인스턴스라면 self._params에 name을 추가한다.\n",
    "        super().__setattr__(name, value)\n",
    "    \n",
    "    def __call__(self, *inputs):    # __call__ 메서드는 입력받은 인수를 건네 forward 메서드를 호출한다\n",
    "        outputs = self.forward(*inputs)\n",
    "        if not isinstance(outputs, tuple):\n",
    "            outputs = (outputs,)\n",
    "        self.inputs = [weakref.ref(x) for x in inputs]      # 입력과 출력 변수를 약한 참조로 유지\n",
    "        self.outputs = [weakref.ref(x) for y in outputs]\n",
    "        return outputs if len(outputs) > 1 else outputs[0]  # 출력이 하나뿐이면 튜플이 아니라 그 출력 하나를 직접 반환한다.\n",
    "    \n",
    "    def forward(self, inputs):      # forward 메서드는 자식클래스에서 구현할 것이다.\n",
    "        raise NotImplementedError()\n",
    "\n",
    "    def params(self):\n",
    "        for name in self._params:       # Layer 인스턴스에 담겨있는 Parameter 인스턴스들을 꺼내준다.\n",
    "            yield self.__dict__[name]   # yield는 return처럼 사용할 수 있다.\n",
    "        \n",
    "    def cleargrads(self):               # 모든 매개변수의 기울기를 재설정한다.\n",
    "        for param in self.params():\n",
    "            param.cleargrad()"
   ]
  },
  {
   "source": [
    "**NOTE_** params 메서드는 yield를 사용하여 값을 반환한다.  \n",
    "yield는 return처럼 사용할 수 있다.  \n",
    "\n",
    "return은 처리를 종료하고 값을 반환  \n",
    "yield는 처리를 '일시중지(suspend)'하고 값을 반환한다. 따라서 yield를 사용하면 작업을 재개(resume)할 수 있다.  \n",
    "params 메서드를 호출할 때마다 일시중지됐던 처리가 재개된다.\n",
    "\n",
    "이런식으로(yield를 for문과 함께 사용하여) 매개변수를 순차적으로 꺼낼 수 있다."
   ],
   "cell_type": "markdown",
   "metadata": {}
  },
  {
   "source": [
    "## 44.3 Linear 클래스 구현 \n",
    "\n",
    "함수로서의 Linear 클래스가 아니라 계층으로서의 Linear 클래스를 구현한다.  \n",
    "간단한 Linear 클래스"
   ],
   "cell_type": "markdown",
   "metadata": {}
  },
  {
   "cell_type": "code",
   "execution_count": 7,
   "metadata": {},
   "outputs": [],
   "source": [
    "import numpy as np \n",
    "import dezero.functions as F \n",
    "from dezero.core import Parameter\n",
    "\n",
    "class Linear(Layer):\n",
    "    def __init__(self, in_size, out_size, nobias=False, dtype=np.float32):  # 입력크기, 출력크기, 편향사용여부\n",
    "        super().__init__()\n",
    "\n",
    "        I, O = in_size, out_size\n",
    "        W_data = np.random.randn(I,O).astype(dtype) * np.sqrt(1/I)  # (0.01 * np.random.randn()대신)\n",
    "        self.W = Parameter(W_data, name='W')\n",
    "        if nobias:\n",
    "            self.b = None \n",
    "        else:\n",
    "            self.b = Parameter(np.zeros(0, dtype=dtype), name='b')\n",
    "        # self.W와 self.b가 Parameter 형태로, 두 Parameter 인스턴스 변수의 이름이 self._params에 추가된다.\n",
    "    \n",
    "    def forward(self, x):               # 선형 변환 구현\n",
    "        y = F.linear(x, self.W, self.b)\n",
    "        return y "
   ]
  },
  {
   "source": [
    "Linear 클래스의 가중치 초기값은 무작위로 설정해야 한다.  \n",
    "신경망의 계산은 32비트 부동소수점을 써도 문제가 없다고 한다."
   ],
   "cell_type": "markdown",
   "metadata": {}
  },
  {
   "source": [
    "Linear 클래스를 구현하는 더 나은 방법  \n",
    "가중치 W를 생성하는 시점을 늦추는 방법\n",
    "\n",
    "가중치를(초기화 메서드가 아닌) forward 메서드에서 생성함으로써 Linear 클래스의 입력 크기(in_size)를 자동으로 결정할 수 있다.  \n",
    "\n",
    "개선된 Linear 클래스를 살펴보자."
   ],
   "cell_type": "markdown",
   "metadata": {}
  },
  {
   "cell_type": "code",
   "execution_count": 8,
   "metadata": {},
   "outputs": [],
   "source": [
    "# layers.py\n",
    "import numpy as np \n",
    "import dezero.functions as F \n",
    "from dezero.core import Parameter\n",
    "\n",
    "class Linear(Layer):\n",
    "    # def __init__(self, in_size, out_size, nobias=False, dtype=np.float32):  # 입력크기, 출력크기, 편향사용여부\n",
    "    def __init__(self, out_size, nobias=False, dtype=np.float32, in_size=None):\n",
    "        super().__init__()\n",
    "        self.in_size = in_size      # <- 추가 \n",
    "        self.out_size = out_size    # <- 추가\n",
    "        self.dtype = dtype          # <- 추가\n",
    "\n",
    "        # I, O = in_size, out_size\n",
    "        # W_data = np.random.randn(I,O).astype(dtype) * np.sqrt(1/I)  # (0.01 * np.random.randn()대신)\n",
    "        # self.W = Parameter(W_data, name='W') # 아래 코드로 바뀜 \n",
    "        self.W = Parameter(None, name='W')\n",
    "        if self.in_size is not None:\n",
    "            self._init_W()\n",
    "        if nobias:\n",
    "            self.b = None \n",
    "        else:\n",
    "            # self.b = Parameter(np.zeros(0, dtype=dtype), name='b')\n",
    "            self.b = Parameter(np.zeros(out_size, dtype=dtype), name='b')\n",
    "        # self.W와 self.b가 Parameter 형태로, 두 Parameter 인스턴스 변수의 이름이 self._params에 추가된다.\n",
    "    \n",
    "    # 추가\n",
    "    def _init_W(self):\n",
    "        I, O = self.in_size, self.out_size\n",
    "        W_data = np.random.randn(I, O).astype(self.dtype) * np.sqrt(1 / I)\n",
    "        self.W.data = W_data  \n",
    "    \n",
    "    def forward(self, x):               # 선형 변환 구현\n",
    "        # 데이터를 흘려보내는 시점에 개충치 초기화 \n",
    "        if self.W.data is None:\n",
    "            self.in_size = x.shape[1]\n",
    "            self._init_W()\n",
    "\n",
    "        y = F.linear(x, self.W, self.b)\n",
    "        return y "
   ]
  },
  {
   "source": [
    "위 코드가 개선된 Linear 클래스  \n",
    "\\__init\\__ 메서드에서 in_size를 지정하지 않아도 된다.  \n",
    "\n",
    "인수 in_size는 기본적으로 None으로 지정  \n",
    "None인 경우 self.W.data 초기화를 '연기'한다.  \n",
    "\n",
    "forward(self, x) 메서드에서 입력 x의 크기에 맞게 가중치 데이터를 생성하는 것이다.  \n",
    "이제 layer = Linear(100) 처럼 출력 크기만 지정해도 된다."
   ],
   "cell_type": "markdown",
   "metadata": {}
  },
  {
   "source": [
    "## 44.4 Layer를 이용한 신경망 구현 \n"
   ],
   "cell_type": "markdown",
   "metadata": {}
  },
  {
   "cell_type": "code",
   "execution_count": 9,
   "metadata": {},
   "outputs": [
    {
     "output_type": "stream",
     "name": "stdout",
     "text": [
      "variable(0.8165178492839196)\n",
      "variable(0.24990280802148895)\n",
      "variable(0.24609876581126008)\n",
      "variable(0.2372159081431807)\n",
      "variable(0.20793216413350174)\n",
      "variable(0.1231190572064935)\n",
      "variable(0.0788816650635515)\n",
      "variable(0.07655073683421633)\n",
      "variable(0.07637803086238226)\n",
      "variable(0.07618764131185571)\n"
     ]
    },
    {
     "output_type": "display_data",
     "data": {
      "text/plain": "<Figure size 432x288 with 1 Axes>",
      "image/svg+xml": "<?xml version=\"1.0\" encoding=\"utf-8\" standalone=\"no\"?>\r\n<!DOCTYPE svg PUBLIC \"-//W3C//DTD SVG 1.1//EN\"\r\n  \"http://www.w3.org/Graphics/SVG/1.1/DTD/svg11.dtd\">\r\n<!-- Created with matplotlib (https://matplotlib.org/) -->\r\n<svg height=\"262.19625pt\" version=\"1.1\" viewBox=\"0 0 394.160937 262.19625\" width=\"394.160937pt\" xmlns=\"http://www.w3.org/2000/svg\" xmlns:xlink=\"http://www.w3.org/1999/xlink\">\r\n <metadata>\r\n  <rdf:RDF xmlns:cc=\"http://creativecommons.org/ns#\" xmlns:dc=\"http://purl.org/dc/elements/1.1/\" xmlns:rdf=\"http://www.w3.org/1999/02/22-rdf-syntax-ns#\">\r\n   <cc:Work>\r\n    <dc:type rdf:resource=\"http://purl.org/dc/dcmitype/StillImage\"/>\r\n    <dc:date>2021-03-14T20:53:50.433477</dc:date>\r\n    <dc:format>image/svg+xml</dc:format>\r\n    <dc:creator>\r\n     <cc:Agent>\r\n      <dc:title>Matplotlib v3.3.2, https://matplotlib.org/</dc:title>\r\n     </cc:Agent>\r\n    </dc:creator>\r\n   </cc:Work>\r\n  </rdf:RDF>\r\n </metadata>\r\n <defs>\r\n  <style type=\"text/css\">*{stroke-linecap:butt;stroke-linejoin:round;}</style>\r\n </defs>\r\n <g id=\"figure_1\">\r\n  <g id=\"patch_1\">\r\n   <path d=\"M 0 262.19625 \r\nL 394.160937 262.19625 \r\nL 394.160937 0 \r\nL 0 0 \r\nz\r\n\" style=\"fill:none;\"/>\r\n  </g>\r\n  <g id=\"axes_1\">\r\n   <g id=\"patch_2\">\r\n    <path d=\"M 52.160938 224.64 \r\nL 386.960938 224.64 \r\nL 386.960938 7.2 \r\nL 52.160938 7.2 \r\nz\r\n\" style=\"fill:#ffffff;\"/>\r\n   </g>\r\n   <g id=\"PathCollection_1\">\r\n    <defs>\r\n     <path d=\"M 0 1.581139 \r\nC 0.419323 1.581139 0.821528 1.41454 1.118034 1.118034 \r\nC 1.41454 0.821528 1.581139 0.419323 1.581139 0 \r\nC 1.581139 -0.419323 1.41454 -0.821528 1.118034 -1.118034 \r\nC 0.821528 -1.41454 0.419323 -1.581139 0 -1.581139 \r\nC -0.419323 -1.581139 -0.821528 -1.41454 -1.118034 -1.118034 \r\nC -1.41454 -0.821528 -1.581139 -0.419323 -1.581139 0 \r\nC -1.581139 0.419323 -1.41454 0.821528 -1.118034 1.118034 \r\nC -0.821528 1.41454 -0.419323 1.581139 0 1.581139 \r\nz\r\n\" id=\"m404dc7f845\" style=\"stroke:#1f77b4;\"/>\r\n    </defs>\r\n    <g clip-path=\"url(#pbd35b54e25)\">\r\n     <use style=\"fill:#1f77b4;stroke:#1f77b4;\" x=\"236.105254\" xlink:href=\"#m404dc7f845\" y=\"125.679581\"/>\r\n     <use style=\"fill:#1f77b4;stroke:#1f77b4;\" x=\"287.25552\" xlink:href=\"#m404dc7f845\" y=\"201.794381\"/>\r\n     <use style=\"fill:#1f77b4;stroke:#1f77b4;\" x=\"252.691496\" xlink:href=\"#m404dc7f845\" y=\"142.733809\"/>\r\n     <use style=\"fill:#1f77b4;stroke:#1f77b4;\" x=\"234.896924\" xlink:href=\"#m404dc7f845\" y=\"104.013915\"/>\r\n     <use style=\"fill:#1f77b4;stroke:#1f77b4;\" x=\"197.626711\" xlink:href=\"#m404dc7f845\" y=\"102.159985\"/>\r\n     <use style=\"fill:#1f77b4;stroke:#1f77b4;\" x=\"265.951524\" xlink:href=\"#m404dc7f845\" y=\"167.41543\"/>\r\n     <use style=\"fill:#1f77b4;stroke:#1f77b4;\" x=\"201.910064\" xlink:href=\"#m404dc7f845\" y=\"83.592423\"/>\r\n     <use style=\"fill:#1f77b4;stroke:#1f77b4;\" x=\"341.544042\" xlink:href=\"#m404dc7f845\" y=\"156.098839\"/>\r\n     <use style=\"fill:#1f77b4;stroke:#1f77b4;\" x=\"363.645687\" xlink:href=\"#m404dc7f845\" y=\"152.349918\"/>\r\n     <use style=\"fill:#1f77b4;stroke:#1f77b4;\" x=\"185.263619\" xlink:href=\"#m404dc7f845\" y=\"38.070153\"/>\r\n     <use style=\"fill:#1f77b4;stroke:#1f77b4;\" x=\"310.785495\" xlink:href=\"#m404dc7f845\" y=\"188.607894\"/>\r\n     <use style=\"fill:#1f77b4;stroke:#1f77b4;\" x=\"229.981524\" xlink:href=\"#m404dc7f845\" y=\"105.283597\"/>\r\n     <use style=\"fill:#1f77b4;stroke:#1f77b4;\" x=\"242.017612\" xlink:href=\"#m404dc7f845\" y=\"132.08418\"/>\r\n     <use style=\"fill:#1f77b4;stroke:#1f77b4;\" x=\"351.942714\" xlink:href=\"#m404dc7f845\" y=\"162.898182\"/>\r\n     <use style=\"fill:#1f77b4;stroke:#1f77b4;\" x=\"89.218304\" xlink:href=\"#m404dc7f845\" y=\"64.512885\"/>\r\n     <use style=\"fill:#1f77b4;stroke:#1f77b4;\" x=\"94.165978\" xlink:href=\"#m404dc7f845\" y=\"87.616141\"/>\r\n     <use style=\"fill:#1f77b4;stroke:#1f77b4;\" x=\"73.595023\" xlink:href=\"#m404dc7f845\" y=\"81.230429\"/>\r\n     <use style=\"fill:#1f77b4;stroke:#1f77b4;\" x=\"323.358113\" xlink:href=\"#m404dc7f845\" y=\"172.308208\"/>\r\n     <use style=\"fill:#1f77b4;stroke:#1f77b4;\" x=\"306.614087\" xlink:href=\"#m404dc7f845\" y=\"159.342102\"/>\r\n     <use style=\"fill:#1f77b4;stroke:#1f77b4;\" x=\"334.853929\" xlink:href=\"#m404dc7f845\" y=\"154.680437\"/>\r\n     <use style=\"fill:#1f77b4;stroke:#1f77b4;\" x=\"368.243601\" xlink:href=\"#m404dc7f845\" y=\"110.526837\"/>\r\n     <use style=\"fill:#1f77b4;stroke:#1f77b4;\" x=\"313.070843\" xlink:href=\"#m404dc7f845\" y=\"183.870149\"/>\r\n     <use style=\"fill:#1f77b4;stroke:#1f77b4;\" x=\"209.255419\" xlink:href=\"#m404dc7f845\" y=\"68.008777\"/>\r\n     <use style=\"fill:#1f77b4;stroke:#1f77b4;\" x=\"307.343461\" xlink:href=\"#m404dc7f845\" y=\"175.873378\"/>\r\n     <use style=\"fill:#1f77b4;stroke:#1f77b4;\" x=\"103.741174\" xlink:href=\"#m404dc7f845\" y=\"74.712472\"/>\r\n     <use style=\"fill:#1f77b4;stroke:#1f77b4;\" x=\"264.115169\" xlink:href=\"#m404dc7f845\" y=\"163.643347\"/>\r\n     <use style=\"fill:#1f77b4;stroke:#1f77b4;\" x=\"111.45137\" xlink:href=\"#m404dc7f845\" y=\"95.638829\"/>\r\n     <use style=\"fill:#1f77b4;stroke:#1f77b4;\" x=\"357.806257\" xlink:href=\"#m404dc7f845\" y=\"154.872812\"/>\r\n     <use style=\"fill:#1f77b4;stroke:#1f77b4;\" x=\"227.815132\" xlink:href=\"#m404dc7f845\" y=\"115.309108\"/>\r\n     <use style=\"fill:#1f77b4;stroke:#1f77b4;\" x=\"194.861964\" xlink:href=\"#m404dc7f845\" y=\"95.780805\"/>\r\n     <use style=\"fill:#1f77b4;stroke:#1f77b4;\" x=\"148.713572\" xlink:href=\"#m404dc7f845\" y=\"38.600394\"/>\r\n     <use style=\"fill:#1f77b4;stroke:#1f77b4;\" x=\"305.407989\" xlink:href=\"#m404dc7f845\" y=\"191.488821\"/>\r\n     <use style=\"fill:#1f77b4;stroke:#1f77b4;\" x=\"207.617073\" xlink:href=\"#m404dc7f845\" y=\"123.455433\"/>\r\n     <use style=\"fill:#1f77b4;stroke:#1f77b4;\" x=\"242.137325\" xlink:href=\"#m404dc7f845\" y=\"160.461743\"/>\r\n     <use style=\"fill:#1f77b4;stroke:#1f77b4;\" x=\"73.155818\" xlink:href=\"#m404dc7f845\" y=\"103.743218\"/>\r\n     <use style=\"fill:#1f77b4;stroke:#1f77b4;\" x=\"257.263751\" xlink:href=\"#m404dc7f845\" y=\"157.943214\"/>\r\n     <use style=\"fill:#1f77b4;stroke:#1f77b4;\" x=\"255.560614\" xlink:href=\"#m404dc7f845\" y=\"157.269334\"/>\r\n     <use style=\"fill:#1f77b4;stroke:#1f77b4;\" x=\"257.048084\" xlink:href=\"#m404dc7f845\" y=\"153.329327\"/>\r\n     <use style=\"fill:#1f77b4;stroke:#1f77b4;\" x=\"357.523157\" xlink:href=\"#m404dc7f845\" y=\"130.598133\"/>\r\n     <use style=\"fill:#1f77b4;stroke:#1f77b4;\" x=\"276.9966\" xlink:href=\"#m404dc7f845\" y=\"185.759997\"/>\r\n     <use style=\"fill:#1f77b4;stroke:#1f77b4;\" x=\"177.905515\" xlink:href=\"#m404dc7f845\" y=\"34.718159\"/>\r\n     <use style=\"fill:#1f77b4;stroke:#1f77b4;\" x=\"201.739356\" xlink:href=\"#m404dc7f845\" y=\"99.156211\"/>\r\n     <use style=\"fill:#1f77b4;stroke:#1f77b4;\" x=\"281.85747\" xlink:href=\"#m404dc7f845\" y=\"188.029799\"/>\r\n     <use style=\"fill:#1f77b4;stroke:#1f77b4;\" x=\"85.894719\" xlink:href=\"#m404dc7f845\" y=\"63.393988\"/>\r\n     <use style=\"fill:#1f77b4;stroke:#1f77b4;\" x=\"272.368556\" xlink:href=\"#m404dc7f845\" y=\"156.35182\"/>\r\n     <use style=\"fill:#1f77b4;stroke:#1f77b4;\" x=\"273.558696\" xlink:href=\"#m404dc7f845\" y=\"164.384629\"/>\r\n     <use style=\"fill:#1f77b4;stroke:#1f77b4;\" x=\"132.058717\" xlink:href=\"#m404dc7f845\" y=\"76.896841\"/>\r\n     <use style=\"fill:#1f77b4;stroke:#1f77b4;\" x=\"107.015965\" xlink:href=\"#m404dc7f845\" y=\"36.491518\"/>\r\n     <use style=\"fill:#1f77b4;stroke:#1f77b4;\" x=\"164.353786\" xlink:href=\"#m404dc7f845\" y=\"37.398427\"/>\r\n     <use style=\"fill:#1f77b4;stroke:#1f77b4;\" x=\"179.197637\" xlink:href=\"#m404dc7f845\" y=\"28.720558\"/>\r\n     <use style=\"fill:#1f77b4;stroke:#1f77b4;\" x=\"242.679283\" xlink:href=\"#m404dc7f845\" y=\"171.637428\"/>\r\n     <use style=\"fill:#1f77b4;stroke:#1f77b4;\" x=\"202.221899\" xlink:href=\"#m404dc7f845\" y=\"64.586888\"/>\r\n     <use style=\"fill:#1f77b4;stroke:#1f77b4;\" x=\"371.242812\" xlink:href=\"#m404dc7f845\" y=\"145.824833\"/>\r\n     <use style=\"fill:#1f77b4;stroke:#1f77b4;\" x=\"98.751574\" xlink:href=\"#m404dc7f845\" y=\"66.747515\"/>\r\n     <use style=\"fill:#1f77b4;stroke:#1f77b4;\" x=\"131.595775\" xlink:href=\"#m404dc7f845\" y=\"75.40426\"/>\r\n     <use style=\"fill:#1f77b4;stroke:#1f77b4;\" x=\"116.971798\" xlink:href=\"#m404dc7f845\" y=\"32.770439\"/>\r\n     <use style=\"fill:#1f77b4;stroke:#1f77b4;\" x=\"268.169447\" xlink:href=\"#m404dc7f845\" y=\"153.037089\"/>\r\n     <use style=\"fill:#1f77b4;stroke:#1f77b4;\" x=\"145.250587\" xlink:href=\"#m404dc7f845\" y=\"41.76223\"/>\r\n     <use style=\"fill:#1f77b4;stroke:#1f77b4;\" x=\"210.740778\" xlink:href=\"#m404dc7f845\" y=\"108.700149\"/>\r\n     <use style=\"fill:#1f77b4;stroke:#1f77b4;\" x=\"142.524839\" xlink:href=\"#m404dc7f845\" y=\"76.956726\"/>\r\n     <use style=\"fill:#1f77b4;stroke:#1f77b4;\" x=\"116.252413\" xlink:href=\"#m404dc7f845\" y=\"43.915891\"/>\r\n     <use style=\"fill:#1f77b4;stroke:#1f77b4;\" x=\"101.312634\" xlink:href=\"#m404dc7f845\" y=\"75.252521\"/>\r\n     <use style=\"fill:#1f77b4;stroke:#1f77b4;\" x=\"269.159786\" xlink:href=\"#m404dc7f845\" y=\"159.837003\"/>\r\n     <use style=\"fill:#1f77b4;stroke:#1f77b4;\" x=\"109.861812\" xlink:href=\"#m404dc7f845\" y=\"37.493782\"/>\r\n     <use style=\"fill:#1f77b4;stroke:#1f77b4;\" x=\"127.816011\" xlink:href=\"#m404dc7f845\" y=\"17.083636\"/>\r\n     <use style=\"fill:#1f77b4;stroke:#1f77b4;\" x=\"180.739254\" xlink:href=\"#m404dc7f845\" y=\"40.260787\"/>\r\n     <use style=\"fill:#1f77b4;stroke:#1f77b4;\" x=\"319.783649\" xlink:href=\"#m404dc7f845\" y=\"214.756364\"/>\r\n     <use style=\"fill:#1f77b4;stroke:#1f77b4;\" x=\"97.231743\" xlink:href=\"#m404dc7f845\" y=\"86.496654\"/>\r\n     <use style=\"fill:#1f77b4;stroke:#1f77b4;\" x=\"324.99524\" xlink:href=\"#m404dc7f845\" y=\"160.64551\"/>\r\n     <use style=\"fill:#1f77b4;stroke:#1f77b4;\" x=\"96.923423\" xlink:href=\"#m404dc7f845\" y=\"100.10955\"/>\r\n     <use style=\"fill:#1f77b4;stroke:#1f77b4;\" x=\"367.57988\" xlink:href=\"#m404dc7f845\" y=\"125.836612\"/>\r\n     <use style=\"fill:#1f77b4;stroke:#1f77b4;\" x=\"211.460315\" xlink:href=\"#m404dc7f845\" y=\"134.532914\"/>\r\n     <use style=\"fill:#1f77b4;stroke:#1f77b4;\" x=\"367.672611\" xlink:href=\"#m404dc7f845\" y=\"148.287379\"/>\r\n     <use style=\"fill:#1f77b4;stroke:#1f77b4;\" x=\"253.331626\" xlink:href=\"#m404dc7f845\" y=\"193.877402\"/>\r\n     <use style=\"fill:#1f77b4;stroke:#1f77b4;\" x=\"294.656848\" xlink:href=\"#m404dc7f845\" y=\"166.472802\"/>\r\n     <use style=\"fill:#1f77b4;stroke:#1f77b4;\" x=\"79.426936\" xlink:href=\"#m404dc7f845\" y=\"119.224266\"/>\r\n     <use style=\"fill:#1f77b4;stroke:#1f77b4;\" x=\"154.324731\" xlink:href=\"#m404dc7f845\" y=\"58.97532\"/>\r\n     <use style=\"fill:#1f77b4;stroke:#1f77b4;\" x=\"104.332112\" xlink:href=\"#m404dc7f845\" y=\"38.622066\"/>\r\n     <use style=\"fill:#1f77b4;stroke:#1f77b4;\" x=\"158.423874\" xlink:href=\"#m404dc7f845\" y=\"35.164289\"/>\r\n     <use style=\"fill:#1f77b4;stroke:#1f77b4;\" x=\"103.880534\" xlink:href=\"#m404dc7f845\" y=\"102.140387\"/>\r\n     <use style=\"fill:#1f77b4;stroke:#1f77b4;\" x=\"165.139237\" xlink:href=\"#m404dc7f845\" y=\"76.514258\"/>\r\n     <use style=\"fill:#1f77b4;stroke:#1f77b4;\" x=\"194.739313\" xlink:href=\"#m404dc7f845\" y=\"72.317907\"/>\r\n     <use style=\"fill:#1f77b4;stroke:#1f77b4;\" x=\"87.100498\" xlink:href=\"#m404dc7f845\" y=\"83.927543\"/>\r\n     <use style=\"fill:#1f77b4;stroke:#1f77b4;\" x=\"280.271374\" xlink:href=\"#m404dc7f845\" y=\"201.183926\"/>\r\n     <use style=\"fill:#1f77b4;stroke:#1f77b4;\" x=\"241.573947\" xlink:href=\"#m404dc7f845\" y=\"114.990847\"/>\r\n     <use style=\"fill:#1f77b4;stroke:#1f77b4;\" x=\"148.969938\" xlink:href=\"#m404dc7f845\" y=\"38.919863\"/>\r\n     <use style=\"fill:#1f77b4;stroke:#1f77b4;\" x=\"228.245463\" xlink:href=\"#m404dc7f845\" y=\"124.68201\"/>\r\n     <use style=\"fill:#1f77b4;stroke:#1f77b4;\" x=\"96.260004\" xlink:href=\"#m404dc7f845\" y=\"71.475569\"/>\r\n     <use style=\"fill:#1f77b4;stroke:#1f77b4;\" x=\"244.446968\" xlink:href=\"#m404dc7f845\" y=\"133.069541\"/>\r\n     <use style=\"fill:#1f77b4;stroke:#1f77b4;\" x=\"353.080099\" xlink:href=\"#m404dc7f845\" y=\"160.409562\"/>\r\n     <use style=\"fill:#1f77b4;stroke:#1f77b4;\" x=\"165.319326\" xlink:href=\"#m404dc7f845\" y=\"60.195169\"/>\r\n     <use style=\"fill:#1f77b4;stroke:#1f77b4;\" x=\"272.566443\" xlink:href=\"#m404dc7f845\" y=\"198.441945\"/>\r\n     <use style=\"fill:#1f77b4;stroke:#1f77b4;\" x=\"107.898793\" xlink:href=\"#m404dc7f845\" y=\"87.205985\"/>\r\n     <use style=\"fill:#1f77b4;stroke:#1f77b4;\" x=\"287.605334\" xlink:href=\"#m404dc7f845\" y=\"154.465524\"/>\r\n     <use style=\"fill:#1f77b4;stroke:#1f77b4;\" x=\"156.353555\" xlink:href=\"#m404dc7f845\" y=\"31.902491\"/>\r\n     <use style=\"fill:#1f77b4;stroke:#1f77b4;\" x=\"123.699108\" xlink:href=\"#m404dc7f845\" y=\"53.385969\"/>\r\n     <use style=\"fill:#1f77b4;stroke:#1f77b4;\" x=\"247.695493\" xlink:href=\"#m404dc7f845\" y=\"172.505209\"/>\r\n     <use style=\"fill:#1f77b4;stroke:#1f77b4;\" x=\"73.560943\" xlink:href=\"#m404dc7f845\" y=\"125.36572\"/>\r\n     <use style=\"fill:#1f77b4;stroke:#1f77b4;\" x=\"322.226798\" xlink:href=\"#m404dc7f845\" y=\"209.904749\"/>\r\n     <use style=\"fill:#1f77b4;stroke:#1f77b4;\" x=\"68.822687\" xlink:href=\"#m404dc7f845\" y=\"119.488298\"/>\r\n    </g>\r\n   </g>\r\n   <g id=\"matplotlib.axis_1\">\r\n    <g id=\"xtick_1\">\r\n     <g id=\"line2d_1\">\r\n      <defs>\r\n       <path d=\"M 0 0 \r\nL 0 3.5 \r\n\" id=\"md01c72a2af\" style=\"stroke:#000000;stroke-width:0.8;\"/>\r\n      </defs>\r\n      <g>\r\n       <use style=\"stroke:#000000;stroke-width:0.8;\" x=\"67.379119\" xlink:href=\"#md01c72a2af\" y=\"224.64\"/>\r\n      </g>\r\n     </g>\r\n     <g id=\"text_1\">\r\n      <!-- 0.0 -->\r\n      <g transform=\"translate(59.427557 239.238437)scale(0.1 -0.1)\">\r\n       <defs>\r\n        <path d=\"M 31.78125 66.40625 \r\nQ 24.171875 66.40625 20.328125 58.90625 \r\nQ 16.5 51.421875 16.5 36.375 \r\nQ 16.5 21.390625 20.328125 13.890625 \r\nQ 24.171875 6.390625 31.78125 6.390625 \r\nQ 39.453125 6.390625 43.28125 13.890625 \r\nQ 47.125 21.390625 47.125 36.375 \r\nQ 47.125 51.421875 43.28125 58.90625 \r\nQ 39.453125 66.40625 31.78125 66.40625 \r\nz\r\nM 31.78125 74.21875 \r\nQ 44.046875 74.21875 50.515625 64.515625 \r\nQ 56.984375 54.828125 56.984375 36.375 \r\nQ 56.984375 17.96875 50.515625 8.265625 \r\nQ 44.046875 -1.421875 31.78125 -1.421875 \r\nQ 19.53125 -1.421875 13.0625 8.265625 \r\nQ 6.59375 17.96875 6.59375 36.375 \r\nQ 6.59375 54.828125 13.0625 64.515625 \r\nQ 19.53125 74.21875 31.78125 74.21875 \r\nz\r\n\" id=\"DejaVuSans-48\"/>\r\n        <path d=\"M 10.6875 12.40625 \r\nL 21 12.40625 \r\nL 21 0 \r\nL 10.6875 0 \r\nz\r\n\" id=\"DejaVuSans-46\"/>\r\n       </defs>\r\n       <use xlink:href=\"#DejaVuSans-48\"/>\r\n       <use x=\"63.623047\" xlink:href=\"#DejaVuSans-46\"/>\r\n       <use x=\"95.410156\" xlink:href=\"#DejaVuSans-48\"/>\r\n      </g>\r\n     </g>\r\n    </g>\r\n    <g id=\"xtick_2\">\r\n     <g id=\"line2d_2\">\r\n      <g>\r\n       <use style=\"stroke:#000000;stroke-width:0.8;\" x=\"128.866723\" xlink:href=\"#md01c72a2af\" y=\"224.64\"/>\r\n      </g>\r\n     </g>\r\n     <g id=\"text_2\">\r\n      <!-- 0.2 -->\r\n      <g transform=\"translate(120.91516 239.238437)scale(0.1 -0.1)\">\r\n       <defs>\r\n        <path d=\"M 19.1875 8.296875 \r\nL 53.609375 8.296875 \r\nL 53.609375 0 \r\nL 7.328125 0 \r\nL 7.328125 8.296875 \r\nQ 12.9375 14.109375 22.625 23.890625 \r\nQ 32.328125 33.6875 34.8125 36.53125 \r\nQ 39.546875 41.84375 41.421875 45.53125 \r\nQ 43.3125 49.21875 43.3125 52.78125 \r\nQ 43.3125 58.59375 39.234375 62.25 \r\nQ 35.15625 65.921875 28.609375 65.921875 \r\nQ 23.96875 65.921875 18.8125 64.3125 \r\nQ 13.671875 62.703125 7.8125 59.421875 \r\nL 7.8125 69.390625 \r\nQ 13.765625 71.78125 18.9375 73 \r\nQ 24.125 74.21875 28.421875 74.21875 \r\nQ 39.75 74.21875 46.484375 68.546875 \r\nQ 53.21875 62.890625 53.21875 53.421875 \r\nQ 53.21875 48.921875 51.53125 44.890625 \r\nQ 49.859375 40.875 45.40625 35.40625 \r\nQ 44.1875 33.984375 37.640625 27.21875 \r\nQ 31.109375 20.453125 19.1875 8.296875 \r\nz\r\n\" id=\"DejaVuSans-50\"/>\r\n       </defs>\r\n       <use xlink:href=\"#DejaVuSans-48\"/>\r\n       <use x=\"63.623047\" xlink:href=\"#DejaVuSans-46\"/>\r\n       <use x=\"95.410156\" xlink:href=\"#DejaVuSans-50\"/>\r\n      </g>\r\n     </g>\r\n    </g>\r\n    <g id=\"xtick_3\">\r\n     <g id=\"line2d_3\">\r\n      <g>\r\n       <use style=\"stroke:#000000;stroke-width:0.8;\" x=\"190.354326\" xlink:href=\"#md01c72a2af\" y=\"224.64\"/>\r\n      </g>\r\n     </g>\r\n     <g id=\"text_3\">\r\n      <!-- 0.4 -->\r\n      <g transform=\"translate(182.402763 239.238437)scale(0.1 -0.1)\">\r\n       <defs>\r\n        <path d=\"M 37.796875 64.3125 \r\nL 12.890625 25.390625 \r\nL 37.796875 25.390625 \r\nz\r\nM 35.203125 72.90625 \r\nL 47.609375 72.90625 \r\nL 47.609375 25.390625 \r\nL 58.015625 25.390625 \r\nL 58.015625 17.1875 \r\nL 47.609375 17.1875 \r\nL 47.609375 0 \r\nL 37.796875 0 \r\nL 37.796875 17.1875 \r\nL 4.890625 17.1875 \r\nL 4.890625 26.703125 \r\nz\r\n\" id=\"DejaVuSans-52\"/>\r\n       </defs>\r\n       <use xlink:href=\"#DejaVuSans-48\"/>\r\n       <use x=\"63.623047\" xlink:href=\"#DejaVuSans-46\"/>\r\n       <use x=\"95.410156\" xlink:href=\"#DejaVuSans-52\"/>\r\n      </g>\r\n     </g>\r\n    </g>\r\n    <g id=\"xtick_4\">\r\n     <g id=\"line2d_4\">\r\n      <g>\r\n       <use style=\"stroke:#000000;stroke-width:0.8;\" x=\"251.841929\" xlink:href=\"#md01c72a2af\" y=\"224.64\"/>\r\n      </g>\r\n     </g>\r\n     <g id=\"text_4\">\r\n      <!-- 0.6 -->\r\n      <g transform=\"translate(243.890367 239.238437)scale(0.1 -0.1)\">\r\n       <defs>\r\n        <path d=\"M 33.015625 40.375 \r\nQ 26.375 40.375 22.484375 35.828125 \r\nQ 18.609375 31.296875 18.609375 23.390625 \r\nQ 18.609375 15.53125 22.484375 10.953125 \r\nQ 26.375 6.390625 33.015625 6.390625 \r\nQ 39.65625 6.390625 43.53125 10.953125 \r\nQ 47.40625 15.53125 47.40625 23.390625 \r\nQ 47.40625 31.296875 43.53125 35.828125 \r\nQ 39.65625 40.375 33.015625 40.375 \r\nz\r\nM 52.59375 71.296875 \r\nL 52.59375 62.3125 \r\nQ 48.875 64.0625 45.09375 64.984375 \r\nQ 41.3125 65.921875 37.59375 65.921875 \r\nQ 27.828125 65.921875 22.671875 59.328125 \r\nQ 17.53125 52.734375 16.796875 39.40625 \r\nQ 19.671875 43.65625 24.015625 45.921875 \r\nQ 28.375 48.1875 33.59375 48.1875 \r\nQ 44.578125 48.1875 50.953125 41.515625 \r\nQ 57.328125 34.859375 57.328125 23.390625 \r\nQ 57.328125 12.15625 50.6875 5.359375 \r\nQ 44.046875 -1.421875 33.015625 -1.421875 \r\nQ 20.359375 -1.421875 13.671875 8.265625 \r\nQ 6.984375 17.96875 6.984375 36.375 \r\nQ 6.984375 53.65625 15.1875 63.9375 \r\nQ 23.390625 74.21875 37.203125 74.21875 \r\nQ 40.921875 74.21875 44.703125 73.484375 \r\nQ 48.484375 72.75 52.59375 71.296875 \r\nz\r\n\" id=\"DejaVuSans-54\"/>\r\n       </defs>\r\n       <use xlink:href=\"#DejaVuSans-48\"/>\r\n       <use x=\"63.623047\" xlink:href=\"#DejaVuSans-46\"/>\r\n       <use x=\"95.410156\" xlink:href=\"#DejaVuSans-54\"/>\r\n      </g>\r\n     </g>\r\n    </g>\r\n    <g id=\"xtick_5\">\r\n     <g id=\"line2d_5\">\r\n      <g>\r\n       <use style=\"stroke:#000000;stroke-width:0.8;\" x=\"313.329533\" xlink:href=\"#md01c72a2af\" y=\"224.64\"/>\r\n      </g>\r\n     </g>\r\n     <g id=\"text_5\">\r\n      <!-- 0.8 -->\r\n      <g transform=\"translate(305.37797 239.238437)scale(0.1 -0.1)\">\r\n       <defs>\r\n        <path d=\"M 31.78125 34.625 \r\nQ 24.75 34.625 20.71875 30.859375 \r\nQ 16.703125 27.09375 16.703125 20.515625 \r\nQ 16.703125 13.921875 20.71875 10.15625 \r\nQ 24.75 6.390625 31.78125 6.390625 \r\nQ 38.8125 6.390625 42.859375 10.171875 \r\nQ 46.921875 13.96875 46.921875 20.515625 \r\nQ 46.921875 27.09375 42.890625 30.859375 \r\nQ 38.875 34.625 31.78125 34.625 \r\nz\r\nM 21.921875 38.8125 \r\nQ 15.578125 40.375 12.03125 44.71875 \r\nQ 8.5 49.078125 8.5 55.328125 \r\nQ 8.5 64.0625 14.71875 69.140625 \r\nQ 20.953125 74.21875 31.78125 74.21875 \r\nQ 42.671875 74.21875 48.875 69.140625 \r\nQ 55.078125 64.0625 55.078125 55.328125 \r\nQ 55.078125 49.078125 51.53125 44.71875 \r\nQ 48 40.375 41.703125 38.8125 \r\nQ 48.828125 37.15625 52.796875 32.3125 \r\nQ 56.78125 27.484375 56.78125 20.515625 \r\nQ 56.78125 9.90625 50.3125 4.234375 \r\nQ 43.84375 -1.421875 31.78125 -1.421875 \r\nQ 19.734375 -1.421875 13.25 4.234375 \r\nQ 6.78125 9.90625 6.78125 20.515625 \r\nQ 6.78125 27.484375 10.78125 32.3125 \r\nQ 14.796875 37.15625 21.921875 38.8125 \r\nz\r\nM 18.3125 54.390625 \r\nQ 18.3125 48.734375 21.84375 45.5625 \r\nQ 25.390625 42.390625 31.78125 42.390625 \r\nQ 38.140625 42.390625 41.71875 45.5625 \r\nQ 45.3125 48.734375 45.3125 54.390625 \r\nQ 45.3125 60.0625 41.71875 63.234375 \r\nQ 38.140625 66.40625 31.78125 66.40625 \r\nQ 25.390625 66.40625 21.84375 63.234375 \r\nQ 18.3125 60.0625 18.3125 54.390625 \r\nz\r\n\" id=\"DejaVuSans-56\"/>\r\n       </defs>\r\n       <use xlink:href=\"#DejaVuSans-48\"/>\r\n       <use x=\"63.623047\" xlink:href=\"#DejaVuSans-46\"/>\r\n       <use x=\"95.410156\" xlink:href=\"#DejaVuSans-56\"/>\r\n      </g>\r\n     </g>\r\n    </g>\r\n    <g id=\"xtick_6\">\r\n     <g id=\"line2d_6\">\r\n      <g>\r\n       <use style=\"stroke:#000000;stroke-width:0.8;\" x=\"374.817136\" xlink:href=\"#md01c72a2af\" y=\"224.64\"/>\r\n      </g>\r\n     </g>\r\n     <g id=\"text_6\">\r\n      <!-- 1.0 -->\r\n      <g transform=\"translate(366.865573 239.238437)scale(0.1 -0.1)\">\r\n       <defs>\r\n        <path d=\"M 12.40625 8.296875 \r\nL 28.515625 8.296875 \r\nL 28.515625 63.921875 \r\nL 10.984375 60.40625 \r\nL 10.984375 69.390625 \r\nL 28.421875 72.90625 \r\nL 38.28125 72.90625 \r\nL 38.28125 8.296875 \r\nL 54.390625 8.296875 \r\nL 54.390625 0 \r\nL 12.40625 0 \r\nz\r\n\" id=\"DejaVuSans-49\"/>\r\n       </defs>\r\n       <use xlink:href=\"#DejaVuSans-49\"/>\r\n       <use x=\"63.623047\" xlink:href=\"#DejaVuSans-46\"/>\r\n       <use x=\"95.410156\" xlink:href=\"#DejaVuSans-48\"/>\r\n      </g>\r\n     </g>\r\n    </g>\r\n    <g id=\"text_7\">\r\n     <!-- x -->\r\n     <g transform=\"translate(216.601563 252.916562)scale(0.1 -0.1)\">\r\n      <defs>\r\n       <path d=\"M 54.890625 54.6875 \r\nL 35.109375 28.078125 \r\nL 55.90625 0 \r\nL 45.3125 0 \r\nL 29.390625 21.484375 \r\nL 13.484375 0 \r\nL 2.875 0 \r\nL 24.125 28.609375 \r\nL 4.6875 54.6875 \r\nL 15.28125 54.6875 \r\nL 29.78125 35.203125 \r\nL 44.28125 54.6875 \r\nz\r\n\" id=\"DejaVuSans-120\"/>\r\n      </defs>\r\n      <use xlink:href=\"#DejaVuSans-120\"/>\r\n     </g>\r\n    </g>\r\n   </g>\r\n   <g id=\"matplotlib.axis_2\">\r\n    <g id=\"ytick_1\">\r\n     <g id=\"line2d_7\">\r\n      <defs>\r\n       <path d=\"M 0 0 \r\nL -3.5 0 \r\n\" id=\"m338f1ad90d\" style=\"stroke:#000000;stroke-width:0.8;\"/>\r\n      </defs>\r\n      <g>\r\n       <use style=\"stroke:#000000;stroke-width:0.8;\" x=\"52.160938\" xlink:href=\"#m338f1ad90d\" y=\"222.463171\"/>\r\n      </g>\r\n     </g>\r\n     <g id=\"text_8\">\r\n      <!-- −1.0 -->\r\n      <g transform=\"translate(20.878125 226.262389)scale(0.1 -0.1)\">\r\n       <defs>\r\n        <path d=\"M 10.59375 35.5 \r\nL 73.1875 35.5 \r\nL 73.1875 27.203125 \r\nL 10.59375 27.203125 \r\nz\r\n\" id=\"DejaVuSans-8722\"/>\r\n       </defs>\r\n       <use xlink:href=\"#DejaVuSans-8722\"/>\r\n       <use x=\"83.789062\" xlink:href=\"#DejaVuSans-49\"/>\r\n       <use x=\"147.412109\" xlink:href=\"#DejaVuSans-46\"/>\r\n       <use x=\"179.199219\" xlink:href=\"#DejaVuSans-48\"/>\r\n      </g>\r\n     </g>\r\n    </g>\r\n    <g id=\"ytick_2\">\r\n     <g id=\"line2d_8\">\r\n      <g>\r\n       <use style=\"stroke:#000000;stroke-width:0.8;\" x=\"52.160938\" xlink:href=\"#m338f1ad90d\" y=\"187.292112\"/>\r\n      </g>\r\n     </g>\r\n     <g id=\"text_9\">\r\n      <!-- −0.5 -->\r\n      <g transform=\"translate(20.878125 191.091331)scale(0.1 -0.1)\">\r\n       <defs>\r\n        <path d=\"M 10.796875 72.90625 \r\nL 49.515625 72.90625 \r\nL 49.515625 64.59375 \r\nL 19.828125 64.59375 \r\nL 19.828125 46.734375 \r\nQ 21.96875 47.46875 24.109375 47.828125 \r\nQ 26.265625 48.1875 28.421875 48.1875 \r\nQ 40.625 48.1875 47.75 41.5 \r\nQ 54.890625 34.8125 54.890625 23.390625 \r\nQ 54.890625 11.625 47.5625 5.09375 \r\nQ 40.234375 -1.421875 26.90625 -1.421875 \r\nQ 22.3125 -1.421875 17.546875 -0.640625 \r\nQ 12.796875 0.140625 7.71875 1.703125 \r\nL 7.71875 11.625 \r\nQ 12.109375 9.234375 16.796875 8.0625 \r\nQ 21.484375 6.890625 26.703125 6.890625 \r\nQ 35.15625 6.890625 40.078125 11.328125 \r\nQ 45.015625 15.765625 45.015625 23.390625 \r\nQ 45.015625 31 40.078125 35.4375 \r\nQ 35.15625 39.890625 26.703125 39.890625 \r\nQ 22.75 39.890625 18.8125 39.015625 \r\nQ 14.890625 38.140625 10.796875 36.28125 \r\nz\r\n\" id=\"DejaVuSans-53\"/>\r\n       </defs>\r\n       <use xlink:href=\"#DejaVuSans-8722\"/>\r\n       <use x=\"83.789062\" xlink:href=\"#DejaVuSans-48\"/>\r\n       <use x=\"147.412109\" xlink:href=\"#DejaVuSans-46\"/>\r\n       <use x=\"179.199219\" xlink:href=\"#DejaVuSans-53\"/>\r\n      </g>\r\n     </g>\r\n    </g>\r\n    <g id=\"ytick_3\">\r\n     <g id=\"line2d_9\">\r\n      <g>\r\n       <use style=\"stroke:#000000;stroke-width:0.8;\" x=\"52.160938\" xlink:href=\"#m338f1ad90d\" y=\"152.121054\"/>\r\n      </g>\r\n     </g>\r\n     <g id=\"text_10\">\r\n      <!-- 0.0 -->\r\n      <g transform=\"translate(29.257812 155.920273)scale(0.1 -0.1)\">\r\n       <use xlink:href=\"#DejaVuSans-48\"/>\r\n       <use x=\"63.623047\" xlink:href=\"#DejaVuSans-46\"/>\r\n       <use x=\"95.410156\" xlink:href=\"#DejaVuSans-48\"/>\r\n      </g>\r\n     </g>\r\n    </g>\r\n    <g id=\"ytick_4\">\r\n     <g id=\"line2d_10\">\r\n      <g>\r\n       <use style=\"stroke:#000000;stroke-width:0.8;\" x=\"52.160938\" xlink:href=\"#m338f1ad90d\" y=\"116.949995\"/>\r\n      </g>\r\n     </g>\r\n     <g id=\"text_11\">\r\n      <!-- 0.5 -->\r\n      <g transform=\"translate(29.257812 120.749214)scale(0.1 -0.1)\">\r\n       <use xlink:href=\"#DejaVuSans-48\"/>\r\n       <use x=\"63.623047\" xlink:href=\"#DejaVuSans-46\"/>\r\n       <use x=\"95.410156\" xlink:href=\"#DejaVuSans-53\"/>\r\n      </g>\r\n     </g>\r\n    </g>\r\n    <g id=\"ytick_5\">\r\n     <g id=\"line2d_11\">\r\n      <g>\r\n       <use style=\"stroke:#000000;stroke-width:0.8;\" x=\"52.160938\" xlink:href=\"#m338f1ad90d\" y=\"81.778937\"/>\r\n      </g>\r\n     </g>\r\n     <g id=\"text_12\">\r\n      <!-- 1.0 -->\r\n      <g transform=\"translate(29.257812 85.578156)scale(0.1 -0.1)\">\r\n       <use xlink:href=\"#DejaVuSans-49\"/>\r\n       <use x=\"63.623047\" xlink:href=\"#DejaVuSans-46\"/>\r\n       <use x=\"95.410156\" xlink:href=\"#DejaVuSans-48\"/>\r\n      </g>\r\n     </g>\r\n    </g>\r\n    <g id=\"ytick_6\">\r\n     <g id=\"line2d_12\">\r\n      <g>\r\n       <use style=\"stroke:#000000;stroke-width:0.8;\" x=\"52.160938\" xlink:href=\"#m338f1ad90d\" y=\"46.607879\"/>\r\n      </g>\r\n     </g>\r\n     <g id=\"text_13\">\r\n      <!-- 1.5 -->\r\n      <g transform=\"translate(29.257812 50.407097)scale(0.1 -0.1)\">\r\n       <use xlink:href=\"#DejaVuSans-49\"/>\r\n       <use x=\"63.623047\" xlink:href=\"#DejaVuSans-46\"/>\r\n       <use x=\"95.410156\" xlink:href=\"#DejaVuSans-53\"/>\r\n      </g>\r\n     </g>\r\n    </g>\r\n    <g id=\"ytick_7\">\r\n     <g id=\"line2d_13\">\r\n      <g>\r\n       <use style=\"stroke:#000000;stroke-width:0.8;\" x=\"52.160938\" xlink:href=\"#m338f1ad90d\" y=\"11.43682\"/>\r\n      </g>\r\n     </g>\r\n     <g id=\"text_14\">\r\n      <!-- 2.0 -->\r\n      <g transform=\"translate(29.257812 15.236039)scale(0.1 -0.1)\">\r\n       <use xlink:href=\"#DejaVuSans-50\"/>\r\n       <use x=\"63.623047\" xlink:href=\"#DejaVuSans-46\"/>\r\n       <use x=\"95.410156\" xlink:href=\"#DejaVuSans-48\"/>\r\n      </g>\r\n     </g>\r\n    </g>\r\n    <g id=\"text_15\">\r\n     <!-- y -->\r\n     <g transform=\"translate(14.798438 118.879375)rotate(-90)scale(0.1 -0.1)\">\r\n      <defs>\r\n       <path d=\"M 32.171875 -5.078125 \r\nQ 28.375 -14.84375 24.75 -17.8125 \r\nQ 21.140625 -20.796875 15.09375 -20.796875 \r\nL 7.90625 -20.796875 \r\nL 7.90625 -13.28125 \r\nL 13.1875 -13.28125 \r\nQ 16.890625 -13.28125 18.9375 -11.515625 \r\nQ 21 -9.765625 23.484375 -3.21875 \r\nL 25.09375 0.875 \r\nL 2.984375 54.6875 \r\nL 12.5 54.6875 \r\nL 29.59375 11.921875 \r\nL 46.6875 54.6875 \r\nL 56.203125 54.6875 \r\nz\r\n\" id=\"DejaVuSans-121\"/>\r\n      </defs>\r\n      <use xlink:href=\"#DejaVuSans-121\"/>\r\n     </g>\r\n    </g>\r\n   </g>\r\n   <g id=\"line2d_14\">\r\n    <path clip-path=\"url(#pbd35b54e25)\" d=\"M 67.379119 106.397238 \r\nL 70.453499 103.259568 \r\nL 73.52788 100.139966 \r\nL 76.60226 97.042125 \r\nL 79.67664 93.97003 \r\nL 82.75102 90.927977 \r\nL 85.8254 87.920593 \r\nL 88.89978 84.952858 \r\nL 91.974161 82.030125 \r\nL 95.048541 79.158148 \r\nL 98.122921 76.343097 \r\nL 101.197301 73.591584 \r\nL 104.271681 70.910684 \r\nL 107.346061 68.30795 \r\nL 110.420442 65.791435 \r\nL 113.494822 63.369705 \r\nL 116.569202 61.051845 \r\nL 119.643582 58.84747 \r\nL 122.717962 56.76672 \r\nL 125.792342 54.820253 \r\nL 128.866723 53.019224 \r\nL 131.941103 51.375264 \r\nL 135.015483 49.900427 \r\nL 138.089863 48.607143 \r\nL 141.164243 47.508141 \r\nL 144.238623 46.616358 \r\nL 147.313004 45.944826 \r\nL 150.387384 45.506537 \r\nL 153.461764 45.314285 \r\nL 156.536144 45.380486 \r\nL 159.610524 45.716965 \r\nL 162.684904 46.334727 \r\nL 165.759285 47.243702 \r\nL 168.833665 48.452475 \r\nL 171.908045 49.96799 \r\nL 174.982425 51.795261 \r\nL 178.056805 53.937066 \r\nL 181.131185 56.393658 \r\nL 184.205566 59.162496 \r\nL 187.279946 62.237993 \r\nL 190.354326 65.611325 \r\nL 193.428706 69.270277 \r\nL 196.503086 73.19917 \r\nL 199.577466 77.378856 \r\nL 202.651847 81.786807 \r\nL 205.726227 86.397284 \r\nL 208.800607 91.181611 \r\nL 211.874987 96.108532 \r\nL 214.949367 101.14465 \r\nL 218.023747 106.254942 \r\nL 221.098128 111.403327 \r\nL 224.172508 116.553267 \r\nL 227.246888 121.668393 \r\nL 230.321268 126.713115 \r\nL 233.395648 131.653212 \r\nL 236.470028 136.456368 \r\nL 239.544409 141.092647 \r\nL 242.618789 145.534892 \r\nL 245.693169 149.759029 \r\nL 248.767549 153.744287 \r\nL 251.841929 157.473322 \r\nL 254.916309 160.93225 \r\nL 257.99069 164.110605 \r\nL 261.06507 167.001218 \r\nL 264.13945 169.600043 \r\nL 267.21383 171.905927 \r\nL 270.28821 173.920352 \r\nL 273.36259 175.64715 \r\nL 276.436971 177.092203 \r\nL 279.511351 178.263149 \r\nL 282.585731 179.169087 \r\nL 285.660111 179.820294 \r\nL 288.734491 180.227967 \r\nL 291.808871 180.403977 \r\nL 294.883252 180.360653 \r\nL 297.957632 180.110588 \r\nL 301.032012 179.666472 \r\nL 304.106392 179.040944 \r\nL 307.180772 178.246473 \r\nL 310.255152 177.295256 \r\nL 313.329533 176.199142 \r\nL 316.403913 174.96956 \r\nL 319.478293 173.617483 \r\nL 322.552673 172.153383 \r\nL 325.627053 170.587218 \r\nL 328.701433 168.928415 \r\nL 331.775814 167.185866 \r\nL 334.850194 165.367934 \r\nL 337.924574 163.482461 \r\nL 340.998954 161.536778 \r\nL 344.073334 159.537725 \r\nL 347.147714 157.491666 \r\nL 350.222095 155.404516 \r\nL 353.296475 153.281754 \r\nL 356.370855 151.128453 \r\nL 359.445235 148.949301 \r\nL 362.519615 146.748621 \r\nL 365.593995 144.530393 \r\nL 368.668376 142.298282 \r\nL 371.742756 140.055653 \r\n\" style=\"fill:none;stroke:#ff0000;stroke-linecap:square;stroke-width:1.5;\"/>\r\n   </g>\r\n   <g id=\"patch_3\">\r\n    <path d=\"M 52.160938 224.64 \r\nL 52.160938 7.2 \r\n\" style=\"fill:none;stroke:#000000;stroke-linecap:square;stroke-linejoin:miter;stroke-width:0.8;\"/>\r\n   </g>\r\n   <g id=\"patch_4\">\r\n    <path d=\"M 386.960938 224.64 \r\nL 386.960938 7.2 \r\n\" style=\"fill:none;stroke:#000000;stroke-linecap:square;stroke-linejoin:miter;stroke-width:0.8;\"/>\r\n   </g>\r\n   <g id=\"patch_5\">\r\n    <path d=\"M 52.160938 224.64 \r\nL 386.960938 224.64 \r\n\" style=\"fill:none;stroke:#000000;stroke-linecap:square;stroke-linejoin:miter;stroke-width:0.8;\"/>\r\n   </g>\r\n   <g id=\"patch_6\">\r\n    <path d=\"M 52.160938 7.2 \r\nL 386.960938 7.2 \r\n\" style=\"fill:none;stroke:#000000;stroke-linecap:square;stroke-linejoin:miter;stroke-width:0.8;\"/>\r\n   </g>\r\n  </g>\r\n </g>\r\n <defs>\r\n  <clipPath id=\"pbd35b54e25\">\r\n   <rect height=\"217.44\" width=\"334.8\" x=\"52.160938\" y=\"7.2\"/>\r\n  </clipPath>\r\n </defs>\r\n</svg>\r\n",
      "image/png": "[encoded data removed]"
     },
     "metadata": {
      "needs_background": "light"
     }
    }
   ],
   "source": [
    "import numpy as np \n",
    "from dezero import Variable\n",
    "import dezero.functions as F \n",
    "import dezero.layers as L \n",
    "import matplotlib.pyplot as plt\n",
    "\n",
    "# 데이터셋 \n",
    "np.random.seed(0)\n",
    "x = np.random.rand(100,1)\n",
    "y = np.sin(2 * np.pi * x) + np.random.rand(100,1)\n",
    "\n",
    "l1 = L.Linear(10)   # 출력 크기 지정 \n",
    "l2 = L.Linear(1)\n",
    "\n",
    "def predict(x):\n",
    "    y = l1(x)\n",
    "    y = F.sigmoid(y)\n",
    "    y = l2(y)\n",
    "    return y \n",
    "\n",
    "lr = 0.2 \n",
    "iters = 10000\n",
    "\n",
    "for i in range(iters):\n",
    "    y_pred = predict(x)\n",
    "    loss = F.mean_squared_error(y, y_pred)\n",
    "    l1.cleargrads()\n",
    "    l2.cleargrads()\n",
    "    loss.backward()\n",
    "\n",
    "    for l in [l1,l2]:\n",
    "        for p in l.params():\n",
    "            p.data -= lr * p.grad.data \n",
    "    \n",
    "    if i % 1000 == 0:\n",
    "        print(loss)\n",
    "\n",
    "\n",
    "# Plot\n",
    "plt.scatter(x, y, s=10)\n",
    "plt.xlabel('x')\n",
    "plt.ylabel('y')\n",
    "t = np.arange(0, 1, .01)[:, np.newaxis]\n",
    "y_pred = predict(t)\n",
    "plt.plot(t, y_pred.data, color='r')\n",
    "plt.show()"
   ]
  },
  {
   "cell_type": "code",
   "execution_count": null,
   "metadata": {},
   "outputs": [],
   "source": []
  }
 ]
}