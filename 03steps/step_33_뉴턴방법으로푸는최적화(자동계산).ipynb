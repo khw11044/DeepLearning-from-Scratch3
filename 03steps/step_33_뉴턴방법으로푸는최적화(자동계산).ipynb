{
 "metadata": {
  "language_info": {
   "codemirror_mode": {
    "name": "ipython",
    "version": 3
   },
   "file_extension": ".py",
   "mimetype": "text/x-python",
   "name": "python",
   "nbconvert_exporter": "python",
   "pygments_lexer": "ipython3",
   "version": "3.8.5-final"
  },
  "orig_nbformat": 2,
  "kernelspec": {
   "name": "python3",
   "display_name": "Python 3.8.5 64-bit (conda)",
   "metadata": {
    "interpreter": {
     "hash": "97ae724bfa85b9b34df7982b8bb8c7216f435b92902d749e4263f71162bea840"
    }
   }
  }
 },
 "nbformat": 4,
 "nbformat_minor": 2,
 "cells": [
  {
   "source": [
    "# Step 33, 뉴턴 방법으로 푸는 최적화(자동 계산)\n",
    "\n",
    "2차 미분을 자동으로 계산해본다.  \n",
    "미분값이 제대로 구했음을 확인한다.  \n",
    "뉴턴 방법을 사용해 최적화를 한다."
   ],
   "cell_type": "markdown",
   "metadata": {}
  },
  {
   "source": [
    "## 33.1 2차 미분 계산하기 \n",
    "\n",
    "$y=x^4-2x^2$를 2차 미분을 해본다."
   ],
   "cell_type": "markdown",
   "metadata": {}
  },
  {
   "source": [
    "그전에 core.py 코드를 수정해줘야한다.\n",
    "~~~python\n",
    "class Pow(Function):\n",
    "    def __init__(self, c):\n",
    "        self.c = c\n",
    "\n",
    "    def forward(self, x):\n",
    "        y = x ** self.c\n",
    "        return y\n",
    "\n",
    "    def backward(self, gy):\n",
    "        # x = self.inputs[0].data\n",
    "        x, = self.inputs\n",
    "        c = self.c\n",
    "        gx = c * x ** (c - 1) * gy\n",
    "        return gx\n",
    "\n",
    "\n",
    "def pow(x, c):\n",
    "    return Pow(c)(x)\n",
    "~~~"
   ],
   "cell_type": "markdown",
   "metadata": {}
  },
  {
   "cell_type": "code",
   "execution_count": 1,
   "metadata": {},
   "outputs": [
    {
     "output_type": "stream",
     "name": "stdout",
     "text": [
      "variable(24.0)\nvariable(68.0)\n"
     ]
    }
   ],
   "source": [
    "if '__file__' in globals():\n",
    "    import os, sys \n",
    "    sys.path.append(os.path.join(os.path.dirname(__file__), '..'))\n",
    "\n",
    "import numpy as np \n",
    "from dezero import Variable \n",
    "\n",
    "def f(x):\n",
    "    y = x**4 - 2*x**2 \n",
    "    return y \n",
    "\n",
    "x = Variable(np.array(2.0))\n",
    "y = f(x)\n",
    "y.backward(create_graph=True)   # 1\n",
    "print(x.grad)\n",
    "\n",
    "# 두번째 역전파 진행 \n",
    "gx = x.grad                     # 2\n",
    "gx.backward()                   # 3\n",
    "print(x.grad)"
   ]
  },
  {
   "source": [
    "1. y.backward(create_graph=True)에 의해 첫번째 역전파가 진행된다.  \n",
    "이때 인수 create_graph를 True로 지정하여 역전파 계산에 대해서도 계산 그래프를 만들게 한다.  \n",
    "\n",
    "2. 역전파 계산 그래프에 다시 역전파를 한다. x의 2차 미분을 계산해야 하므로  \n",
    "gx = x.grad 코드로 y의 x에 대한 미분값을 꺼낸다.  \n",
    "\n",
    "3. 미분값인 gx에서 한번더 역전파를 한다. gx의 x에 대한 미분을 구한다. : 2차 미분 \n",
    "\n",
    "$y'' = 12x^2 - 4$, $x=2$일때 44이다. 결과가 다른 이유는  \n",
    "\n",
    "1차 미분 결과인 24에 2차 미분결과인 44가 더해진 값이 나오기 때문이다.  \n",
    "즉, Variable에 미분값이 남아 있는 상태에서 새로운 역전파를 수행했디 때문에 새로운 미분값이 '더해진' 것이다.\n",
    "\n",
    "해결 : 새로운 계산을 하기전에 Variable의 미분값을 '재설정'해야 한다."
   ],
   "cell_type": "markdown",
   "metadata": {}
  },
  {
   "cell_type": "code",
   "execution_count": 2,
   "metadata": {},
   "outputs": [
    {
     "output_type": "stream",
     "name": "stdout",
     "text": [
      "variable(24.0)\nvariable(44.0)\n"
     ]
    }
   ],
   "source": [
    "x = Variable(np.array(2.0))\n",
    "y = f(x)\n",
    "y.backward(create_graph=True)   # 1\n",
    "print(x.grad)\n",
    "\n",
    "# 두번째 역전파 진행 \n",
    "gx = x.grad                     # 2\n",
    "x.cleargrad()   # gx.backward()를 하기전에 x.cleargrad()를 추가한다. \n",
    "gx.backward()                   # 3\n",
    "print(x.grad)"
   ]
  },
  {
   "source": [
    "## 33.2 뉴턴 방법을 활용한 최적화 \n",
    "\n",
    "뉴턴 방법을 활용한 최적화 수식 \n",
    "\n",
    "$$x \\leftarrow x - \\frac{f'(x)}{f''(x)}$$"
   ],
   "cell_type": "markdown",
   "metadata": {}
  },
  {
   "cell_type": "code",
   "execution_count": 3,
   "metadata": {},
   "outputs": [
    {
     "output_type": "stream",
     "name": "stdout",
     "text": [
      "0 variable(2.0)\n1 variable(1.4545454545454546)\n2 variable(1.1510467893775467)\n3 variable(1.0253259289766978)\n4 variable(1.0009084519430513)\n5 variable(1.0000012353089454)\n6 variable(1.000000000002289)\n7 variable(1.0)\n8 variable(1.0)\n9 variable(1.0)\n"
     ]
    }
   ],
   "source": [
    "import numpy as np \n",
    "from dezero import Variable\n",
    "\n",
    "def f(x):\n",
    "    y = x**4 - 2*x**2 \n",
    "    return y \n",
    "\n",
    "x = Variable(np.array(2.0))\n",
    "iters = 10 \n",
    "\n",
    "for i in range(iters):\n",
    "    print(i, x)\n",
    "\n",
    "    y = f(x)\n",
    "    x.cleargrad()\n",
    "    y.backward(create_graph=True)\n",
    "\n",
    "    gx = x.grad  # 미분 1번\n",
    "    x.cleargrad()\n",
    "    gx.backward()\n",
    "    gx2 = x.grad # 미분 2번\n",
    "\n",
    "    x.data -= gx.data / gx2.data \n",
    "    # 최솟값을 갖는 x의 위치는 1,-1이다."
   ]
  },
  {
   "cell_type": "code",
   "execution_count": null,
   "metadata": {},
   "outputs": [],
   "source": []
  }
 ]
}